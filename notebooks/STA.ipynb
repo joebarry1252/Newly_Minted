{
 "metadata": {
  "language_info": {
   "codemirror_mode": {
    "name": "ipython",
    "version": 3
   },
   "file_extension": ".py",
   "mimetype": "text/x-python",
   "name": "python",
   "nbconvert_exporter": "python",
   "pygments_lexer": "ipython3",
   "version": "3.8.5"
  },
  "orig_nbformat": 2,
  "kernelspec": {
   "name": "python3",
   "display_name": "Python 3.8.5 64-bit ('base': conda)",
   "metadata": {
    "interpreter": {
     "hash": "11ef2bb442b8455a3e6b82f3202efe5c7a01a00a0939705f79f87b65f8f45715"
    }
   }
  }
 },
 "nbformat": 4,
 "nbformat_minor": 2,
 "cells": [
  {
   "cell_type": "code",
   "execution_count": 32,
   "metadata": {},
   "outputs": [],
   "source": [
    "import os\n",
    "import requests\n",
    "import pandas as pd\n",
    "from dotenv import load_dotenv\n",
    "import alpaca_trade_api as tradeapi\n",
    "\n",
    "%matplotlib inline"
   ]
  },
  {
   "cell_type": "code",
   "execution_count": 33,
   "metadata": {},
   "outputs": [
    {
     "output_type": "execute_result",
     "data": {
      "text/plain": [
       "True"
      ]
     },
     "metadata": {},
     "execution_count": 33
    }
   ],
   "source": [
    "load_dotenv()"
   ]
  },
  {
   "cell_type": "code",
   "execution_count": 34,
   "metadata": {},
   "outputs": [],
   "source": [
    "alpaca_api_key = os.getenv(\"ALPACA_API_KEY\")\n",
    "alpaca_secret_key = os.getenv(\"ALPACA_SECRET_KEY\")\n",
    "alpaca = tradeapi.REST(\n",
    "    alpaca_api_key,\n",
    "    alpaca_secret_key,\n",
    "    api_version=\"v2\")"
   ]
  },
  {
   "cell_type": "code",
   "execution_count": 35,
   "metadata": {},
   "outputs": [
    {
     "output_type": "execute_result",
     "data": {
      "text/plain": [
       "                            GRUB                                     MCD  \\\n",
       "                            open    high    low   close   volume    open   \n",
       "2019-01-02 00:00:00-05:00  74.72  76.740  74.15  75.470  1605818  175.41   \n",
       "2019-01-03 00:00:00-05:00  73.90  74.860  70.99  71.335  1864315  175.45   \n",
       "2019-01-04 00:00:00-05:00  73.31  77.450  72.74  75.930  2557614  176.03   \n",
       "2019-01-07 00:00:00-05:00  76.55  80.575  75.64  79.780  1856083  178.14   \n",
       "2019-01-08 00:00:00-05:00  81.00  81.950  78.57  81.090  1183558  181.96   \n",
       "\n",
       "                                                                YUM         \\\n",
       "                             high       low   close   volume   open   high   \n",
       "2019-01-02 00:00:00-05:00  176.30  174.1680  176.07  1996182  91.09  91.49   \n",
       "2019-01-03 00:00:00-05:00  176.45  174.4100  175.01  2846165  91.00  91.00   \n",
       "2019-01-04 00:00:00-05:00  179.20  175.6901  178.30  2376882  90.19  92.34   \n",
       "2019-01-07 00:00:00-05:00  181.88  178.1400  180.27  2176986  91.40  92.22   \n",
       "2019-01-08 00:00:00-05:00  182.29  179.9100  180.67  2194645  91.67  91.94   \n",
       "\n",
       "                                                     \n",
       "                              low  close     volume  \n",
       "2019-01-02 00:00:00-05:00  90.350  91.41  1260394.0  \n",
       "2019-01-03 00:00:00-05:00  88.785  89.09  1344668.0  \n",
       "2019-01-04 00:00:00-05:00  90.040  91.49  1320748.0  \n",
       "2019-01-07 00:00:00-05:00  91.120  91.38  1897257.0  \n",
       "2019-01-08 00:00:00-05:00  89.960  91.13  2139647.0  "
      ],
      "text/html": "<div>\n<style scoped>\n    .dataframe tbody tr th:only-of-type {\n        vertical-align: middle;\n    }\n\n    .dataframe tbody tr th {\n        vertical-align: top;\n    }\n\n    .dataframe thead tr th {\n        text-align: left;\n    }\n</style>\n<table border=\"1\" class=\"dataframe\">\n  <thead>\n    <tr>\n      <th></th>\n      <th colspan=\"5\" halign=\"left\">GRUB</th>\n      <th colspan=\"5\" halign=\"left\">MCD</th>\n      <th colspan=\"5\" halign=\"left\">YUM</th>\n    </tr>\n    <tr>\n      <th></th>\n      <th>open</th>\n      <th>high</th>\n      <th>low</th>\n      <th>close</th>\n      <th>volume</th>\n      <th>open</th>\n      <th>high</th>\n      <th>low</th>\n      <th>close</th>\n      <th>volume</th>\n      <th>open</th>\n      <th>high</th>\n      <th>low</th>\n      <th>close</th>\n      <th>volume</th>\n    </tr>\n  </thead>\n  <tbody>\n    <tr>\n      <th>2019-01-02 00:00:00-05:00</th>\n      <td>74.72</td>\n      <td>76.740</td>\n      <td>74.15</td>\n      <td>75.470</td>\n      <td>1605818</td>\n      <td>175.41</td>\n      <td>176.30</td>\n      <td>174.1680</td>\n      <td>176.07</td>\n      <td>1996182</td>\n      <td>91.09</td>\n      <td>91.49</td>\n      <td>90.350</td>\n      <td>91.41</td>\n      <td>1260394.0</td>\n    </tr>\n    <tr>\n      <th>2019-01-03 00:00:00-05:00</th>\n      <td>73.90</td>\n      <td>74.860</td>\n      <td>70.99</td>\n      <td>71.335</td>\n      <td>1864315</td>\n      <td>175.45</td>\n      <td>176.45</td>\n      <td>174.4100</td>\n      <td>175.01</td>\n      <td>2846165</td>\n      <td>91.00</td>\n      <td>91.00</td>\n      <td>88.785</td>\n      <td>89.09</td>\n      <td>1344668.0</td>\n    </tr>\n    <tr>\n      <th>2019-01-04 00:00:00-05:00</th>\n      <td>73.31</td>\n      <td>77.450</td>\n      <td>72.74</td>\n      <td>75.930</td>\n      <td>2557614</td>\n      <td>176.03</td>\n      <td>179.20</td>\n      <td>175.6901</td>\n      <td>178.30</td>\n      <td>2376882</td>\n      <td>90.19</td>\n      <td>92.34</td>\n      <td>90.040</td>\n      <td>91.49</td>\n      <td>1320748.0</td>\n    </tr>\n    <tr>\n      <th>2019-01-07 00:00:00-05:00</th>\n      <td>76.55</td>\n      <td>80.575</td>\n      <td>75.64</td>\n      <td>79.780</td>\n      <td>1856083</td>\n      <td>178.14</td>\n      <td>181.88</td>\n      <td>178.1400</td>\n      <td>180.27</td>\n      <td>2176986</td>\n      <td>91.40</td>\n      <td>92.22</td>\n      <td>91.120</td>\n      <td>91.38</td>\n      <td>1897257.0</td>\n    </tr>\n    <tr>\n      <th>2019-01-08 00:00:00-05:00</th>\n      <td>81.00</td>\n      <td>81.950</td>\n      <td>78.57</td>\n      <td>81.090</td>\n      <td>1183558</td>\n      <td>181.96</td>\n      <td>182.29</td>\n      <td>179.9100</td>\n      <td>180.67</td>\n      <td>2194645</td>\n      <td>91.67</td>\n      <td>91.94</td>\n      <td>89.960</td>\n      <td>91.13</td>\n      <td>2139647.0</td>\n    </tr>\n  </tbody>\n</table>\n</div>"
     },
     "metadata": {},
     "execution_count": 35
    }
   ],
   "source": [
    "timeframe = \"1D\"\n",
    "# Set start and end datetimes between now and 3 years ago.\n",
    "start_date = pd.Timestamp(\"2019-01-01\", tz=\"America/New_York\").isoformat()\n",
    "end_date = pd.Timestamp(\"2019-12-31\", tz=\"America/New_York\").isoformat()\n",
    "\n",
    "# Set the ticker information\n",
    "tickers = [\"YUM\", \"GRUB\", \"MCD\"]\n",
    "\n",
    "# Get 3 year's worth of historical price data for Microsoft and Coca-Cola\n",
    "pre_covid_ticker = alpaca.get_barset(\n",
    "    tickers,\n",
    "    timeframe,\n",
    "    start=start_date,\n",
    "    end=end_date,\n",
    "    limit=1000,\n",
    ").df\n",
    "\n",
    "# Display sample data\n",
    "df_ticker.head()"
   ]
  },
  {
   "cell_type": "code",
   "execution_count": 39,
   "metadata": {},
   "outputs": [
    {
     "output_type": "execute_result",
     "data": {
      "text/plain": [
       "                 YUM      GRUB       MCD\n",
       "2019-01-03 -0.025380 -0.054790 -0.006020\n",
       "2019-01-04  0.026939  0.064414  0.018799\n",
       "2019-01-07 -0.001202  0.050705  0.011049\n",
       "2019-01-08 -0.002736  0.016420  0.002219\n",
       "2019-01-09 -0.000329 -0.010359 -0.002934\n",
       "2019-01-10  0.006037  0.008100  0.007217\n",
       "2019-01-11 -0.008947 -0.027874  0.004685\n",
       "2019-01-14 -0.009138 -0.009346 -0.005595\n",
       "2019-01-15  0.004000 -0.018483  0.000441\n",
       "2019-01-16 -0.006474  0.019877 -0.011139"
      ],
      "text/html": "<div>\n<style scoped>\n    .dataframe tbody tr th:only-of-type {\n        vertical-align: middle;\n    }\n\n    .dataframe tbody tr th {\n        vertical-align: top;\n    }\n\n    .dataframe thead th {\n        text-align: right;\n    }\n</style>\n<table border=\"1\" class=\"dataframe\">\n  <thead>\n    <tr style=\"text-align: right;\">\n      <th></th>\n      <th>YUM</th>\n      <th>GRUB</th>\n      <th>MCD</th>\n    </tr>\n  </thead>\n  <tbody>\n    <tr>\n      <th>2019-01-03</th>\n      <td>-0.025380</td>\n      <td>-0.054790</td>\n      <td>-0.006020</td>\n    </tr>\n    <tr>\n      <th>2019-01-04</th>\n      <td>0.026939</td>\n      <td>0.064414</td>\n      <td>0.018799</td>\n    </tr>\n    <tr>\n      <th>2019-01-07</th>\n      <td>-0.001202</td>\n      <td>0.050705</td>\n      <td>0.011049</td>\n    </tr>\n    <tr>\n      <th>2019-01-08</th>\n      <td>-0.002736</td>\n      <td>0.016420</td>\n      <td>0.002219</td>\n    </tr>\n    <tr>\n      <th>2019-01-09</th>\n      <td>-0.000329</td>\n      <td>-0.010359</td>\n      <td>-0.002934</td>\n    </tr>\n    <tr>\n      <th>2019-01-10</th>\n      <td>0.006037</td>\n      <td>0.008100</td>\n      <td>0.007217</td>\n    </tr>\n    <tr>\n      <th>2019-01-11</th>\n      <td>-0.008947</td>\n      <td>-0.027874</td>\n      <td>0.004685</td>\n    </tr>\n    <tr>\n      <th>2019-01-14</th>\n      <td>-0.009138</td>\n      <td>-0.009346</td>\n      <td>-0.005595</td>\n    </tr>\n    <tr>\n      <th>2019-01-15</th>\n      <td>0.004000</td>\n      <td>-0.018483</td>\n      <td>0.000441</td>\n    </tr>\n    <tr>\n      <th>2019-01-16</th>\n      <td>-0.006474</td>\n      <td>0.019877</td>\n      <td>-0.011139</td>\n    </tr>\n  </tbody>\n</table>\n</div>"
     },
     "metadata": {},
     "execution_count": 39
    }
   ],
   "source": [
    "pre_covid_df = pd.DataFrame()\n",
    "pre_covid_df[\"YUM\"] = pre_covid_ticker[\"YUM\"][\"close\"]\n",
    "pre_covid_df[\"GRUB\"] = pre_covid_ticker[\"GRUB\"][\"close\"]\n",
    "pre_covid_df[\"MCD\"] = pre_covid_ticker[\"MCD\"][\"close\"]\n",
    "pre_covid_df.index = pre_covid_df.index.date\n",
    "pre_covid_returns = pre_covid_df.pct_change().dropna()\n",
    "pre_covid_returns.head(10)"
   ]
  },
  {
   "cell_type": "code",
   "execution_count": 40,
   "metadata": {},
   "outputs": [
    {
     "output_type": "execute_result",
     "data": {
      "text/plain": [
       "              YUM        GRUB         MCD\n",
       "count  251.000000  251.000000  251.000000\n",
       "mean     0.000438   -0.000776    0.000504\n",
       "std      0.010015    0.040313    0.009457\n",
       "min     -0.058320   -0.432951   -0.050226\n",
       "25%     -0.004169   -0.015515   -0.004743\n",
       "50%      0.000324    0.002275    0.001392\n",
       "75%      0.005892    0.019965    0.006655\n",
       "max      0.045450    0.083681    0.022430"
      ],
      "text/html": "<div>\n<style scoped>\n    .dataframe tbody tr th:only-of-type {\n        vertical-align: middle;\n    }\n\n    .dataframe tbody tr th {\n        vertical-align: top;\n    }\n\n    .dataframe thead th {\n        text-align: right;\n    }\n</style>\n<table border=\"1\" class=\"dataframe\">\n  <thead>\n    <tr style=\"text-align: right;\">\n      <th></th>\n      <th>YUM</th>\n      <th>GRUB</th>\n      <th>MCD</th>\n    </tr>\n  </thead>\n  <tbody>\n    <tr>\n      <th>count</th>\n      <td>251.000000</td>\n      <td>251.000000</td>\n      <td>251.000000</td>\n    </tr>\n    <tr>\n      <th>mean</th>\n      <td>0.000438</td>\n      <td>-0.000776</td>\n      <td>0.000504</td>\n    </tr>\n    <tr>\n      <th>std</th>\n      <td>0.010015</td>\n      <td>0.040313</td>\n      <td>0.009457</td>\n    </tr>\n    <tr>\n      <th>min</th>\n      <td>-0.058320</td>\n      <td>-0.432951</td>\n      <td>-0.050226</td>\n    </tr>\n    <tr>\n      <th>25%</th>\n      <td>-0.004169</td>\n      <td>-0.015515</td>\n      <td>-0.004743</td>\n    </tr>\n    <tr>\n      <th>50%</th>\n      <td>0.000324</td>\n      <td>0.002275</td>\n      <td>0.001392</td>\n    </tr>\n    <tr>\n      <th>75%</th>\n      <td>0.005892</td>\n      <td>0.019965</td>\n      <td>0.006655</td>\n    </tr>\n    <tr>\n      <th>max</th>\n      <td>0.045450</td>\n      <td>0.083681</td>\n      <td>0.022430</td>\n    </tr>\n  </tbody>\n</table>\n</div>"
     },
     "metadata": {},
     "execution_count": 40
    }
   ],
   "source": [
    "pre_covid_returns.describe()"
   ]
  },
  {
   "cell_type": "code",
   "execution_count": 41,
   "metadata": {},
   "outputs": [
    {
     "output_type": "execute_result",
     "data": {
      "text/plain": [
       "                 YUM      GRUB       MCD\n",
       "2019-01-03 -0.025380 -0.054790 -0.006020\n",
       "2019-01-04  0.026939  0.064414  0.018799\n",
       "2019-01-07 -0.001202  0.050705  0.011049\n",
       "2019-01-08 -0.002736  0.016420  0.002219\n",
       "2019-01-09 -0.000329 -0.010359 -0.002934"
      ],
      "text/html": "<div>\n<style scoped>\n    .dataframe tbody tr th:only-of-type {\n        vertical-align: middle;\n    }\n\n    .dataframe tbody tr th {\n        vertical-align: top;\n    }\n\n    .dataframe thead th {\n        text-align: right;\n    }\n</style>\n<table border=\"1\" class=\"dataframe\">\n  <thead>\n    <tr style=\"text-align: right;\">\n      <th></th>\n      <th>YUM</th>\n      <th>GRUB</th>\n      <th>MCD</th>\n    </tr>\n  </thead>\n  <tbody>\n    <tr>\n      <th>2019-01-03</th>\n      <td>-0.025380</td>\n      <td>-0.054790</td>\n      <td>-0.006020</td>\n    </tr>\n    <tr>\n      <th>2019-01-04</th>\n      <td>0.026939</td>\n      <td>0.064414</td>\n      <td>0.018799</td>\n    </tr>\n    <tr>\n      <th>2019-01-07</th>\n      <td>-0.001202</td>\n      <td>0.050705</td>\n      <td>0.011049</td>\n    </tr>\n    <tr>\n      <th>2019-01-08</th>\n      <td>-0.002736</td>\n      <td>0.016420</td>\n      <td>0.002219</td>\n    </tr>\n    <tr>\n      <th>2019-01-09</th>\n      <td>-0.000329</td>\n      <td>-0.010359</td>\n      <td>-0.002934</td>\n    </tr>\n  </tbody>\n</table>\n</div>"
     },
     "metadata": {},
     "execution_count": 41
    }
   ],
   "source": [
    "pre_covid_returns.head()"
   ]
  },
  {
   "cell_type": "code",
   "execution_count": 42,
   "metadata": {},
   "outputs": [],
   "source": [
    "pre_covid_annual_returns = pre_covid_returns.pct_change(251).dropna()"
   ]
  },
  {
   "cell_type": "code",
   "execution_count": null,
   "metadata": {},
   "outputs": [],
   "source": []
  }
 ]
}