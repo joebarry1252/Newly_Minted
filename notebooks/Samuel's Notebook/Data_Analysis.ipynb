{
 "metadata": {
  "language_info": {
   "codemirror_mode": {
    "name": "ipython",
    "version": 3
   },
   "file_extension": ".py",
   "mimetype": "text/x-python",
   "name": "python",
   "nbconvert_exporter": "python",
   "pygments_lexer": "ipython3",
   "version": "3.8.5"
  },
  "orig_nbformat": 2,
  "kernelspec": {
   "name": "python3",
   "display_name": "Python 3.8.5 64-bit ('base': conda)",
   "metadata": {
    "interpreter": {
     "hash": "11ef2bb442b8455a3e6b82f3202efe5c7a01a00a0939705f79f87b65f8f45715"
    }
   }
  }
 },
 "nbformat": 4,
 "nbformat_minor": 2,
 "cells": [
  {
   "cell_type": "code",
   "execution_count": 52,
   "metadata": {},
   "outputs": [],
   "source": [
    "import requests\n",
    "import pandas as pd\n",
    "from dotenv import load_dotenv\n",
    "import alpaca_trade_api as tradeapi\n",
    "import numpy as np\n",
    "import datetime as dt\n",
    "from pathlib import Path\n",
    "import os\n",
    "import csv\n",
    "%matplotlib inline"
   ]
  },
  {
   "cell_type": "code",
   "execution_count": 31,
   "metadata": {},
   "outputs": [
    {
     "output_type": "execute_result",
     "data": {
      "text/plain": [
       "True"
      ]
     },
     "metadata": {},
     "execution_count": 31
    }
   ],
   "source": [
    "load_dotenv()"
   ]
  },
  {
   "cell_type": "code",
   "execution_count": 32,
   "metadata": {},
   "outputs": [],
   "source": [
    "alpaca_api_key = os.getenv(\"ALPACA_API_KEY\")\n",
    "alpaca_secret_key = os.getenv(\"ALPACA_SECRET_KEY\")\n",
    "alpaca = tradeapi.REST(\n",
    "    alpaca_api_key,\n",
    "    alpaca_secret_key,\n",
    "    api_version=\"v2\")"
   ]
  },
  {
   "cell_type": "code",
   "execution_count": 33,
   "metadata": {},
   "outputs": [
    {
     "output_type": "execute_result",
     "data": {
      "text/plain": [
       "                            GRUB                                     MCD  \\\n",
       "                            open   high      low  close   volume    open   \n",
       "2018-01-02 00:00:00-05:00  71.54  72.01  70.2600  71.27  1255728  173.73   \n",
       "2018-01-03 00:00:00-05:00  71.45  71.78  70.9100  71.31   714615  173.23   \n",
       "2018-01-04 00:00:00-05:00  71.93  72.60  70.9900  71.87   843995  173.24   \n",
       "2018-01-05 00:00:00-05:00  72.43  73.02  71.3796  72.96  1126306  174.00   \n",
       "2018-01-08 00:00:00-05:00  71.50  72.10  70.8200  71.33   959352  173.74   \n",
       "\n",
       "                                                                YUM         \\\n",
       "                               high     low   close   volume   open   high   \n",
       "2018-01-02 00:00:00-05:00  174.4799  172.66  173.22  2344135  82.15  82.46   \n",
       "2018-01-03 00:00:00-05:00  173.6400  172.00  172.49  2706678  81.23  81.82   \n",
       "2018-01-04 00:00:00-05:00  174.1300  172.73  173.75  1860820  81.75  82.59   \n",
       "2018-01-05 00:00:00-05:00  175.0000  173.40  174.04  2031490  82.59  83.01   \n",
       "2018-01-08 00:00:00-05:00  174.2100  172.93  173.92  1401313  82.72  83.06   \n",
       "\n",
       "                                                  \n",
       "                             low  close   volume  \n",
       "2018-01-02 00:00:00-05:00  81.48  81.61  1089380  \n",
       "2018-01-03 00:00:00-05:00  81.17  81.53  1923085  \n",
       "2018-01-04 00:00:00-05:00  81.53  82.35  1585861  \n",
       "2018-01-05 00:00:00-05:00  82.36  82.84  1542610  \n",
       "2018-01-08 00:00:00-05:00  82.12  82.96  1309538  "
      ],
      "text/html": "<div>\n<style scoped>\n    .dataframe tbody tr th:only-of-type {\n        vertical-align: middle;\n    }\n\n    .dataframe tbody tr th {\n        vertical-align: top;\n    }\n\n    .dataframe thead tr th {\n        text-align: left;\n    }\n</style>\n<table border=\"1\" class=\"dataframe\">\n  <thead>\n    <tr>\n      <th></th>\n      <th colspan=\"5\" halign=\"left\">GRUB</th>\n      <th colspan=\"5\" halign=\"left\">MCD</th>\n      <th colspan=\"5\" halign=\"left\">YUM</th>\n    </tr>\n    <tr>\n      <th></th>\n      <th>open</th>\n      <th>high</th>\n      <th>low</th>\n      <th>close</th>\n      <th>volume</th>\n      <th>open</th>\n      <th>high</th>\n      <th>low</th>\n      <th>close</th>\n      <th>volume</th>\n      <th>open</th>\n      <th>high</th>\n      <th>low</th>\n      <th>close</th>\n      <th>volume</th>\n    </tr>\n  </thead>\n  <tbody>\n    <tr>\n      <th>2018-01-02 00:00:00-05:00</th>\n      <td>71.54</td>\n      <td>72.01</td>\n      <td>70.2600</td>\n      <td>71.27</td>\n      <td>1255728</td>\n      <td>173.73</td>\n      <td>174.4799</td>\n      <td>172.66</td>\n      <td>173.22</td>\n      <td>2344135</td>\n      <td>82.15</td>\n      <td>82.46</td>\n      <td>81.48</td>\n      <td>81.61</td>\n      <td>1089380</td>\n    </tr>\n    <tr>\n      <th>2018-01-03 00:00:00-05:00</th>\n      <td>71.45</td>\n      <td>71.78</td>\n      <td>70.9100</td>\n      <td>71.31</td>\n      <td>714615</td>\n      <td>173.23</td>\n      <td>173.6400</td>\n      <td>172.00</td>\n      <td>172.49</td>\n      <td>2706678</td>\n      <td>81.23</td>\n      <td>81.82</td>\n      <td>81.17</td>\n      <td>81.53</td>\n      <td>1923085</td>\n    </tr>\n    <tr>\n      <th>2018-01-04 00:00:00-05:00</th>\n      <td>71.93</td>\n      <td>72.60</td>\n      <td>70.9900</td>\n      <td>71.87</td>\n      <td>843995</td>\n      <td>173.24</td>\n      <td>174.1300</td>\n      <td>172.73</td>\n      <td>173.75</td>\n      <td>1860820</td>\n      <td>81.75</td>\n      <td>82.59</td>\n      <td>81.53</td>\n      <td>82.35</td>\n      <td>1585861</td>\n    </tr>\n    <tr>\n      <th>2018-01-05 00:00:00-05:00</th>\n      <td>72.43</td>\n      <td>73.02</td>\n      <td>71.3796</td>\n      <td>72.96</td>\n      <td>1126306</td>\n      <td>174.00</td>\n      <td>175.0000</td>\n      <td>173.40</td>\n      <td>174.04</td>\n      <td>2031490</td>\n      <td>82.59</td>\n      <td>83.01</td>\n      <td>82.36</td>\n      <td>82.84</td>\n      <td>1542610</td>\n    </tr>\n    <tr>\n      <th>2018-01-08 00:00:00-05:00</th>\n      <td>71.50</td>\n      <td>72.10</td>\n      <td>70.8200</td>\n      <td>71.33</td>\n      <td>959352</td>\n      <td>173.74</td>\n      <td>174.2100</td>\n      <td>172.93</td>\n      <td>173.92</td>\n      <td>1401313</td>\n      <td>82.72</td>\n      <td>83.06</td>\n      <td>82.12</td>\n      <td>82.96</td>\n      <td>1309538</td>\n    </tr>\n  </tbody>\n</table>\n</div>"
     },
     "metadata": {},
     "execution_count": 33
    }
   ],
   "source": [
    "timeframe = \"1D\"\n",
    "# Set start and end datetimes between now and 3 years ago.\n",
    "start_date = pd.Timestamp(\"2018-01-01\", tz=\"America/New_York\").isoformat()\n",
    "end_date = pd.Timestamp(\"2018-12-31\", tz=\"America/New_York\").isoformat()\n",
    "\n",
    "# Set the ticker information\n",
    "tickers = [\"YUM\", \"GRUB\", \"MCD\"]\n",
    "\n",
    "# Get 3 year's worth of historical price data for Microsoft and Coca-Cola\n",
    "pre_covid_ticker = alpaca.get_barset(\n",
    "    tickers,\n",
    "    timeframe,\n",
    "    start=start_date,\n",
    "    end=end_date,\n",
    "    limit=1000,\n",
    ").df\n",
    "\n",
    "# Display sample data\n",
    "pre_covid_ticker.head()"
   ]
  },
  {
   "cell_type": "code",
   "execution_count": 34,
   "metadata": {},
   "outputs": [
    {
     "output_type": "execute_result",
     "data": {
      "text/plain": [
       "                 YUM      GRUB       MCD\n",
       "2018-01-03 -0.000980  0.000561 -0.004214\n",
       "2018-01-04  0.010058  0.007853  0.007305\n",
       "2018-01-05  0.005950  0.015166  0.001669\n",
       "2018-01-08  0.001449 -0.022341 -0.000689\n",
       "2018-01-09 -0.002290 -0.030282 -0.002242\n",
       "2018-01-10 -0.002658 -0.038311 -0.000058\n",
       "2018-01-11 -0.000848  0.025556 -0.000864\n",
       "2018-01-12  0.014064  0.035327  0.001038\n",
       "2018-01-16 -0.008608 -0.010760  0.000691\n",
       "2018-01-17  0.001930  0.013310  0.007428"
      ],
      "text/html": "<div>\n<style scoped>\n    .dataframe tbody tr th:only-of-type {\n        vertical-align: middle;\n    }\n\n    .dataframe tbody tr th {\n        vertical-align: top;\n    }\n\n    .dataframe thead th {\n        text-align: right;\n    }\n</style>\n<table border=\"1\" class=\"dataframe\">\n  <thead>\n    <tr style=\"text-align: right;\">\n      <th></th>\n      <th>YUM</th>\n      <th>GRUB</th>\n      <th>MCD</th>\n    </tr>\n  </thead>\n  <tbody>\n    <tr>\n      <th>2018-01-03</th>\n      <td>-0.000980</td>\n      <td>0.000561</td>\n      <td>-0.004214</td>\n    </tr>\n    <tr>\n      <th>2018-01-04</th>\n      <td>0.010058</td>\n      <td>0.007853</td>\n      <td>0.007305</td>\n    </tr>\n    <tr>\n      <th>2018-01-05</th>\n      <td>0.005950</td>\n      <td>0.015166</td>\n      <td>0.001669</td>\n    </tr>\n    <tr>\n      <th>2018-01-08</th>\n      <td>0.001449</td>\n      <td>-0.022341</td>\n      <td>-0.000689</td>\n    </tr>\n    <tr>\n      <th>2018-01-09</th>\n      <td>-0.002290</td>\n      <td>-0.030282</td>\n      <td>-0.002242</td>\n    </tr>\n    <tr>\n      <th>2018-01-10</th>\n      <td>-0.002658</td>\n      <td>-0.038311</td>\n      <td>-0.000058</td>\n    </tr>\n    <tr>\n      <th>2018-01-11</th>\n      <td>-0.000848</td>\n      <td>0.025556</td>\n      <td>-0.000864</td>\n    </tr>\n    <tr>\n      <th>2018-01-12</th>\n      <td>0.014064</td>\n      <td>0.035327</td>\n      <td>0.001038</td>\n    </tr>\n    <tr>\n      <th>2018-01-16</th>\n      <td>-0.008608</td>\n      <td>-0.010760</td>\n      <td>0.000691</td>\n    </tr>\n    <tr>\n      <th>2018-01-17</th>\n      <td>0.001930</td>\n      <td>0.013310</td>\n      <td>0.007428</td>\n    </tr>\n  </tbody>\n</table>\n</div>"
     },
     "metadata": {},
     "execution_count": 34
    }
   ],
   "source": [
    "pre_covid_df = pd.DataFrame()\n",
    "pre_covid_df[\"YUM\"] = pre_covid_ticker[\"YUM\"][\"close\"]\n",
    "pre_covid_df[\"GRUB\"] = pre_covid_ticker[\"GRUB\"][\"close\"]\n",
    "pre_covid_df[\"MCD\"] = pre_covid_ticker[\"MCD\"][\"close\"]\n",
    "pre_covid_df.index = pre_covid_df.index.date\n",
    "pre_covid_returns = pre_covid_df.pct_change().dropna()\n",
    "pre_covid_returns.head(10)"
   ]
  },
  {
   "cell_type": "code",
   "execution_count": 35,
   "metadata": {},
   "outputs": [
    {
     "output_type": "execute_result",
     "data": {
      "text/plain": [
       "              YUM        GRUB         MCD\n",
       "count  250.000000  250.000000  250.000000\n",
       "mean     0.000537    0.000868    0.000162\n",
       "std      0.012369    0.035962    0.012963\n",
       "min     -0.075378   -0.119226   -0.047848\n",
       "25%     -0.004750   -0.014725   -0.005455\n",
       "50%      0.001243    0.000828    0.000002\n",
       "75%      0.007164    0.016437    0.006691\n",
       "max      0.045802    0.275082    0.062995"
      ],
      "text/html": "<div>\n<style scoped>\n    .dataframe tbody tr th:only-of-type {\n        vertical-align: middle;\n    }\n\n    .dataframe tbody tr th {\n        vertical-align: top;\n    }\n\n    .dataframe thead th {\n        text-align: right;\n    }\n</style>\n<table border=\"1\" class=\"dataframe\">\n  <thead>\n    <tr style=\"text-align: right;\">\n      <th></th>\n      <th>YUM</th>\n      <th>GRUB</th>\n      <th>MCD</th>\n    </tr>\n  </thead>\n  <tbody>\n    <tr>\n      <th>count</th>\n      <td>250.000000</td>\n      <td>250.000000</td>\n      <td>250.000000</td>\n    </tr>\n    <tr>\n      <th>mean</th>\n      <td>0.000537</td>\n      <td>0.000868</td>\n      <td>0.000162</td>\n    </tr>\n    <tr>\n      <th>std</th>\n      <td>0.012369</td>\n      <td>0.035962</td>\n      <td>0.012963</td>\n    </tr>\n    <tr>\n      <th>min</th>\n      <td>-0.075378</td>\n      <td>-0.119226</td>\n      <td>-0.047848</td>\n    </tr>\n    <tr>\n      <th>25%</th>\n      <td>-0.004750</td>\n      <td>-0.014725</td>\n      <td>-0.005455</td>\n    </tr>\n    <tr>\n      <th>50%</th>\n      <td>0.001243</td>\n      <td>0.000828</td>\n      <td>0.000002</td>\n    </tr>\n    <tr>\n      <th>75%</th>\n      <td>0.007164</td>\n      <td>0.016437</td>\n      <td>0.006691</td>\n    </tr>\n    <tr>\n      <th>max</th>\n      <td>0.045802</td>\n      <td>0.275082</td>\n      <td>0.062995</td>\n    </tr>\n  </tbody>\n</table>\n</div>"
     },
     "metadata": {},
     "execution_count": 35
    }
   ],
   "source": [
    "pre_covid_returns.describe()"
   ]
  },
  {
   "cell_type": "code",
   "execution_count": 36,
   "metadata": {},
   "outputs": [
    {
     "output_type": "execute_result",
     "data": {
      "text/plain": [
       "                 YUM      GRUB       MCD\n",
       "2018-01-03 -0.000980  0.000561 -0.004214\n",
       "2018-01-04  0.010058  0.007853  0.007305\n",
       "2018-01-05  0.005950  0.015166  0.001669\n",
       "2018-01-08  0.001449 -0.022341 -0.000689\n",
       "2018-01-09 -0.002290 -0.030282 -0.002242"
      ],
      "text/html": "<div>\n<style scoped>\n    .dataframe tbody tr th:only-of-type {\n        vertical-align: middle;\n    }\n\n    .dataframe tbody tr th {\n        vertical-align: top;\n    }\n\n    .dataframe thead th {\n        text-align: right;\n    }\n</style>\n<table border=\"1\" class=\"dataframe\">\n  <thead>\n    <tr style=\"text-align: right;\">\n      <th></th>\n      <th>YUM</th>\n      <th>GRUB</th>\n      <th>MCD</th>\n    </tr>\n  </thead>\n  <tbody>\n    <tr>\n      <th>2018-01-03</th>\n      <td>-0.000980</td>\n      <td>0.000561</td>\n      <td>-0.004214</td>\n    </tr>\n    <tr>\n      <th>2018-01-04</th>\n      <td>0.010058</td>\n      <td>0.007853</td>\n      <td>0.007305</td>\n    </tr>\n    <tr>\n      <th>2018-01-05</th>\n      <td>0.005950</td>\n      <td>0.015166</td>\n      <td>0.001669</td>\n    </tr>\n    <tr>\n      <th>2018-01-08</th>\n      <td>0.001449</td>\n      <td>-0.022341</td>\n      <td>-0.000689</td>\n    </tr>\n    <tr>\n      <th>2018-01-09</th>\n      <td>-0.002290</td>\n      <td>-0.030282</td>\n      <td>-0.002242</td>\n    </tr>\n  </tbody>\n</table>\n</div>"
     },
     "metadata": {},
     "execution_count": 36
    }
   ],
   "source": [
    "pre_covid_returns.head()"
   ]
  },
  {
   "cell_type": "code",
   "execution_count": 37,
   "metadata": {},
   "outputs": [],
   "source": [
    "pre_covid_annual_returns = pre_covid_returns.pct_change(251).dropna()"
   ]
  },
  {
   "cell_type": "code",
   "execution_count": 39,
   "metadata": {},
   "outputs": [
    {
     "output_type": "execute_result",
     "data": {
      "text/plain": [
       "YUM     0.012369\n",
       "GRUB    0.035962\n",
       "MCD     0.012963\n",
       "dtype: float64"
      ]
     },
     "metadata": {},
     "execution_count": 39
    }
   ],
   "source": [
    "pre_covid_returns.std()"
   ]
  },
  {
   "cell_type": "code",
   "execution_count": 40,
   "metadata": {},
   "outputs": [
    {
     "output_type": "execute_result",
     "data": {
      "text/plain": [
       "      2018 Std\n",
       "YUM   0.012369\n",
       "GRUB  0.035962\n",
       "MCD   0.012963"
      ],
      "text/html": "<div>\n<style scoped>\n    .dataframe tbody tr th:only-of-type {\n        vertical-align: middle;\n    }\n\n    .dataframe tbody tr th {\n        vertical-align: top;\n    }\n\n    .dataframe thead th {\n        text-align: right;\n    }\n</style>\n<table border=\"1\" class=\"dataframe\">\n  <thead>\n    <tr style=\"text-align: right;\">\n      <th></th>\n      <th>2018 Std</th>\n    </tr>\n  </thead>\n  <tbody>\n    <tr>\n      <th>YUM</th>\n      <td>0.012369</td>\n    </tr>\n    <tr>\n      <th>GRUB</th>\n      <td>0.035962</td>\n    </tr>\n    <tr>\n      <th>MCD</th>\n      <td>0.012963</td>\n    </tr>\n  </tbody>\n</table>\n</div>"
     },
     "metadata": {},
     "execution_count": 40
    }
   ],
   "source": [
    "pre_covid_std = pd.DataFrame(pre_covid_returns.std()).rename(columns = {0: \"2018 Std\"})\n",
    "pre_covid_std"
   ]
  },
  {
   "cell_type": "code",
   "execution_count": 42,
   "metadata": {},
   "outputs": [
    {
     "output_type": "execute_result",
     "data": {
      "text/plain": [
       "                            GRUB                                     MCD  \\\n",
       "                            open    high    low   close   volume    open   \n",
       "2019-01-02 00:00:00-05:00  74.72  76.740  74.15  75.470  1605818  175.41   \n",
       "2019-01-03 00:00:00-05:00  73.90  74.860  70.99  71.335  1864315  175.45   \n",
       "2019-01-04 00:00:00-05:00  73.31  77.450  72.74  75.930  2557614  176.03   \n",
       "2019-01-07 00:00:00-05:00  76.55  80.575  75.64  79.780  1856083  178.14   \n",
       "2019-01-08 00:00:00-05:00  81.00  81.950  78.57  81.090  1183558  181.96   \n",
       "\n",
       "                                                                YUM         \\\n",
       "                             high       low   close   volume   open   high   \n",
       "2019-01-02 00:00:00-05:00  176.30  174.1680  176.07  1996182  91.09  91.49   \n",
       "2019-01-03 00:00:00-05:00  176.45  174.4100  175.01  2846165  91.00  91.00   \n",
       "2019-01-04 00:00:00-05:00  179.20  175.6901  178.30  2376882  90.19  92.34   \n",
       "2019-01-07 00:00:00-05:00  181.88  178.1400  180.27  2176986  91.40  92.22   \n",
       "2019-01-08 00:00:00-05:00  182.29  179.9100  180.67  2194645  91.67  91.94   \n",
       "\n",
       "                                                   \n",
       "                              low  close   volume  \n",
       "2019-01-02 00:00:00-05:00  90.350  91.41  1260394  \n",
       "2019-01-03 00:00:00-05:00  88.785  89.09  1344668  \n",
       "2019-01-04 00:00:00-05:00  90.040  91.49  1320748  \n",
       "2019-01-07 00:00:00-05:00  91.120  91.38  1897257  \n",
       "2019-01-08 00:00:00-05:00  89.960  91.13  2139647  "
      ],
      "text/html": "<div>\n<style scoped>\n    .dataframe tbody tr th:only-of-type {\n        vertical-align: middle;\n    }\n\n    .dataframe tbody tr th {\n        vertical-align: top;\n    }\n\n    .dataframe thead tr th {\n        text-align: left;\n    }\n</style>\n<table border=\"1\" class=\"dataframe\">\n  <thead>\n    <tr>\n      <th></th>\n      <th colspan=\"5\" halign=\"left\">GRUB</th>\n      <th colspan=\"5\" halign=\"left\">MCD</th>\n      <th colspan=\"5\" halign=\"left\">YUM</th>\n    </tr>\n    <tr>\n      <th></th>\n      <th>open</th>\n      <th>high</th>\n      <th>low</th>\n      <th>close</th>\n      <th>volume</th>\n      <th>open</th>\n      <th>high</th>\n      <th>low</th>\n      <th>close</th>\n      <th>volume</th>\n      <th>open</th>\n      <th>high</th>\n      <th>low</th>\n      <th>close</th>\n      <th>volume</th>\n    </tr>\n  </thead>\n  <tbody>\n    <tr>\n      <th>2019-01-02 00:00:00-05:00</th>\n      <td>74.72</td>\n      <td>76.740</td>\n      <td>74.15</td>\n      <td>75.470</td>\n      <td>1605818</td>\n      <td>175.41</td>\n      <td>176.30</td>\n      <td>174.1680</td>\n      <td>176.07</td>\n      <td>1996182</td>\n      <td>91.09</td>\n      <td>91.49</td>\n      <td>90.350</td>\n      <td>91.41</td>\n      <td>1260394</td>\n    </tr>\n    <tr>\n      <th>2019-01-03 00:00:00-05:00</th>\n      <td>73.90</td>\n      <td>74.860</td>\n      <td>70.99</td>\n      <td>71.335</td>\n      <td>1864315</td>\n      <td>175.45</td>\n      <td>176.45</td>\n      <td>174.4100</td>\n      <td>175.01</td>\n      <td>2846165</td>\n      <td>91.00</td>\n      <td>91.00</td>\n      <td>88.785</td>\n      <td>89.09</td>\n      <td>1344668</td>\n    </tr>\n    <tr>\n      <th>2019-01-04 00:00:00-05:00</th>\n      <td>73.31</td>\n      <td>77.450</td>\n      <td>72.74</td>\n      <td>75.930</td>\n      <td>2557614</td>\n      <td>176.03</td>\n      <td>179.20</td>\n      <td>175.6901</td>\n      <td>178.30</td>\n      <td>2376882</td>\n      <td>90.19</td>\n      <td>92.34</td>\n      <td>90.040</td>\n      <td>91.49</td>\n      <td>1320748</td>\n    </tr>\n    <tr>\n      <th>2019-01-07 00:00:00-05:00</th>\n      <td>76.55</td>\n      <td>80.575</td>\n      <td>75.64</td>\n      <td>79.780</td>\n      <td>1856083</td>\n      <td>178.14</td>\n      <td>181.88</td>\n      <td>178.1400</td>\n      <td>180.27</td>\n      <td>2176986</td>\n      <td>91.40</td>\n      <td>92.22</td>\n      <td>91.120</td>\n      <td>91.38</td>\n      <td>1897257</td>\n    </tr>\n    <tr>\n      <th>2019-01-08 00:00:00-05:00</th>\n      <td>81.00</td>\n      <td>81.950</td>\n      <td>78.57</td>\n      <td>81.090</td>\n      <td>1183558</td>\n      <td>181.96</td>\n      <td>182.29</td>\n      <td>179.9100</td>\n      <td>180.67</td>\n      <td>2194645</td>\n      <td>91.67</td>\n      <td>91.94</td>\n      <td>89.960</td>\n      <td>91.13</td>\n      <td>2139647</td>\n    </tr>\n  </tbody>\n</table>\n</div>"
     },
     "metadata": {},
     "execution_count": 42
    }
   ],
   "source": [
    "timeframe = \"1D\"\n",
    "# Set start and end datetimes between now and 3 years ago.\n",
    "start_date = pd.Timestamp(\"2019-01-01\", tz=\"America/New_York\").isoformat()\n",
    "end_date = pd.Timestamp(\"2019-12-31\", tz=\"America/New_York\").isoformat()\n",
    "\n",
    "# Set the ticker information\n",
    "tickers = [\"YUM\", \"GRUB\", \"MCD\"]\n",
    "\n",
    "# Get 3 year's worth of historical price data for Microsoft and Coca-Cola\n",
    "covid_ticker = alpaca.get_barset(\n",
    "    tickers,\n",
    "    timeframe,\n",
    "    start=start_date,\n",
    "    end=end_date,\n",
    "    limit=1000,\n",
    ").df\n",
    "\n",
    "# Display sample data\n",
    "covid_ticker.head()"
   ]
  },
  {
   "cell_type": "code",
   "execution_count": 43,
   "metadata": {},
   "outputs": [
    {
     "output_type": "execute_result",
     "data": {
      "text/plain": [
       "                 YUM      GRUB       MCD\n",
       "2019-01-03 -0.025380 -0.054790 -0.006020\n",
       "2019-01-04  0.026939  0.064414  0.018799\n",
       "2019-01-07 -0.001202  0.050705  0.011049\n",
       "2019-01-08 -0.002736  0.016420  0.002219\n",
       "2019-01-09 -0.000329 -0.010359 -0.002934\n",
       "2019-01-10  0.006037  0.008100  0.007217\n",
       "2019-01-11 -0.008947 -0.027874  0.004685\n",
       "2019-01-14 -0.009138 -0.009346 -0.005595\n",
       "2019-01-15  0.004000 -0.018483  0.000441\n",
       "2019-01-16 -0.006474  0.019877 -0.011139"
      ],
      "text/html": "<div>\n<style scoped>\n    .dataframe tbody tr th:only-of-type {\n        vertical-align: middle;\n    }\n\n    .dataframe tbody tr th {\n        vertical-align: top;\n    }\n\n    .dataframe thead th {\n        text-align: right;\n    }\n</style>\n<table border=\"1\" class=\"dataframe\">\n  <thead>\n    <tr style=\"text-align: right;\">\n      <th></th>\n      <th>YUM</th>\n      <th>GRUB</th>\n      <th>MCD</th>\n    </tr>\n  </thead>\n  <tbody>\n    <tr>\n      <th>2019-01-03</th>\n      <td>-0.025380</td>\n      <td>-0.054790</td>\n      <td>-0.006020</td>\n    </tr>\n    <tr>\n      <th>2019-01-04</th>\n      <td>0.026939</td>\n      <td>0.064414</td>\n      <td>0.018799</td>\n    </tr>\n    <tr>\n      <th>2019-01-07</th>\n      <td>-0.001202</td>\n      <td>0.050705</td>\n      <td>0.011049</td>\n    </tr>\n    <tr>\n      <th>2019-01-08</th>\n      <td>-0.002736</td>\n      <td>0.016420</td>\n      <td>0.002219</td>\n    </tr>\n    <tr>\n      <th>2019-01-09</th>\n      <td>-0.000329</td>\n      <td>-0.010359</td>\n      <td>-0.002934</td>\n    </tr>\n    <tr>\n      <th>2019-01-10</th>\n      <td>0.006037</td>\n      <td>0.008100</td>\n      <td>0.007217</td>\n    </tr>\n    <tr>\n      <th>2019-01-11</th>\n      <td>-0.008947</td>\n      <td>-0.027874</td>\n      <td>0.004685</td>\n    </tr>\n    <tr>\n      <th>2019-01-14</th>\n      <td>-0.009138</td>\n      <td>-0.009346</td>\n      <td>-0.005595</td>\n    </tr>\n    <tr>\n      <th>2019-01-15</th>\n      <td>0.004000</td>\n      <td>-0.018483</td>\n      <td>0.000441</td>\n    </tr>\n    <tr>\n      <th>2019-01-16</th>\n      <td>-0.006474</td>\n      <td>0.019877</td>\n      <td>-0.011139</td>\n    </tr>\n  </tbody>\n</table>\n</div>"
     },
     "metadata": {},
     "execution_count": 43
    }
   ],
   "source": [
    "covid_df = pd.DataFrame()\n",
    "covid_df[\"YUM\"] = covid_ticker[\"YUM\"][\"close\"]\n",
    "covid_df[\"GRUB\"] = covid_ticker[\"GRUB\"][\"close\"]\n",
    "covid_df[\"MCD\"] = covid_ticker[\"MCD\"][\"close\"]\n",
    "covid_df.index = covid_df.index.date\n",
    "covid_returns = covid_df.pct_change().dropna()\n",
    "covid_returns.head(10)"
   ]
  },
  {
   "cell_type": "code",
   "execution_count": 45,
   "metadata": {},
   "outputs": [
    {
     "output_type": "execute_result",
     "data": {
      "text/plain": [
       "      2019 Std\n",
       "YUM   0.009803\n",
       "GRUB  0.040313\n",
       "MCD   0.009457"
      ],
      "text/html": "<div>\n<style scoped>\n    .dataframe tbody tr th:only-of-type {\n        vertical-align: middle;\n    }\n\n    .dataframe tbody tr th {\n        vertical-align: top;\n    }\n\n    .dataframe thead th {\n        text-align: right;\n    }\n</style>\n<table border=\"1\" class=\"dataframe\">\n  <thead>\n    <tr style=\"text-align: right;\">\n      <th></th>\n      <th>2019 Std</th>\n    </tr>\n  </thead>\n  <tbody>\n    <tr>\n      <th>YUM</th>\n      <td>0.009803</td>\n    </tr>\n    <tr>\n      <th>GRUB</th>\n      <td>0.040313</td>\n    </tr>\n    <tr>\n      <th>MCD</th>\n      <td>0.009457</td>\n    </tr>\n  </tbody>\n</table>\n</div>"
     },
     "metadata": {},
     "execution_count": 45
    }
   ],
   "source": [
    "covid_std = pd.DataFrame(covid_returns.std()).rename(columns = {0: \"2019 Std\"})\n",
    "covid_std"
   ]
  },
  {
   "cell_type": "code",
   "execution_count": 46,
   "metadata": {},
   "outputs": [
    {
     "output_type": "execute_result",
     "data": {
      "text/plain": [
       "                            GRUB                                     MCD  \\\n",
       "                            open    high    low  close    volume    open   \n",
       "2020-01-02 00:00:00-05:00  49.31  49.740  46.69  47.24   2044690  198.00   \n",
       "2020-01-03 00:00:00-05:00  47.04  47.675  46.67  47.17   2278511  199.39   \n",
       "2020-01-06 00:00:00-05:00  47.17  49.395  46.16  49.19   2370040  199.60   \n",
       "2020-01-07 00:00:00-05:00  48.91  49.250  47.60  48.62   1800336  201.87   \n",
       "2020-01-08 00:00:00-05:00  48.69  57.800  48.42  54.77  15437353  202.62   \n",
       "\n",
       "                                                                 YUM          \\\n",
       "                               high     low   close   volume    open    high   \n",
       "2020-01-02 00:00:00-05:00  200.8000  197.81  200.80  2886391  100.90  102.19   \n",
       "2020-01-03 00:00:00-05:00  200.5500  198.85  200.02  2031901  101.42  102.01   \n",
       "2020-01-06 00:00:00-05:00  202.7673  199.35  202.33  3558314  101.43  101.80   \n",
       "2020-01-07 00:00:00-05:00  202.6800  200.51  202.63  3147952  101.75  102.24   \n",
       "2020-01-08 00:00:00-05:00  206.6900  202.20  205.86  4370789  100.47  102.98   \n",
       "\n",
       "                                                    \n",
       "                              low   close   volume  \n",
       "2020-01-02 00:00:00-05:00  100.81  102.18   989457  \n",
       "2020-01-03 00:00:00-05:00  100.36  101.84   819628  \n",
       "2020-01-06 00:00:00-05:00  101.06  101.79  1062267  \n",
       "2020-01-07 00:00:00-05:00  101.54  101.97  1011133  \n",
       "2020-01-08 00:00:00-05:00  100.34  102.14  1133369  "
      ],
      "text/html": "<div>\n<style scoped>\n    .dataframe tbody tr th:only-of-type {\n        vertical-align: middle;\n    }\n\n    .dataframe tbody tr th {\n        vertical-align: top;\n    }\n\n    .dataframe thead tr th {\n        text-align: left;\n    }\n</style>\n<table border=\"1\" class=\"dataframe\">\n  <thead>\n    <tr>\n      <th></th>\n      <th colspan=\"5\" halign=\"left\">GRUB</th>\n      <th colspan=\"5\" halign=\"left\">MCD</th>\n      <th colspan=\"5\" halign=\"left\">YUM</th>\n    </tr>\n    <tr>\n      <th></th>\n      <th>open</th>\n      <th>high</th>\n      <th>low</th>\n      <th>close</th>\n      <th>volume</th>\n      <th>open</th>\n      <th>high</th>\n      <th>low</th>\n      <th>close</th>\n      <th>volume</th>\n      <th>open</th>\n      <th>high</th>\n      <th>low</th>\n      <th>close</th>\n      <th>volume</th>\n    </tr>\n  </thead>\n  <tbody>\n    <tr>\n      <th>2020-01-02 00:00:00-05:00</th>\n      <td>49.31</td>\n      <td>49.740</td>\n      <td>46.69</td>\n      <td>47.24</td>\n      <td>2044690</td>\n      <td>198.00</td>\n      <td>200.8000</td>\n      <td>197.81</td>\n      <td>200.80</td>\n      <td>2886391</td>\n      <td>100.90</td>\n      <td>102.19</td>\n      <td>100.81</td>\n      <td>102.18</td>\n      <td>989457</td>\n    </tr>\n    <tr>\n      <th>2020-01-03 00:00:00-05:00</th>\n      <td>47.04</td>\n      <td>47.675</td>\n      <td>46.67</td>\n      <td>47.17</td>\n      <td>2278511</td>\n      <td>199.39</td>\n      <td>200.5500</td>\n      <td>198.85</td>\n      <td>200.02</td>\n      <td>2031901</td>\n      <td>101.42</td>\n      <td>102.01</td>\n      <td>100.36</td>\n      <td>101.84</td>\n      <td>819628</td>\n    </tr>\n    <tr>\n      <th>2020-01-06 00:00:00-05:00</th>\n      <td>47.17</td>\n      <td>49.395</td>\n      <td>46.16</td>\n      <td>49.19</td>\n      <td>2370040</td>\n      <td>199.60</td>\n      <td>202.7673</td>\n      <td>199.35</td>\n      <td>202.33</td>\n      <td>3558314</td>\n      <td>101.43</td>\n      <td>101.80</td>\n      <td>101.06</td>\n      <td>101.79</td>\n      <td>1062267</td>\n    </tr>\n    <tr>\n      <th>2020-01-07 00:00:00-05:00</th>\n      <td>48.91</td>\n      <td>49.250</td>\n      <td>47.60</td>\n      <td>48.62</td>\n      <td>1800336</td>\n      <td>201.87</td>\n      <td>202.6800</td>\n      <td>200.51</td>\n      <td>202.63</td>\n      <td>3147952</td>\n      <td>101.75</td>\n      <td>102.24</td>\n      <td>101.54</td>\n      <td>101.97</td>\n      <td>1011133</td>\n    </tr>\n    <tr>\n      <th>2020-01-08 00:00:00-05:00</th>\n      <td>48.69</td>\n      <td>57.800</td>\n      <td>48.42</td>\n      <td>54.77</td>\n      <td>15437353</td>\n      <td>202.62</td>\n      <td>206.6900</td>\n      <td>202.20</td>\n      <td>205.86</td>\n      <td>4370789</td>\n      <td>100.47</td>\n      <td>102.98</td>\n      <td>100.34</td>\n      <td>102.14</td>\n      <td>1133369</td>\n    </tr>\n  </tbody>\n</table>\n</div>"
     },
     "metadata": {},
     "execution_count": 46
    }
   ],
   "source": [
    "timeframe = \"1D\"\n",
    "# Set start and end datetimes between now and 3 years ago.\n",
    "start_date = pd.Timestamp(\"2020-01-01\", tz=\"America/New_York\").isoformat()\n",
    "end_date = pd.Timestamp(\"2020-12-31\", tz=\"America/New_York\").isoformat()\n",
    "\n",
    "# Set the ticker information\n",
    "tickers = [\"YUM\", \"GRUB\", \"MCD\"]\n",
    "\n",
    "# Get 3 year's worth of historical price data for Microsoft and Coca-Cola\n",
    "post_covid_ticker = alpaca.get_barset(\n",
    "    tickers,\n",
    "    timeframe,\n",
    "    start=start_date,\n",
    "    end=end_date,\n",
    "    limit=1000,\n",
    ").df\n",
    "\n",
    "# Display sample data\n",
    "post_covid_ticker.head()"
   ]
  },
  {
   "cell_type": "code",
   "execution_count": 47,
   "metadata": {},
   "outputs": [
    {
     "output_type": "execute_result",
     "data": {
      "text/plain": [
       "                 YUM      GRUB       MCD\n",
       "2020-01-03 -0.003327 -0.001482 -0.003884\n",
       "2020-01-06 -0.000491  0.042824  0.011549\n",
       "2020-01-07  0.001768 -0.011588  0.001483\n",
       "2020-01-08  0.001667  0.126491  0.015940\n",
       "2020-01-09  0.008028  0.018076  0.011950\n",
       "2020-01-10 -0.012238 -0.060976 -0.004944\n",
       "2020-01-13 -0.013373  0.025401 -0.003618\n",
       "2020-01-14  0.003687  0.018625  0.003680\n",
       "2020-01-15  0.005561  0.009508  0.011384\n",
       "2020-01-16  0.008986  0.019018  0.005962"
      ],
      "text/html": "<div>\n<style scoped>\n    .dataframe tbody tr th:only-of-type {\n        vertical-align: middle;\n    }\n\n    .dataframe tbody tr th {\n        vertical-align: top;\n    }\n\n    .dataframe thead th {\n        text-align: right;\n    }\n</style>\n<table border=\"1\" class=\"dataframe\">\n  <thead>\n    <tr style=\"text-align: right;\">\n      <th></th>\n      <th>YUM</th>\n      <th>GRUB</th>\n      <th>MCD</th>\n    </tr>\n  </thead>\n  <tbody>\n    <tr>\n      <th>2020-01-03</th>\n      <td>-0.003327</td>\n      <td>-0.001482</td>\n      <td>-0.003884</td>\n    </tr>\n    <tr>\n      <th>2020-01-06</th>\n      <td>-0.000491</td>\n      <td>0.042824</td>\n      <td>0.011549</td>\n    </tr>\n    <tr>\n      <th>2020-01-07</th>\n      <td>0.001768</td>\n      <td>-0.011588</td>\n      <td>0.001483</td>\n    </tr>\n    <tr>\n      <th>2020-01-08</th>\n      <td>0.001667</td>\n      <td>0.126491</td>\n      <td>0.015940</td>\n    </tr>\n    <tr>\n      <th>2020-01-09</th>\n      <td>0.008028</td>\n      <td>0.018076</td>\n      <td>0.011950</td>\n    </tr>\n    <tr>\n      <th>2020-01-10</th>\n      <td>-0.012238</td>\n      <td>-0.060976</td>\n      <td>-0.004944</td>\n    </tr>\n    <tr>\n      <th>2020-01-13</th>\n      <td>-0.013373</td>\n      <td>0.025401</td>\n      <td>-0.003618</td>\n    </tr>\n    <tr>\n      <th>2020-01-14</th>\n      <td>0.003687</td>\n      <td>0.018625</td>\n      <td>0.003680</td>\n    </tr>\n    <tr>\n      <th>2020-01-15</th>\n      <td>0.005561</td>\n      <td>0.009508</td>\n      <td>0.011384</td>\n    </tr>\n    <tr>\n      <th>2020-01-16</th>\n      <td>0.008986</td>\n      <td>0.019018</td>\n      <td>0.005962</td>\n    </tr>\n  </tbody>\n</table>\n</div>"
     },
     "metadata": {},
     "execution_count": 47
    }
   ],
   "source": [
    "post_covid_df = pd.DataFrame()\n",
    "post_covid_df[\"YUM\"] = post_covid_ticker[\"YUM\"][\"close\"]\n",
    "post_covid_df[\"GRUB\"] = post_covid_ticker[\"GRUB\"][\"close\"]\n",
    "post_covid_df[\"MCD\"] = post_covid_ticker[\"MCD\"][\"close\"]\n",
    "post_covid_df.index = post_covid_df.index.date\n",
    "post_covid_returns = post_covid_df.pct_change().dropna()\n",
    "post_covid_returns.head(10)"
   ]
  },
  {
   "cell_type": "code",
   "execution_count": 49,
   "metadata": {},
   "outputs": [
    {
     "output_type": "execute_result",
     "data": {
      "text/plain": [
       "      2020 Std\n",
       "YUM   0.027860\n",
       "GRUB  0.043521\n",
       "MCD   0.025401"
      ],
      "text/html": "<div>\n<style scoped>\n    .dataframe tbody tr th:only-of-type {\n        vertical-align: middle;\n    }\n\n    .dataframe tbody tr th {\n        vertical-align: top;\n    }\n\n    .dataframe thead th {\n        text-align: right;\n    }\n</style>\n<table border=\"1\" class=\"dataframe\">\n  <thead>\n    <tr style=\"text-align: right;\">\n      <th></th>\n      <th>2020 Std</th>\n    </tr>\n  </thead>\n  <tbody>\n    <tr>\n      <th>YUM</th>\n      <td>0.027860</td>\n    </tr>\n    <tr>\n      <th>GRUB</th>\n      <td>0.043521</td>\n    </tr>\n    <tr>\n      <th>MCD</th>\n      <td>0.025401</td>\n    </tr>\n  </tbody>\n</table>\n</div>"
     },
     "metadata": {},
     "execution_count": 49
    }
   ],
   "source": [
    "post_covid_std = pd.DataFrame(post_covid_returns.std()).rename(columns = {0: \"2020 Std\"})\n",
    "post_covid_std"
   ]
  },
  {
   "cell_type": "code",
   "execution_count": 59,
   "metadata": {},
   "outputs": [
    {
     "output_type": "execute_result",
     "data": {
      "text/plain": [
       "      2018 Std  2019 Std  2020 Std\n",
       "YUM   0.012369  0.009803  0.027860\n",
       "GRUB  0.035962  0.040313  0.043521\n",
       "MCD   0.012963  0.009457  0.025401"
      ],
      "text/html": "<div>\n<style scoped>\n    .dataframe tbody tr th:only-of-type {\n        vertical-align: middle;\n    }\n\n    .dataframe tbody tr th {\n        vertical-align: top;\n    }\n\n    .dataframe thead th {\n        text-align: right;\n    }\n</style>\n<table border=\"1\" class=\"dataframe\">\n  <thead>\n    <tr style=\"text-align: right;\">\n      <th></th>\n      <th>2018 Std</th>\n      <th>2019 Std</th>\n      <th>2020 Std</th>\n    </tr>\n  </thead>\n  <tbody>\n    <tr>\n      <th>YUM</th>\n      <td>0.012369</td>\n      <td>0.009803</td>\n      <td>0.027860</td>\n    </tr>\n    <tr>\n      <th>GRUB</th>\n      <td>0.035962</td>\n      <td>0.040313</td>\n      <td>0.043521</td>\n    </tr>\n    <tr>\n      <th>MCD</th>\n      <td>0.012963</td>\n      <td>0.009457</td>\n      <td>0.025401</td>\n    </tr>\n  </tbody>\n</table>\n</div>"
     },
     "metadata": {},
     "execution_count": 59
    }
   ],
   "source": [
    "joined_rows = pd.concat([pre_covid_std, covid_std, post_covid_std], axis = \"columns\", join=\"inner\")\n",
    "joined_rows"
   ]
  },
  {
   "cell_type": "code",
   "execution_count": 51,
   "metadata": {},
   "outputs": [
    {
     "output_type": "display_data",
     "data": {
      "text/plain": "2018 Std    0.012369\n2019 Std    0.009803\n2020 Std    0.027860\nName: YUM, dtype: float64"
     },
     "metadata": {}
    }
   ],
   "source": [
    "display(joined_rows.iloc[0])"
   ]
  },
  {
   "cell_type": "code",
   "execution_count": 54,
   "metadata": {},
   "outputs": [
    {
     "output_type": "execute_result",
     "data": {
      "text/plain": [
       "   Unnamed: 0 Unnamed: 1 Unnamed: 2\n",
       "19        YUM       2018       5688\n",
       "20        YUM       2019       5597\n",
       "21        YUM       2020       5652\n",
       "22       GRUB       2018     1007.2\n",
       "23       GRUB       2019     1312.1\n",
       "24       GRUB       2020     1819.9\n",
       "25        MCD       2018    21257.9\n",
       "26        MCD       2019    21364.4\n",
       "27        MCD       2020    19207.8"
      ],
      "text/html": "<div>\n<style scoped>\n    .dataframe tbody tr th:only-of-type {\n        vertical-align: middle;\n    }\n\n    .dataframe tbody tr th {\n        vertical-align: top;\n    }\n\n    .dataframe thead th {\n        text-align: right;\n    }\n</style>\n<table border=\"1\" class=\"dataframe\">\n  <thead>\n    <tr style=\"text-align: right;\">\n      <th></th>\n      <th>Unnamed: 0</th>\n      <th>Unnamed: 1</th>\n      <th>Unnamed: 2</th>\n    </tr>\n  </thead>\n  <tbody>\n    <tr>\n      <th>19</th>\n      <td>YUM</td>\n      <td>2018</td>\n      <td>5688</td>\n    </tr>\n    <tr>\n      <th>20</th>\n      <td>YUM</td>\n      <td>2019</td>\n      <td>5597</td>\n    </tr>\n    <tr>\n      <th>21</th>\n      <td>YUM</td>\n      <td>2020</td>\n      <td>5652</td>\n    </tr>\n    <tr>\n      <th>22</th>\n      <td>GRUB</td>\n      <td>2018</td>\n      <td>1007.2</td>\n    </tr>\n    <tr>\n      <th>23</th>\n      <td>GRUB</td>\n      <td>2019</td>\n      <td>1312.1</td>\n    </tr>\n    <tr>\n      <th>24</th>\n      <td>GRUB</td>\n      <td>2020</td>\n      <td>1819.9</td>\n    </tr>\n    <tr>\n      <th>25</th>\n      <td>MCD</td>\n      <td>2018</td>\n      <td>21257.9</td>\n    </tr>\n    <tr>\n      <th>26</th>\n      <td>MCD</td>\n      <td>2019</td>\n      <td>21364.4</td>\n    </tr>\n    <tr>\n      <th>27</th>\n      <td>MCD</td>\n      <td>2020</td>\n      <td>19207.8</td>\n    </tr>\n  </tbody>\n</table>\n</div>"
     },
     "metadata": {},
     "execution_count": 54
    }
   ],
   "source": [
    "csv_path = Path(\"../Yolanda_Baker_Notebook/ticker_revenue.csv\")\n",
    "revenue_data = pd.read_csv(csv_path)#, index_col=\"Date\", parse_dates=True, infer_datetime_format=True)\n",
    "revenue_data.tail(9)"
   ]
  },
  {
   "cell_type": "code",
   "execution_count": 61,
   "metadata": {},
   "outputs": [],
   "source": [
    "revenue_2018 = {\"Revenue_2018\": [5688,1007.2,21257.9]}\n",
    "revenue_2019 = {\"Revenue_2019\": [5597,1312.1,21364.4]}\n",
    "revenue_2020 = {\"Revenue_2020\": [5652, 1819.9, 19207.8]}\n",
    "tickers = [\"YUM\", \"GRUB\", \"MCD\"]"
   ]
  },
  {
   "cell_type": "code",
   "execution_count": 62,
   "metadata": {},
   "outputs": [
    {
     "output_type": "execute_result",
     "data": {
      "text/plain": [
       "      Revenue_2018\n",
       "YUM         5688.0\n",
       "GRUB        1007.2\n",
       "MCD        21257.9"
      ],
      "text/html": "<div>\n<style scoped>\n    .dataframe tbody tr th:only-of-type {\n        vertical-align: middle;\n    }\n\n    .dataframe tbody tr th {\n        vertical-align: top;\n    }\n\n    .dataframe thead th {\n        text-align: right;\n    }\n</style>\n<table border=\"1\" class=\"dataframe\">\n  <thead>\n    <tr style=\"text-align: right;\">\n      <th></th>\n      <th>Revenue_2018</th>\n    </tr>\n  </thead>\n  <tbody>\n    <tr>\n      <th>YUM</th>\n      <td>5688.0</td>\n    </tr>\n    <tr>\n      <th>GRUB</th>\n      <td>1007.2</td>\n    </tr>\n    <tr>\n      <th>MCD</th>\n      <td>21257.9</td>\n    </tr>\n  </tbody>\n</table>\n</div>"
     },
     "metadata": {},
     "execution_count": 62
    }
   ],
   "source": [
    "Revenue_2018 = pd.DataFrame(revenue_2018, index = tickers)\n",
    "Revenue_2018"
   ]
  },
  {
   "cell_type": "code",
   "execution_count": 64,
   "metadata": {},
   "outputs": [
    {
     "output_type": "execute_result",
     "data": {
      "text/plain": [
       "      Revenue_2019\n",
       "YUM         5597.0\n",
       "GRUB        1312.1\n",
       "MCD        21364.4"
      ],
      "text/html": "<div>\n<style scoped>\n    .dataframe tbody tr th:only-of-type {\n        vertical-align: middle;\n    }\n\n    .dataframe tbody tr th {\n        vertical-align: top;\n    }\n\n    .dataframe thead th {\n        text-align: right;\n    }\n</style>\n<table border=\"1\" class=\"dataframe\">\n  <thead>\n    <tr style=\"text-align: right;\">\n      <th></th>\n      <th>Revenue_2019</th>\n    </tr>\n  </thead>\n  <tbody>\n    <tr>\n      <th>YUM</th>\n      <td>5597.0</td>\n    </tr>\n    <tr>\n      <th>GRUB</th>\n      <td>1312.1</td>\n    </tr>\n    <tr>\n      <th>MCD</th>\n      <td>21364.4</td>\n    </tr>\n  </tbody>\n</table>\n</div>"
     },
     "metadata": {},
     "execution_count": 64
    }
   ],
   "source": [
    "Revenue_2019 = pd.DataFrame(revenue_2019, index = tickers)\n",
    "Revenue_2019"
   ]
  },
  {
   "cell_type": "code",
   "execution_count": 63,
   "metadata": {},
   "outputs": [
    {
     "output_type": "execute_result",
     "data": {
      "text/plain": [
       "      Revenue_2020\n",
       "YUM         5652.0\n",
       "GRUB        1819.9\n",
       "MCD        19207.8"
      ],
      "text/html": "<div>\n<style scoped>\n    .dataframe tbody tr th:only-of-type {\n        vertical-align: middle;\n    }\n\n    .dataframe tbody tr th {\n        vertical-align: top;\n    }\n\n    .dataframe thead th {\n        text-align: right;\n    }\n</style>\n<table border=\"1\" class=\"dataframe\">\n  <thead>\n    <tr style=\"text-align: right;\">\n      <th></th>\n      <th>Revenue_2020</th>\n    </tr>\n  </thead>\n  <tbody>\n    <tr>\n      <th>YUM</th>\n      <td>5652.0</td>\n    </tr>\n    <tr>\n      <th>GRUB</th>\n      <td>1819.9</td>\n    </tr>\n    <tr>\n      <th>MCD</th>\n      <td>19207.8</td>\n    </tr>\n  </tbody>\n</table>\n</div>"
     },
     "metadata": {},
     "execution_count": 63
    }
   ],
   "source": [
    "Revenue_2020 = pd.DataFrame(revenue_2020, index = tickers)\n",
    "Revenue_2020"
   ]
  },
  {
   "cell_type": "code",
   "execution_count": 66,
   "metadata": {},
   "outputs": [
    {
     "output_type": "execute_result",
     "data": {
      "text/plain": [
       "      Revenue_2018  Revenue_2019  Revenue_2020\n",
       "YUM         5688.0        5597.0        5652.0\n",
       "GRUB        1007.2        1312.1        1819.9\n",
       "MCD        21257.9       21364.4       19207.8"
      ],
      "text/html": "<div>\n<style scoped>\n    .dataframe tbody tr th:only-of-type {\n        vertical-align: middle;\n    }\n\n    .dataframe tbody tr th {\n        vertical-align: top;\n    }\n\n    .dataframe thead th {\n        text-align: right;\n    }\n</style>\n<table border=\"1\" class=\"dataframe\">\n  <thead>\n    <tr style=\"text-align: right;\">\n      <th></th>\n      <th>Revenue_2018</th>\n      <th>Revenue_2019</th>\n      <th>Revenue_2020</th>\n    </tr>\n  </thead>\n  <tbody>\n    <tr>\n      <th>YUM</th>\n      <td>5688.0</td>\n      <td>5597.0</td>\n      <td>5652.0</td>\n    </tr>\n    <tr>\n      <th>GRUB</th>\n      <td>1007.2</td>\n      <td>1312.1</td>\n      <td>1819.9</td>\n    </tr>\n    <tr>\n      <th>MCD</th>\n      <td>21257.9</td>\n      <td>21364.4</td>\n      <td>19207.8</td>\n    </tr>\n  </tbody>\n</table>\n</div>"
     },
     "metadata": {},
     "execution_count": 66
    }
   ],
   "source": [
    "joined_revenue = pd.concat([Revenue_2018, Revenue_2019, Revenue_2020], axis= \"columns\", join=\"inner\")\n",
    "joined_revenue"
   ]
  },
  {
   "cell_type": "code",
   "execution_count": 55,
   "metadata": {},
   "outputs": [],
   "source": [
    "eps_2018 = {\"EPS_2018\": [4.69, .85, 7.54]}\n",
    "eps_2019 = {\"EPS_2019\": [4.14, -.20, 7.88]}\n",
    "eps_2020 = {\"EPS_2020\": [2.94, -1.69, 6.31]}\n",
    "tickers = [\"YUM\", \"GRUB\", \"MCD\"]"
   ]
  },
  {
   "cell_type": "code",
   "execution_count": 56,
   "metadata": {},
   "outputs": [
    {
     "output_type": "execute_result",
     "data": {
      "text/plain": [
       "      EPS_2018\n",
       "YUM       4.69\n",
       "GRUB      0.85\n",
       "MCD       7.54"
      ],
      "text/html": "<div>\n<style scoped>\n    .dataframe tbody tr th:only-of-type {\n        vertical-align: middle;\n    }\n\n    .dataframe tbody tr th {\n        vertical-align: top;\n    }\n\n    .dataframe thead th {\n        text-align: right;\n    }\n</style>\n<table border=\"1\" class=\"dataframe\">\n  <thead>\n    <tr style=\"text-align: right;\">\n      <th></th>\n      <th>EPS_2018</th>\n    </tr>\n  </thead>\n  <tbody>\n    <tr>\n      <th>YUM</th>\n      <td>4.69</td>\n    </tr>\n    <tr>\n      <th>GRUB</th>\n      <td>0.85</td>\n    </tr>\n    <tr>\n      <th>MCD</th>\n      <td>7.54</td>\n    </tr>\n  </tbody>\n</table>\n</div>"
     },
     "metadata": {},
     "execution_count": 56
    }
   ],
   "source": [
    "EPS_2018 = pd.DataFrame(eps_2018, index = tickers)\n",
    "EPS_2018"
   ]
  },
  {
   "cell_type": "code",
   "execution_count": 57,
   "metadata": {},
   "outputs": [
    {
     "output_type": "execute_result",
     "data": {
      "text/plain": [
       "      EPS_2019\n",
       "YUM       4.14\n",
       "GRUB     -0.20\n",
       "MCD       7.88"
      ],
      "text/html": "<div>\n<style scoped>\n    .dataframe tbody tr th:only-of-type {\n        vertical-align: middle;\n    }\n\n    .dataframe tbody tr th {\n        vertical-align: top;\n    }\n\n    .dataframe thead th {\n        text-align: right;\n    }\n</style>\n<table border=\"1\" class=\"dataframe\">\n  <thead>\n    <tr style=\"text-align: right;\">\n      <th></th>\n      <th>EPS_2019</th>\n    </tr>\n  </thead>\n  <tbody>\n    <tr>\n      <th>YUM</th>\n      <td>4.14</td>\n    </tr>\n    <tr>\n      <th>GRUB</th>\n      <td>-0.20</td>\n    </tr>\n    <tr>\n      <th>MCD</th>\n      <td>7.88</td>\n    </tr>\n  </tbody>\n</table>\n</div>"
     },
     "metadata": {},
     "execution_count": 57
    }
   ],
   "source": [
    "EPS_2019 = pd.DataFrame(eps_2019, index = tickers)\n",
    "EPS_2019"
   ]
  },
  {
   "cell_type": "code",
   "execution_count": 58,
   "metadata": {},
   "outputs": [
    {
     "output_type": "execute_result",
     "data": {
      "text/plain": [
       "      EPS_2020\n",
       "YUM       2.94\n",
       "GRUB     -1.69\n",
       "MCD       6.31"
      ],
      "text/html": "<div>\n<style scoped>\n    .dataframe tbody tr th:only-of-type {\n        vertical-align: middle;\n    }\n\n    .dataframe tbody tr th {\n        vertical-align: top;\n    }\n\n    .dataframe thead th {\n        text-align: right;\n    }\n</style>\n<table border=\"1\" class=\"dataframe\">\n  <thead>\n    <tr style=\"text-align: right;\">\n      <th></th>\n      <th>EPS_2020</th>\n    </tr>\n  </thead>\n  <tbody>\n    <tr>\n      <th>YUM</th>\n      <td>2.94</td>\n    </tr>\n    <tr>\n      <th>GRUB</th>\n      <td>-1.69</td>\n    </tr>\n    <tr>\n      <th>MCD</th>\n      <td>6.31</td>\n    </tr>\n  </tbody>\n</table>\n</div>"
     },
     "metadata": {},
     "execution_count": 58
    }
   ],
   "source": [
    "EPS_2020 = pd.DataFrame(eps_2020, index = tickers)\n",
    "EPS_2020"
   ]
  },
  {
   "cell_type": "code",
   "execution_count": 68,
   "metadata": {},
   "outputs": [
    {
     "output_type": "execute_result",
     "data": {
      "text/plain": [
       "      EPS_2018  EPS_2019  EPS_2020\n",
       "YUM       4.69      4.14      2.94\n",
       "GRUB      0.85     -0.20     -1.69\n",
       "MCD       7.54      7.88      6.31"
      ],
      "text/html": "<div>\n<style scoped>\n    .dataframe tbody tr th:only-of-type {\n        vertical-align: middle;\n    }\n\n    .dataframe tbody tr th {\n        vertical-align: top;\n    }\n\n    .dataframe thead th {\n        text-align: right;\n    }\n</style>\n<table border=\"1\" class=\"dataframe\">\n  <thead>\n    <tr style=\"text-align: right;\">\n      <th></th>\n      <th>EPS_2018</th>\n      <th>EPS_2019</th>\n      <th>EPS_2020</th>\n    </tr>\n  </thead>\n  <tbody>\n    <tr>\n      <th>YUM</th>\n      <td>4.69</td>\n      <td>4.14</td>\n      <td>2.94</td>\n    </tr>\n    <tr>\n      <th>GRUB</th>\n      <td>0.85</td>\n      <td>-0.20</td>\n      <td>-1.69</td>\n    </tr>\n    <tr>\n      <th>MCD</th>\n      <td>7.54</td>\n      <td>7.88</td>\n      <td>6.31</td>\n    </tr>\n  </tbody>\n</table>\n</div>"
     },
     "metadata": {},
     "execution_count": 68
    }
   ],
   "source": [
    "joined_eps = pd.concat([EPS_2018, EPS_2019, EPS_2020], axis = \"columns\", join=\"inner\")\n",
    "joined_eps"
   ]
  },
  {
   "cell_type": "code",
   "execution_count": 69,
   "metadata": {},
   "outputs": [],
   "source": [
    "combined_rows = pd.concat([joined_rows, joined_eps, joined_revenue], axis=\"columns\", join=\"inner\")"
   ]
  },
  {
   "cell_type": "code",
   "execution_count": 70,
   "metadata": {},
   "outputs": [
    {
     "output_type": "execute_result",
     "data": {
      "text/plain": [
       "      2018 Std  2019 Std  2020 Std  EPS_2018  EPS_2019  EPS_2020  \\\n",
       "YUM   0.012369  0.009803  0.027860      4.69      4.14      2.94   \n",
       "GRUB  0.035962  0.040313  0.043521      0.85     -0.20     -1.69   \n",
       "MCD   0.012963  0.009457  0.025401      7.54      7.88      6.31   \n",
       "\n",
       "      Revenue_2018  Revenue_2019  Revenue_2020  \n",
       "YUM         5688.0        5597.0        5652.0  \n",
       "GRUB        1007.2        1312.1        1819.9  \n",
       "MCD        21257.9       21364.4       19207.8  "
      ],
      "text/html": "<div>\n<style scoped>\n    .dataframe tbody tr th:only-of-type {\n        vertical-align: middle;\n    }\n\n    .dataframe tbody tr th {\n        vertical-align: top;\n    }\n\n    .dataframe thead th {\n        text-align: right;\n    }\n</style>\n<table border=\"1\" class=\"dataframe\">\n  <thead>\n    <tr style=\"text-align: right;\">\n      <th></th>\n      <th>2018 Std</th>\n      <th>2019 Std</th>\n      <th>2020 Std</th>\n      <th>EPS_2018</th>\n      <th>EPS_2019</th>\n      <th>EPS_2020</th>\n      <th>Revenue_2018</th>\n      <th>Revenue_2019</th>\n      <th>Revenue_2020</th>\n    </tr>\n  </thead>\n  <tbody>\n    <tr>\n      <th>YUM</th>\n      <td>0.012369</td>\n      <td>0.009803</td>\n      <td>0.027860</td>\n      <td>4.69</td>\n      <td>4.14</td>\n      <td>2.94</td>\n      <td>5688.0</td>\n      <td>5597.0</td>\n      <td>5652.0</td>\n    </tr>\n    <tr>\n      <th>GRUB</th>\n      <td>0.035962</td>\n      <td>0.040313</td>\n      <td>0.043521</td>\n      <td>0.85</td>\n      <td>-0.20</td>\n      <td>-1.69</td>\n      <td>1007.2</td>\n      <td>1312.1</td>\n      <td>1819.9</td>\n    </tr>\n    <tr>\n      <th>MCD</th>\n      <td>0.012963</td>\n      <td>0.009457</td>\n      <td>0.025401</td>\n      <td>7.54</td>\n      <td>7.88</td>\n      <td>6.31</td>\n      <td>21257.9</td>\n      <td>21364.4</td>\n      <td>19207.8</td>\n    </tr>\n  </tbody>\n</table>\n</div>"
     },
     "metadata": {},
     "execution_count": 70
    }
   ],
   "source": [
    "combined_rows"
   ]
  },
  {
   "cell_type": "code",
   "execution_count": 72,
   "metadata": {},
   "outputs": [
    {
     "output_type": "execute_result",
     "data": {
      "text/plain": [
       "2018 Std    0.012369\n",
       "2019 Std    0.009803\n",
       "2020 Std    0.027860\n",
       "EPS_2018    4.690000\n",
       "EPS_2019    4.140000\n",
       "EPS_2020    2.940000\n",
       "Name: YUM, dtype: float64"
      ]
     },
     "metadata": {},
     "execution_count": 72
    }
   ],
   "source": []
  },
  {
   "cell_type": "code",
   "execution_count": null,
   "metadata": {},
   "outputs": [],
   "source": []
  }
 ]
}