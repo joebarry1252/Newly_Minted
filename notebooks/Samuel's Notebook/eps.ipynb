{
 "metadata": {
  "language_info": {
   "codemirror_mode": {
    "name": "ipython",
    "version": 3
   },
   "file_extension": ".py",
   "mimetype": "text/x-python",
   "name": "python",
   "nbconvert_exporter": "python",
   "pygments_lexer": "ipython3",
   "version": "3.8.5"
  },
  "orig_nbformat": 2,
  "kernelspec": {
   "name": "python3",
   "display_name": "Python 3.8.5 64-bit ('base': conda)",
   "metadata": {
    "interpreter": {
     "hash": "11ef2bb442b8455a3e6b82f3202efe5c7a01a00a0939705f79f87b65f8f45715"
    }
   }
  }
 },
 "nbformat": 4,
 "nbformat_minor": 2,
 "cells": [
  {
   "cell_type": "code",
   "execution_count": 1,
   "metadata": {},
   "outputs": [],
   "source": [
    "import requests\n",
    "import pandas as pd\n",
    "from dotenv import load_dotenv\n",
    "import alpaca_trade_api as tradeapi\n",
    "import numpy as np\n",
    "import datetime as dt\n",
    "from pathlib import Path\n",
    "import os\n",
    "import csv\n",
    "%matplotlib inline"
   ]
  },
  {
   "cell_type": "code",
   "execution_count": 2,
   "metadata": {},
   "outputs": [
    {
     "output_type": "execute_result",
     "data": {
      "text/plain": [
       "True"
      ]
     },
     "metadata": {},
     "execution_count": 2
    }
   ],
   "source": [
    "load_dotenv()"
   ]
  },
  {
   "cell_type": "code",
   "execution_count": 14,
   "metadata": {},
   "outputs": [],
   "source": [
    "eps_2018 = {\"EPS_2018\": [4.69, .85, 7.54]}\n",
    "eps_2019 = {\"EPS_2019\": [4.14, -.20, 7.88]}\n",
    "eps_2020 = {\"EPS_2020\": [2.94, -1.69, 6.31]}\n",
    "tickers = [\"YUM\", \"GRUB\", \"MCD\"]"
   ]
  },
  {
   "cell_type": "code",
   "execution_count": 15,
   "metadata": {},
   "outputs": [
    {
     "output_type": "execute_result",
     "data": {
      "text/plain": [
       "      EPS_2018\n",
       "YUM       4.69\n",
       "GRUB      0.85\n",
       "MCD       7.54"
      ],
      "text/html": "<div>\n<style scoped>\n    .dataframe tbody tr th:only-of-type {\n        vertical-align: middle;\n    }\n\n    .dataframe tbody tr th {\n        vertical-align: top;\n    }\n\n    .dataframe thead th {\n        text-align: right;\n    }\n</style>\n<table border=\"1\" class=\"dataframe\">\n  <thead>\n    <tr style=\"text-align: right;\">\n      <th></th>\n      <th>EPS_2018</th>\n    </tr>\n  </thead>\n  <tbody>\n    <tr>\n      <th>YUM</th>\n      <td>4.69</td>\n    </tr>\n    <tr>\n      <th>GRUB</th>\n      <td>0.85</td>\n    </tr>\n    <tr>\n      <th>MCD</th>\n      <td>7.54</td>\n    </tr>\n  </tbody>\n</table>\n</div>"
     },
     "metadata": {},
     "execution_count": 15
    }
   ],
   "source": [
    "EPS_2018 = pd.DataFrame(eps_2018, index = tickers)\n",
    "EPS_2018"
   ]
  },
  {
   "cell_type": "code",
   "execution_count": 16,
   "metadata": {},
   "outputs": [
    {
     "output_type": "execute_result",
     "data": {
      "text/plain": [
       "      EPS_2019\n",
       "YUM       4.14\n",
       "GRUB     -0.20\n",
       "MCD       7.88"
      ],
      "text/html": "<div>\n<style scoped>\n    .dataframe tbody tr th:only-of-type {\n        vertical-align: middle;\n    }\n\n    .dataframe tbody tr th {\n        vertical-align: top;\n    }\n\n    .dataframe thead th {\n        text-align: right;\n    }\n</style>\n<table border=\"1\" class=\"dataframe\">\n  <thead>\n    <tr style=\"text-align: right;\">\n      <th></th>\n      <th>EPS_2019</th>\n    </tr>\n  </thead>\n  <tbody>\n    <tr>\n      <th>YUM</th>\n      <td>4.14</td>\n    </tr>\n    <tr>\n      <th>GRUB</th>\n      <td>-0.20</td>\n    </tr>\n    <tr>\n      <th>MCD</th>\n      <td>7.88</td>\n    </tr>\n  </tbody>\n</table>\n</div>"
     },
     "metadata": {},
     "execution_count": 16
    }
   ],
   "source": [
    "EPS_2019 = pd.DataFrame(eps_2019, index = tickers)\n",
    "EPS_2019"
   ]
  },
  {
   "cell_type": "code",
   "execution_count": 17,
   "metadata": {},
   "outputs": [
    {
     "output_type": "execute_result",
     "data": {
      "text/plain": [
       "      EPS_2020\n",
       "YUM       2.94\n",
       "GRUB     -1.69\n",
       "MCD       6.31"
      ],
      "text/html": "<div>\n<style scoped>\n    .dataframe tbody tr th:only-of-type {\n        vertical-align: middle;\n    }\n\n    .dataframe tbody tr th {\n        vertical-align: top;\n    }\n\n    .dataframe thead th {\n        text-align: right;\n    }\n</style>\n<table border=\"1\" class=\"dataframe\">\n  <thead>\n    <tr style=\"text-align: right;\">\n      <th></th>\n      <th>EPS_2020</th>\n    </tr>\n  </thead>\n  <tbody>\n    <tr>\n      <th>YUM</th>\n      <td>2.94</td>\n    </tr>\n    <tr>\n      <th>GRUB</th>\n      <td>-1.69</td>\n    </tr>\n    <tr>\n      <th>MCD</th>\n      <td>6.31</td>\n    </tr>\n  </tbody>\n</table>\n</div>"
     },
     "metadata": {},
     "execution_count": 17
    }
   ],
   "source": [
    "EPS_2020 = pd.DataFrame(eps_2020, index = tickers)\n",
    "EPS_2020"
   ]
  },
  {
   "cell_type": "code",
   "execution_count": null,
   "metadata": {},
   "outputs": [],
   "source": []
  }
 ]
}