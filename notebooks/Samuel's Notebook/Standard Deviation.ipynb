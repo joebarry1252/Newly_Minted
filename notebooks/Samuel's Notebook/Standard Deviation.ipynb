{
 "metadata": {
  "language_info": {
   "codemirror_mode": {
    "name": "ipython",
    "version": 3
   },
   "file_extension": ".py",
   "mimetype": "text/x-python",
   "name": "python",
   "nbconvert_exporter": "python",
   "pygments_lexer": "ipython3",
   "version": "3.8.5"
  },
  "orig_nbformat": 2,
  "kernelspec": {
   "name": "python3",
   "display_name": "Python 3.8.5 64-bit ('base': conda)",
   "metadata": {
    "interpreter": {
     "hash": "11ef2bb442b8455a3e6b82f3202efe5c7a01a00a0939705f79f87b65f8f45715"
    }
   }
  }
 },
 "nbformat": 4,
 "nbformat_minor": 2,
 "cells": [
  {
   "cell_type": "code",
   "execution_count": 2,
   "metadata": {},
   "outputs": [],
   "source": [
    "import os\n",
    "import requests\n",
    "import pandas as pd\n",
    "from dotenv import load_dotenv\n",
    "import alpaca_trade_api as tradeapi\n",
    "\n",
    "%matplotlib inline"
   ]
  },
  {
   "cell_type": "code",
   "execution_count": 3,
   "metadata": {},
   "outputs": [
    {
     "output_type": "execute_result",
     "data": {
      "text/plain": [
       "True"
      ]
     },
     "metadata": {},
     "execution_count": 3
    }
   ],
   "source": [
    "load_dotenv()"
   ]
  },
  {
   "cell_type": "code",
   "execution_count": 4,
   "metadata": {},
   "outputs": [],
   "source": [
    "alpaca_api_key = os.getenv(\"ALPACA_API_KEY\")\n",
    "alpaca_secret_key = os.getenv(\"ALPACA_SECRET_KEY\")\n",
    "alpaca = tradeapi.REST(\n",
    "    alpaca_api_key,\n",
    "    alpaca_secret_key,\n",
    "    api_version=\"v2\")"
   ]
  },
  {
   "cell_type": "code",
   "execution_count": 5,
   "metadata": {},
   "outputs": [
    {
     "output_type": "execute_result",
     "data": {
      "text/plain": [
       "                            GRUB                                     MCD  \\\n",
       "                            open    high    low   close   volume    open   \n",
       "2019-01-02 00:00:00-05:00  74.72  76.740  74.15  75.470  1605818  175.41   \n",
       "2019-01-03 00:00:00-05:00  73.90  74.860  70.99  71.335  1864315  175.45   \n",
       "2019-01-04 00:00:00-05:00  73.31  77.450  72.74  75.930  2557614  176.03   \n",
       "2019-01-07 00:00:00-05:00  76.55  80.575  75.64  79.780  1856083  178.14   \n",
       "2019-01-08 00:00:00-05:00  81.00  81.950  78.57  81.090  1183558  181.96   \n",
       "\n",
       "                                                                YUM         \\\n",
       "                             high       low   close   volume   open   high   \n",
       "2019-01-02 00:00:00-05:00  176.30  174.1680  176.07  1996182  91.09  91.49   \n",
       "2019-01-03 00:00:00-05:00  176.45  174.4100  175.01  2846165  91.00  91.00   \n",
       "2019-01-04 00:00:00-05:00  179.20  175.6901  178.30  2376882  90.19  92.34   \n",
       "2019-01-07 00:00:00-05:00  181.88  178.1400  180.27  2176986  91.40  92.22   \n",
       "2019-01-08 00:00:00-05:00  182.29  179.9100  180.67  2194645  91.67  91.94   \n",
       "\n",
       "                                                     \n",
       "                              low  close     volume  \n",
       "2019-01-02 00:00:00-05:00  90.350  91.41  1260394.0  \n",
       "2019-01-03 00:00:00-05:00  88.785  89.09  1344668.0  \n",
       "2019-01-04 00:00:00-05:00  90.040  91.49  1320748.0  \n",
       "2019-01-07 00:00:00-05:00  91.120  91.38  1897257.0  \n",
       "2019-01-08 00:00:00-05:00  89.960  91.13  2139647.0  "
      ],
      "text/html": "<div>\n<style scoped>\n    .dataframe tbody tr th:only-of-type {\n        vertical-align: middle;\n    }\n\n    .dataframe tbody tr th {\n        vertical-align: top;\n    }\n\n    .dataframe thead tr th {\n        text-align: left;\n    }\n</style>\n<table border=\"1\" class=\"dataframe\">\n  <thead>\n    <tr>\n      <th></th>\n      <th colspan=\"5\" halign=\"left\">GRUB</th>\n      <th colspan=\"5\" halign=\"left\">MCD</th>\n      <th colspan=\"5\" halign=\"left\">YUM</th>\n    </tr>\n    <tr>\n      <th></th>\n      <th>open</th>\n      <th>high</th>\n      <th>low</th>\n      <th>close</th>\n      <th>volume</th>\n      <th>open</th>\n      <th>high</th>\n      <th>low</th>\n      <th>close</th>\n      <th>volume</th>\n      <th>open</th>\n      <th>high</th>\n      <th>low</th>\n      <th>close</th>\n      <th>volume</th>\n    </tr>\n  </thead>\n  <tbody>\n    <tr>\n      <th>2019-01-02 00:00:00-05:00</th>\n      <td>74.72</td>\n      <td>76.740</td>\n      <td>74.15</td>\n      <td>75.470</td>\n      <td>1605818</td>\n      <td>175.41</td>\n      <td>176.30</td>\n      <td>174.1680</td>\n      <td>176.07</td>\n      <td>1996182</td>\n      <td>91.09</td>\n      <td>91.49</td>\n      <td>90.350</td>\n      <td>91.41</td>\n      <td>1260394.0</td>\n    </tr>\n    <tr>\n      <th>2019-01-03 00:00:00-05:00</th>\n      <td>73.90</td>\n      <td>74.860</td>\n      <td>70.99</td>\n      <td>71.335</td>\n      <td>1864315</td>\n      <td>175.45</td>\n      <td>176.45</td>\n      <td>174.4100</td>\n      <td>175.01</td>\n      <td>2846165</td>\n      <td>91.00</td>\n      <td>91.00</td>\n      <td>88.785</td>\n      <td>89.09</td>\n      <td>1344668.0</td>\n    </tr>\n    <tr>\n      <th>2019-01-04 00:00:00-05:00</th>\n      <td>73.31</td>\n      <td>77.450</td>\n      <td>72.74</td>\n      <td>75.930</td>\n      <td>2557614</td>\n      <td>176.03</td>\n      <td>179.20</td>\n      <td>175.6901</td>\n      <td>178.30</td>\n      <td>2376882</td>\n      <td>90.19</td>\n      <td>92.34</td>\n      <td>90.040</td>\n      <td>91.49</td>\n      <td>1320748.0</td>\n    </tr>\n    <tr>\n      <th>2019-01-07 00:00:00-05:00</th>\n      <td>76.55</td>\n      <td>80.575</td>\n      <td>75.64</td>\n      <td>79.780</td>\n      <td>1856083</td>\n      <td>178.14</td>\n      <td>181.88</td>\n      <td>178.1400</td>\n      <td>180.27</td>\n      <td>2176986</td>\n      <td>91.40</td>\n      <td>92.22</td>\n      <td>91.120</td>\n      <td>91.38</td>\n      <td>1897257.0</td>\n    </tr>\n    <tr>\n      <th>2019-01-08 00:00:00-05:00</th>\n      <td>81.00</td>\n      <td>81.950</td>\n      <td>78.57</td>\n      <td>81.090</td>\n      <td>1183558</td>\n      <td>181.96</td>\n      <td>182.29</td>\n      <td>179.9100</td>\n      <td>180.67</td>\n      <td>2194645</td>\n      <td>91.67</td>\n      <td>91.94</td>\n      <td>89.960</td>\n      <td>91.13</td>\n      <td>2139647.0</td>\n    </tr>\n  </tbody>\n</table>\n</div>"
     },
     "metadata": {},
     "execution_count": 5
    }
   ],
   "source": [
    "timeframe = \"1D\"\n",
    "# Set start and end datetimes between now and 3 years ago.\n",
    "start_date = pd.Timestamp(\"2019-01-01\", tz=\"America/New_York\").isoformat()\n",
    "end_date = pd.Timestamp(\"2019-12-31\", tz=\"America/New_York\").isoformat()\n",
    "\n",
    "# Set the ticker information\n",
    "tickers = [\"YUM\", \"GRUB\", \"MCD\"]\n",
    "\n",
    "# Get 3 year's worth of historical price data for Microsoft and Coca-Cola\n",
    "pre_covid_ticker = alpaca.get_barset(\n",
    "    tickers,\n",
    "    timeframe,\n",
    "    start=start_date,\n",
    "    end=end_date,\n",
    "    limit=1000,\n",
    ").df\n",
    "\n",
    "# Display sample data\n",
    "pre_covid_ticker.head()"
   ]
  },
  {
   "cell_type": "code",
   "execution_count": 6,
   "metadata": {},
   "outputs": [
    {
     "output_type": "execute_result",
     "data": {
      "text/plain": [
       "                 YUM      GRUB       MCD\n",
       "2019-01-03 -0.025380 -0.054790 -0.006020\n",
       "2019-01-04  0.026939  0.064414  0.018799\n",
       "2019-01-07 -0.001202  0.050705  0.011049\n",
       "2019-01-08 -0.002736  0.016420  0.002219\n",
       "2019-01-09 -0.000329 -0.010359 -0.002934\n",
       "2019-01-10  0.006037  0.008100  0.007217\n",
       "2019-01-11 -0.008947 -0.027874  0.004685\n",
       "2019-01-14 -0.009138 -0.009346 -0.005595\n",
       "2019-01-15  0.004000 -0.018483  0.000441\n",
       "2019-01-16 -0.006474  0.019877 -0.011139"
      ],
      "text/html": "<div>\n<style scoped>\n    .dataframe tbody tr th:only-of-type {\n        vertical-align: middle;\n    }\n\n    .dataframe tbody tr th {\n        vertical-align: top;\n    }\n\n    .dataframe thead th {\n        text-align: right;\n    }\n</style>\n<table border=\"1\" class=\"dataframe\">\n  <thead>\n    <tr style=\"text-align: right;\">\n      <th></th>\n      <th>YUM</th>\n      <th>GRUB</th>\n      <th>MCD</th>\n    </tr>\n  </thead>\n  <tbody>\n    <tr>\n      <th>2019-01-03</th>\n      <td>-0.025380</td>\n      <td>-0.054790</td>\n      <td>-0.006020</td>\n    </tr>\n    <tr>\n      <th>2019-01-04</th>\n      <td>0.026939</td>\n      <td>0.064414</td>\n      <td>0.018799</td>\n    </tr>\n    <tr>\n      <th>2019-01-07</th>\n      <td>-0.001202</td>\n      <td>0.050705</td>\n      <td>0.011049</td>\n    </tr>\n    <tr>\n      <th>2019-01-08</th>\n      <td>-0.002736</td>\n      <td>0.016420</td>\n      <td>0.002219</td>\n    </tr>\n    <tr>\n      <th>2019-01-09</th>\n      <td>-0.000329</td>\n      <td>-0.010359</td>\n      <td>-0.002934</td>\n    </tr>\n    <tr>\n      <th>2019-01-10</th>\n      <td>0.006037</td>\n      <td>0.008100</td>\n      <td>0.007217</td>\n    </tr>\n    <tr>\n      <th>2019-01-11</th>\n      <td>-0.008947</td>\n      <td>-0.027874</td>\n      <td>0.004685</td>\n    </tr>\n    <tr>\n      <th>2019-01-14</th>\n      <td>-0.009138</td>\n      <td>-0.009346</td>\n      <td>-0.005595</td>\n    </tr>\n    <tr>\n      <th>2019-01-15</th>\n      <td>0.004000</td>\n      <td>-0.018483</td>\n      <td>0.000441</td>\n    </tr>\n    <tr>\n      <th>2019-01-16</th>\n      <td>-0.006474</td>\n      <td>0.019877</td>\n      <td>-0.011139</td>\n    </tr>\n  </tbody>\n</table>\n</div>"
     },
     "metadata": {},
     "execution_count": 6
    }
   ],
   "source": [
    "pre_covid_df = pd.DataFrame()\n",
    "pre_covid_df[\"YUM\"] = pre_covid_ticker[\"YUM\"][\"close\"]\n",
    "pre_covid_df[\"GRUB\"] = pre_covid_ticker[\"GRUB\"][\"close\"]\n",
    "pre_covid_df[\"MCD\"] = pre_covid_ticker[\"MCD\"][\"close\"]\n",
    "pre_covid_df.index = pre_covid_df.index.date\n",
    "pre_covid_returns = pre_covid_df.pct_change().dropna()\n",
    "pre_covid_returns.head(10)"
   ]
  },
  {
   "cell_type": "code",
   "execution_count": 7,
   "metadata": {},
   "outputs": [
    {
     "output_type": "execute_result",
     "data": {
      "text/plain": [
       "              YUM        GRUB         MCD\n",
       "count  251.000000  251.000000  251.000000\n",
       "mean     0.000438   -0.000776    0.000504\n",
       "std      0.010015    0.040313    0.009457\n",
       "min     -0.058320   -0.432951   -0.050226\n",
       "25%     -0.004169   -0.015515   -0.004743\n",
       "50%      0.000324    0.002275    0.001392\n",
       "75%      0.005892    0.019965    0.006655\n",
       "max      0.045450    0.083681    0.022430"
      ],
      "text/html": "<div>\n<style scoped>\n    .dataframe tbody tr th:only-of-type {\n        vertical-align: middle;\n    }\n\n    .dataframe tbody tr th {\n        vertical-align: top;\n    }\n\n    .dataframe thead th {\n        text-align: right;\n    }\n</style>\n<table border=\"1\" class=\"dataframe\">\n  <thead>\n    <tr style=\"text-align: right;\">\n      <th></th>\n      <th>YUM</th>\n      <th>GRUB</th>\n      <th>MCD</th>\n    </tr>\n  </thead>\n  <tbody>\n    <tr>\n      <th>count</th>\n      <td>251.000000</td>\n      <td>251.000000</td>\n      <td>251.000000</td>\n    </tr>\n    <tr>\n      <th>mean</th>\n      <td>0.000438</td>\n      <td>-0.000776</td>\n      <td>0.000504</td>\n    </tr>\n    <tr>\n      <th>std</th>\n      <td>0.010015</td>\n      <td>0.040313</td>\n      <td>0.009457</td>\n    </tr>\n    <tr>\n      <th>min</th>\n      <td>-0.058320</td>\n      <td>-0.432951</td>\n      <td>-0.050226</td>\n    </tr>\n    <tr>\n      <th>25%</th>\n      <td>-0.004169</td>\n      <td>-0.015515</td>\n      <td>-0.004743</td>\n    </tr>\n    <tr>\n      <th>50%</th>\n      <td>0.000324</td>\n      <td>0.002275</td>\n      <td>0.001392</td>\n    </tr>\n    <tr>\n      <th>75%</th>\n      <td>0.005892</td>\n      <td>0.019965</td>\n      <td>0.006655</td>\n    </tr>\n    <tr>\n      <th>max</th>\n      <td>0.045450</td>\n      <td>0.083681</td>\n      <td>0.022430</td>\n    </tr>\n  </tbody>\n</table>\n</div>"
     },
     "metadata": {},
     "execution_count": 7
    }
   ],
   "source": [
    "pre_covid_returns.describe()"
   ]
  },
  {
   "cell_type": "code",
   "execution_count": 8,
   "metadata": {},
   "outputs": [
    {
     "output_type": "execute_result",
     "data": {
      "text/plain": [
       "                 YUM      GRUB       MCD\n",
       "2019-01-03 -0.025380 -0.054790 -0.006020\n",
       "2019-01-04  0.026939  0.064414  0.018799\n",
       "2019-01-07 -0.001202  0.050705  0.011049\n",
       "2019-01-08 -0.002736  0.016420  0.002219\n",
       "2019-01-09 -0.000329 -0.010359 -0.002934"
      ],
      "text/html": "<div>\n<style scoped>\n    .dataframe tbody tr th:only-of-type {\n        vertical-align: middle;\n    }\n\n    .dataframe tbody tr th {\n        vertical-align: top;\n    }\n\n    .dataframe thead th {\n        text-align: right;\n    }\n</style>\n<table border=\"1\" class=\"dataframe\">\n  <thead>\n    <tr style=\"text-align: right;\">\n      <th></th>\n      <th>YUM</th>\n      <th>GRUB</th>\n      <th>MCD</th>\n    </tr>\n  </thead>\n  <tbody>\n    <tr>\n      <th>2019-01-03</th>\n      <td>-0.025380</td>\n      <td>-0.054790</td>\n      <td>-0.006020</td>\n    </tr>\n    <tr>\n      <th>2019-01-04</th>\n      <td>0.026939</td>\n      <td>0.064414</td>\n      <td>0.018799</td>\n    </tr>\n    <tr>\n      <th>2019-01-07</th>\n      <td>-0.001202</td>\n      <td>0.050705</td>\n      <td>0.011049</td>\n    </tr>\n    <tr>\n      <th>2019-01-08</th>\n      <td>-0.002736</td>\n      <td>0.016420</td>\n      <td>0.002219</td>\n    </tr>\n    <tr>\n      <th>2019-01-09</th>\n      <td>-0.000329</td>\n      <td>-0.010359</td>\n      <td>-0.002934</td>\n    </tr>\n  </tbody>\n</table>\n</div>"
     },
     "metadata": {},
     "execution_count": 8
    }
   ],
   "source": [
    "pre_covid_returns.head()"
   ]
  },
  {
   "cell_type": "code",
   "execution_count": 15,
   "metadata": {},
   "outputs": [],
   "source": [
    "pre_covid_annual_returns = pre_covid_returns.pct_change(251).dropna()"
   ]
  },
  {
   "cell_type": "code",
   "execution_count": 12,
   "metadata": {},
   "outputs": [
    {
     "output_type": "execute_result",
     "data": {
      "text/plain": [
       "YUM     0.010015\n",
       "GRUB    0.040313\n",
       "MCD     0.009457\n",
       "dtype: float64"
      ]
     },
     "metadata": {},
     "execution_count": 12
    }
   ],
   "source": [
    "pre_covid_returns.std()"
   ]
  },
  {
   "cell_type": "code",
   "execution_count": 20,
   "metadata": {},
   "outputs": [
    {
     "output_type": "execute_result",
     "data": {
      "text/plain": [
       "      Pre-Covid Std\n",
       "YUM        0.010015\n",
       "GRUB       0.040313\n",
       "MCD        0.009457"
      ],
      "text/html": "<div>\n<style scoped>\n    .dataframe tbody tr th:only-of-type {\n        vertical-align: middle;\n    }\n\n    .dataframe tbody tr th {\n        vertical-align: top;\n    }\n\n    .dataframe thead th {\n        text-align: right;\n    }\n</style>\n<table border=\"1\" class=\"dataframe\">\n  <thead>\n    <tr style=\"text-align: right;\">\n      <th></th>\n      <th>Pre-Covid Std</th>\n    </tr>\n  </thead>\n  <tbody>\n    <tr>\n      <th>YUM</th>\n      <td>0.010015</td>\n    </tr>\n    <tr>\n      <th>GRUB</th>\n      <td>0.040313</td>\n    </tr>\n    <tr>\n      <th>MCD</th>\n      <td>0.009457</td>\n    </tr>\n  </tbody>\n</table>\n</div>"
     },
     "metadata": {},
     "execution_count": 20
    }
   ],
   "source": [
    "pre_covid_std = pd.DataFrame(pre_covid_returns.std()).rename(columns = {0: \"Pre-Covid Std\"})\n",
    "pre_covid_std"
   ]
  },
  {
   "cell_type": "code",
   "execution_count": 13,
   "metadata": {},
   "outputs": [
    {
     "output_type": "execute_result",
     "data": {
      "text/plain": [
       "                            GRUB                                     MCD  \\\n",
       "                            open    high    low  close    volume    open   \n",
       "2020-01-02 00:00:00-05:00  49.31  49.740  46.69  47.24   2044690  198.00   \n",
       "2020-01-03 00:00:00-05:00  47.04  47.675  46.67  47.17   2278511  199.39   \n",
       "2020-01-06 00:00:00-05:00  47.17  49.395  46.16  49.19   2370040  199.60   \n",
       "2020-01-07 00:00:00-05:00  48.91  49.250  47.60  48.62   1800336  201.87   \n",
       "2020-01-08 00:00:00-05:00  48.69  57.800  48.42  54.77  15437353  202.62   \n",
       "\n",
       "                                                                 YUM          \\\n",
       "                               high     low   close   volume    open    high   \n",
       "2020-01-02 00:00:00-05:00  200.8000  197.81  200.80  2886391  100.90  102.19   \n",
       "2020-01-03 00:00:00-05:00  200.5500  198.85  200.02  2031901  101.42  102.01   \n",
       "2020-01-06 00:00:00-05:00  202.7673  199.35  202.33  3558314  101.43  101.80   \n",
       "2020-01-07 00:00:00-05:00  202.6800  200.51  202.63  3147952  101.75  102.24   \n",
       "2020-01-08 00:00:00-05:00  206.6900  202.20  205.86  4370789  100.47  102.98   \n",
       "\n",
       "                                                    \n",
       "                              low   close   volume  \n",
       "2020-01-02 00:00:00-05:00  100.81  102.18   989457  \n",
       "2020-01-03 00:00:00-05:00  100.36  101.84   819628  \n",
       "2020-01-06 00:00:00-05:00  101.06  101.79  1062267  \n",
       "2020-01-07 00:00:00-05:00  101.54  101.97  1011133  \n",
       "2020-01-08 00:00:00-05:00  100.34  102.14  1133369  "
      ],
      "text/html": "<div>\n<style scoped>\n    .dataframe tbody tr th:only-of-type {\n        vertical-align: middle;\n    }\n\n    .dataframe tbody tr th {\n        vertical-align: top;\n    }\n\n    .dataframe thead tr th {\n        text-align: left;\n    }\n</style>\n<table border=\"1\" class=\"dataframe\">\n  <thead>\n    <tr>\n      <th></th>\n      <th colspan=\"5\" halign=\"left\">GRUB</th>\n      <th colspan=\"5\" halign=\"left\">MCD</th>\n      <th colspan=\"5\" halign=\"left\">YUM</th>\n    </tr>\n    <tr>\n      <th></th>\n      <th>open</th>\n      <th>high</th>\n      <th>low</th>\n      <th>close</th>\n      <th>volume</th>\n      <th>open</th>\n      <th>high</th>\n      <th>low</th>\n      <th>close</th>\n      <th>volume</th>\n      <th>open</th>\n      <th>high</th>\n      <th>low</th>\n      <th>close</th>\n      <th>volume</th>\n    </tr>\n  </thead>\n  <tbody>\n    <tr>\n      <th>2020-01-02 00:00:00-05:00</th>\n      <td>49.31</td>\n      <td>49.740</td>\n      <td>46.69</td>\n      <td>47.24</td>\n      <td>2044690</td>\n      <td>198.00</td>\n      <td>200.8000</td>\n      <td>197.81</td>\n      <td>200.80</td>\n      <td>2886391</td>\n      <td>100.90</td>\n      <td>102.19</td>\n      <td>100.81</td>\n      <td>102.18</td>\n      <td>989457</td>\n    </tr>\n    <tr>\n      <th>2020-01-03 00:00:00-05:00</th>\n      <td>47.04</td>\n      <td>47.675</td>\n      <td>46.67</td>\n      <td>47.17</td>\n      <td>2278511</td>\n      <td>199.39</td>\n      <td>200.5500</td>\n      <td>198.85</td>\n      <td>200.02</td>\n      <td>2031901</td>\n      <td>101.42</td>\n      <td>102.01</td>\n      <td>100.36</td>\n      <td>101.84</td>\n      <td>819628</td>\n    </tr>\n    <tr>\n      <th>2020-01-06 00:00:00-05:00</th>\n      <td>47.17</td>\n      <td>49.395</td>\n      <td>46.16</td>\n      <td>49.19</td>\n      <td>2370040</td>\n      <td>199.60</td>\n      <td>202.7673</td>\n      <td>199.35</td>\n      <td>202.33</td>\n      <td>3558314</td>\n      <td>101.43</td>\n      <td>101.80</td>\n      <td>101.06</td>\n      <td>101.79</td>\n      <td>1062267</td>\n    </tr>\n    <tr>\n      <th>2020-01-07 00:00:00-05:00</th>\n      <td>48.91</td>\n      <td>49.250</td>\n      <td>47.60</td>\n      <td>48.62</td>\n      <td>1800336</td>\n      <td>201.87</td>\n      <td>202.6800</td>\n      <td>200.51</td>\n      <td>202.63</td>\n      <td>3147952</td>\n      <td>101.75</td>\n      <td>102.24</td>\n      <td>101.54</td>\n      <td>101.97</td>\n      <td>1011133</td>\n    </tr>\n    <tr>\n      <th>2020-01-08 00:00:00-05:00</th>\n      <td>48.69</td>\n      <td>57.800</td>\n      <td>48.42</td>\n      <td>54.77</td>\n      <td>15437353</td>\n      <td>202.62</td>\n      <td>206.6900</td>\n      <td>202.20</td>\n      <td>205.86</td>\n      <td>4370789</td>\n      <td>100.47</td>\n      <td>102.98</td>\n      <td>100.34</td>\n      <td>102.14</td>\n      <td>1133369</td>\n    </tr>\n  </tbody>\n</table>\n</div>"
     },
     "metadata": {},
     "execution_count": 13
    }
   ],
   "source": [
    "timeframe = \"1D\"\n",
    "# Set start and end datetimes between now and 3 years ago.\n",
    "start_date = pd.Timestamp(\"2020-01-01\", tz=\"America/New_York\").isoformat()\n",
    "end_date = pd.Timestamp(\"2020-12-31\", tz=\"America/New_York\").isoformat()\n",
    "\n",
    "# Set the ticker information\n",
    "tickers = [\"YUM\", \"GRUB\", \"MCD\"]\n",
    "\n",
    "# Get 3 year's worth of historical price data for Microsoft and Coca-Cola\n",
    "covid_ticker = alpaca.get_barset(\n",
    "    tickers,\n",
    "    timeframe,\n",
    "    start=start_date,\n",
    "    end=end_date,\n",
    "    limit=1000,\n",
    ").df\n",
    "\n",
    "# Display sample data\n",
    "covid_ticker.head()"
   ]
  },
  {
   "cell_type": "code",
   "execution_count": 14,
   "metadata": {},
   "outputs": [
    {
     "output_type": "execute_result",
     "data": {
      "text/plain": [
       "                 YUM      GRUB       MCD\n",
       "2020-01-03 -0.003327 -0.001482 -0.003884\n",
       "2020-01-06 -0.000491  0.042824  0.011549\n",
       "2020-01-07  0.001768 -0.011588  0.001483\n",
       "2020-01-08  0.001667  0.126491  0.015940\n",
       "2020-01-09  0.008028  0.018076  0.011950\n",
       "2020-01-10 -0.012238 -0.060976 -0.004944\n",
       "2020-01-13 -0.013373  0.025401 -0.003618\n",
       "2020-01-14  0.003687  0.018625  0.003680\n",
       "2020-01-15  0.005561  0.009508  0.011384\n",
       "2020-01-16  0.008986  0.019018  0.005962"
      ],
      "text/html": "<div>\n<style scoped>\n    .dataframe tbody tr th:only-of-type {\n        vertical-align: middle;\n    }\n\n    .dataframe tbody tr th {\n        vertical-align: top;\n    }\n\n    .dataframe thead th {\n        text-align: right;\n    }\n</style>\n<table border=\"1\" class=\"dataframe\">\n  <thead>\n    <tr style=\"text-align: right;\">\n      <th></th>\n      <th>YUM</th>\n      <th>GRUB</th>\n      <th>MCD</th>\n    </tr>\n  </thead>\n  <tbody>\n    <tr>\n      <th>2020-01-03</th>\n      <td>-0.003327</td>\n      <td>-0.001482</td>\n      <td>-0.003884</td>\n    </tr>\n    <tr>\n      <th>2020-01-06</th>\n      <td>-0.000491</td>\n      <td>0.042824</td>\n      <td>0.011549</td>\n    </tr>\n    <tr>\n      <th>2020-01-07</th>\n      <td>0.001768</td>\n      <td>-0.011588</td>\n      <td>0.001483</td>\n    </tr>\n    <tr>\n      <th>2020-01-08</th>\n      <td>0.001667</td>\n      <td>0.126491</td>\n      <td>0.015940</td>\n    </tr>\n    <tr>\n      <th>2020-01-09</th>\n      <td>0.008028</td>\n      <td>0.018076</td>\n      <td>0.011950</td>\n    </tr>\n    <tr>\n      <th>2020-01-10</th>\n      <td>-0.012238</td>\n      <td>-0.060976</td>\n      <td>-0.004944</td>\n    </tr>\n    <tr>\n      <th>2020-01-13</th>\n      <td>-0.013373</td>\n      <td>0.025401</td>\n      <td>-0.003618</td>\n    </tr>\n    <tr>\n      <th>2020-01-14</th>\n      <td>0.003687</td>\n      <td>0.018625</td>\n      <td>0.003680</td>\n    </tr>\n    <tr>\n      <th>2020-01-15</th>\n      <td>0.005561</td>\n      <td>0.009508</td>\n      <td>0.011384</td>\n    </tr>\n    <tr>\n      <th>2020-01-16</th>\n      <td>0.008986</td>\n      <td>0.019018</td>\n      <td>0.005962</td>\n    </tr>\n  </tbody>\n</table>\n</div>"
     },
     "metadata": {},
     "execution_count": 14
    }
   ],
   "source": [
    "covid_df = pd.DataFrame()\n",
    "covid_df[\"YUM\"] = covid_ticker[\"YUM\"][\"close\"]\n",
    "covid_df[\"GRUB\"] = covid_ticker[\"GRUB\"][\"close\"]\n",
    "covid_df[\"MCD\"] = covid_ticker[\"MCD\"][\"close\"]\n",
    "covid_df.index = covid_df.index.date\n",
    "covid_returns = covid_df.pct_change().dropna()\n",
    "covid_returns.head(10)"
   ]
  },
  {
   "cell_type": "code",
   "execution_count": 22,
   "metadata": {},
   "outputs": [
    {
     "output_type": "execute_result",
     "data": {
      "text/plain": [
       "      Covid Std\n",
       "YUM    0.027860\n",
       "GRUB   0.043521\n",
       "MCD    0.025401"
      ],
      "text/html": "<div>\n<style scoped>\n    .dataframe tbody tr th:only-of-type {\n        vertical-align: middle;\n    }\n\n    .dataframe tbody tr th {\n        vertical-align: top;\n    }\n\n    .dataframe thead th {\n        text-align: right;\n    }\n</style>\n<table border=\"1\" class=\"dataframe\">\n  <thead>\n    <tr style=\"text-align: right;\">\n      <th></th>\n      <th>Covid Std</th>\n    </tr>\n  </thead>\n  <tbody>\n    <tr>\n      <th>YUM</th>\n      <td>0.027860</td>\n    </tr>\n    <tr>\n      <th>GRUB</th>\n      <td>0.043521</td>\n    </tr>\n    <tr>\n      <th>MCD</th>\n      <td>0.025401</td>\n    </tr>\n  </tbody>\n</table>\n</div>"
     },
     "metadata": {},
     "execution_count": 22
    }
   ],
   "source": [
    "covid_std = pd.DataFrame(covid_returns.std()).rename(columns = {0: \"Covid Std\"})\n",
    "covid_std"
   ]
  },
  {
   "cell_type": "code",
   "execution_count": 23,
   "metadata": {},
   "outputs": [
    {
     "output_type": "execute_result",
     "data": {
      "text/plain": [
       "                            GRUB                                    MCD  \\\n",
       "                            open   high     low  close   volume    open   \n",
       "2021-01-04 00:00:00-05:00  74.66  76.98  74.660  75.91  1047101  214.49   \n",
       "2021-01-05 00:00:00-05:00  76.60  79.81  76.480  79.51  1555557  210.18   \n",
       "2021-01-06 00:00:00-05:00  78.47  79.34  77.270  77.96  1687917  211.30   \n",
       "2021-01-07 00:00:00-05:00  78.36  80.11  77.075  77.43  2413747  213.22   \n",
       "2021-01-08 00:00:00-05:00  80.92  82.73  80.180  82.47  3069574  212.90   \n",
       "\n",
       "                                                                 YUM          \\\n",
       "                               high     low   close   volume    open    high   \n",
       "2021-01-04 00:00:00-05:00  214.7200  208.22  210.33  3187072  109.02  109.02   \n",
       "2021-01-05 00:00:00-05:00  211.9500  209.62  211.54  1927315  105.64  106.35   \n",
       "2021-01-06 00:00:00-05:00  211.7083  209.03  211.06  2533713  105.63  106.70   \n",
       "2021-01-07 00:00:00-05:00  213.2200  210.56  211.98  2546735  106.50  106.99   \n",
       "2021-01-08 00:00:00-05:00  216.1200  212.23  215.87  2063802  105.81  107.45   \n",
       "\n",
       "                                                      \n",
       "                                low   close   volume  \n",
       "2021-01-04 00:00:00-05:00  104.8600  105.86  1636363  \n",
       "2021-01-05 00:00:00-05:00  105.2000  105.83   946451  \n",
       "2021-01-06 00:00:00-05:00  105.3900  106.41  1093400  \n",
       "2021-01-07 00:00:00-05:00  105.2800  105.65  1495917  \n",
       "2021-01-08 00:00:00-05:00  105.6199  107.14   974189  "
      ],
      "text/html": "<div>\n<style scoped>\n    .dataframe tbody tr th:only-of-type {\n        vertical-align: middle;\n    }\n\n    .dataframe tbody tr th {\n        vertical-align: top;\n    }\n\n    .dataframe thead tr th {\n        text-align: left;\n    }\n</style>\n<table border=\"1\" class=\"dataframe\">\n  <thead>\n    <tr>\n      <th></th>\n      <th colspan=\"5\" halign=\"left\">GRUB</th>\n      <th colspan=\"5\" halign=\"left\">MCD</th>\n      <th colspan=\"5\" halign=\"left\">YUM</th>\n    </tr>\n    <tr>\n      <th></th>\n      <th>open</th>\n      <th>high</th>\n      <th>low</th>\n      <th>close</th>\n      <th>volume</th>\n      <th>open</th>\n      <th>high</th>\n      <th>low</th>\n      <th>close</th>\n      <th>volume</th>\n      <th>open</th>\n      <th>high</th>\n      <th>low</th>\n      <th>close</th>\n      <th>volume</th>\n    </tr>\n  </thead>\n  <tbody>\n    <tr>\n      <th>2021-01-04 00:00:00-05:00</th>\n      <td>74.66</td>\n      <td>76.98</td>\n      <td>74.660</td>\n      <td>75.91</td>\n      <td>1047101</td>\n      <td>214.49</td>\n      <td>214.7200</td>\n      <td>208.22</td>\n      <td>210.33</td>\n      <td>3187072</td>\n      <td>109.02</td>\n      <td>109.02</td>\n      <td>104.8600</td>\n      <td>105.86</td>\n      <td>1636363</td>\n    </tr>\n    <tr>\n      <th>2021-01-05 00:00:00-05:00</th>\n      <td>76.60</td>\n      <td>79.81</td>\n      <td>76.480</td>\n      <td>79.51</td>\n      <td>1555557</td>\n      <td>210.18</td>\n      <td>211.9500</td>\n      <td>209.62</td>\n      <td>211.54</td>\n      <td>1927315</td>\n      <td>105.64</td>\n      <td>106.35</td>\n      <td>105.2000</td>\n      <td>105.83</td>\n      <td>946451</td>\n    </tr>\n    <tr>\n      <th>2021-01-06 00:00:00-05:00</th>\n      <td>78.47</td>\n      <td>79.34</td>\n      <td>77.270</td>\n      <td>77.96</td>\n      <td>1687917</td>\n      <td>211.30</td>\n      <td>211.7083</td>\n      <td>209.03</td>\n      <td>211.06</td>\n      <td>2533713</td>\n      <td>105.63</td>\n      <td>106.70</td>\n      <td>105.3900</td>\n      <td>106.41</td>\n      <td>1093400</td>\n    </tr>\n    <tr>\n      <th>2021-01-07 00:00:00-05:00</th>\n      <td>78.36</td>\n      <td>80.11</td>\n      <td>77.075</td>\n      <td>77.43</td>\n      <td>2413747</td>\n      <td>213.22</td>\n      <td>213.2200</td>\n      <td>210.56</td>\n      <td>211.98</td>\n      <td>2546735</td>\n      <td>106.50</td>\n      <td>106.99</td>\n      <td>105.2800</td>\n      <td>105.65</td>\n      <td>1495917</td>\n    </tr>\n    <tr>\n      <th>2021-01-08 00:00:00-05:00</th>\n      <td>80.92</td>\n      <td>82.73</td>\n      <td>80.180</td>\n      <td>82.47</td>\n      <td>3069574</td>\n      <td>212.90</td>\n      <td>216.1200</td>\n      <td>212.23</td>\n      <td>215.87</td>\n      <td>2063802</td>\n      <td>105.81</td>\n      <td>107.45</td>\n      <td>105.6199</td>\n      <td>107.14</td>\n      <td>974189</td>\n    </tr>\n  </tbody>\n</table>\n</div>"
     },
     "metadata": {},
     "execution_count": 23
    }
   ],
   "source": [
    "timeframe = \"1D\"\n",
    "# Set start and end datetimes between now and 3 years ago.\n",
    "start_date = pd.Timestamp(\"2021-01-01\", tz=\"America/New_York\").isoformat()\n",
    "end_date = pd.Timestamp(\"2021-12-31\", tz=\"America/New_York\").isoformat()\n",
    "\n",
    "# Set the ticker information\n",
    "tickers = [\"YUM\", \"GRUB\", \"MCD\"]\n",
    "\n",
    "# Get 3 year's worth of historical price data for Microsoft and Coca-Cola\n",
    "post_covid_ticker = alpaca.get_barset(\n",
    "    tickers,\n",
    "    timeframe,\n",
    "    start=start_date,\n",
    "    end=end_date,\n",
    "    limit=1000,\n",
    ").df\n",
    "\n",
    "# Display sample data\n",
    "post_covid_ticker.head()"
   ]
  },
  {
   "cell_type": "code",
   "execution_count": 24,
   "metadata": {},
   "outputs": [
    {
     "output_type": "execute_result",
     "data": {
      "text/plain": [
       "                 YUM      GRUB       MCD\n",
       "2021-01-05 -0.000283  0.047425  0.005753\n",
       "2021-01-06  0.005480 -0.019494 -0.002269\n",
       "2021-01-07 -0.007142 -0.006798  0.004359\n",
       "2021-01-08  0.014103  0.065091  0.018351\n",
       "2021-01-11  0.005227 -0.016491 -0.007875\n",
       "2021-01-12 -0.000464  0.023548 -0.012420\n",
       "2021-01-13 -0.004459 -0.045290  0.002695\n",
       "2021-01-14  0.005785 -0.052990 -0.016739\n",
       "2021-01-15 -0.010947 -0.053291  0.006618\n",
       "2021-01-19  0.007316  0.001407 -0.003859"
      ],
      "text/html": "<div>\n<style scoped>\n    .dataframe tbody tr th:only-of-type {\n        vertical-align: middle;\n    }\n\n    .dataframe tbody tr th {\n        vertical-align: top;\n    }\n\n    .dataframe thead th {\n        text-align: right;\n    }\n</style>\n<table border=\"1\" class=\"dataframe\">\n  <thead>\n    <tr style=\"text-align: right;\">\n      <th></th>\n      <th>YUM</th>\n      <th>GRUB</th>\n      <th>MCD</th>\n    </tr>\n  </thead>\n  <tbody>\n    <tr>\n      <th>2021-01-05</th>\n      <td>-0.000283</td>\n      <td>0.047425</td>\n      <td>0.005753</td>\n    </tr>\n    <tr>\n      <th>2021-01-06</th>\n      <td>0.005480</td>\n      <td>-0.019494</td>\n      <td>-0.002269</td>\n    </tr>\n    <tr>\n      <th>2021-01-07</th>\n      <td>-0.007142</td>\n      <td>-0.006798</td>\n      <td>0.004359</td>\n    </tr>\n    <tr>\n      <th>2021-01-08</th>\n      <td>0.014103</td>\n      <td>0.065091</td>\n      <td>0.018351</td>\n    </tr>\n    <tr>\n      <th>2021-01-11</th>\n      <td>0.005227</td>\n      <td>-0.016491</td>\n      <td>-0.007875</td>\n    </tr>\n    <tr>\n      <th>2021-01-12</th>\n      <td>-0.000464</td>\n      <td>0.023548</td>\n      <td>-0.012420</td>\n    </tr>\n    <tr>\n      <th>2021-01-13</th>\n      <td>-0.004459</td>\n      <td>-0.045290</td>\n      <td>0.002695</td>\n    </tr>\n    <tr>\n      <th>2021-01-14</th>\n      <td>0.005785</td>\n      <td>-0.052990</td>\n      <td>-0.016739</td>\n    </tr>\n    <tr>\n      <th>2021-01-15</th>\n      <td>-0.010947</td>\n      <td>-0.053291</td>\n      <td>0.006618</td>\n    </tr>\n    <tr>\n      <th>2021-01-19</th>\n      <td>0.007316</td>\n      <td>0.001407</td>\n      <td>-0.003859</td>\n    </tr>\n  </tbody>\n</table>\n</div>"
     },
     "metadata": {},
     "execution_count": 24
    }
   ],
   "source": [
    "post_covid_df = pd.DataFrame()\n",
    "post_covid_df[\"YUM\"] = post_covid_ticker[\"YUM\"][\"close\"]\n",
    "post_covid_df[\"GRUB\"] = post_covid_ticker[\"GRUB\"][\"close\"]\n",
    "post_covid_df[\"MCD\"] = post_covid_ticker[\"MCD\"][\"close\"]\n",
    "post_covid_df.index = post_covid_df.index.date\n",
    "post_covid_returns = post_covid_df.pct_change().dropna()\n",
    "post_covid_returns.head(10)"
   ]
  },
  {
   "cell_type": "code",
   "execution_count": 25,
   "metadata": {},
   "outputs": [
    {
     "output_type": "execute_result",
     "data": {
      "text/plain": [
       "      Post-Covid Std\n",
       "YUM         0.012188\n",
       "GRUB        0.028518\n",
       "MCD         0.010734"
      ],
      "text/html": "<div>\n<style scoped>\n    .dataframe tbody tr th:only-of-type {\n        vertical-align: middle;\n    }\n\n    .dataframe tbody tr th {\n        vertical-align: top;\n    }\n\n    .dataframe thead th {\n        text-align: right;\n    }\n</style>\n<table border=\"1\" class=\"dataframe\">\n  <thead>\n    <tr style=\"text-align: right;\">\n      <th></th>\n      <th>Post-Covid Std</th>\n    </tr>\n  </thead>\n  <tbody>\n    <tr>\n      <th>YUM</th>\n      <td>0.012188</td>\n    </tr>\n    <tr>\n      <th>GRUB</th>\n      <td>0.028518</td>\n    </tr>\n    <tr>\n      <th>MCD</th>\n      <td>0.010734</td>\n    </tr>\n  </tbody>\n</table>\n</div>"
     },
     "metadata": {},
     "execution_count": 25
    }
   ],
   "source": [
    "post_covid_std = pd.DataFrame(post_covid_returns.std()).rename(columns = {0: \"Post-Covid Std\"})\n",
    "post_covid_std"
   ]
  },
  {
   "cell_type": "code",
   "execution_count": 30,
   "metadata": {},
   "outputs": [
    {
     "output_type": "execute_result",
     "data": {
      "text/plain": [
       "      Pre-Covid Std  Covid Std  Post-Covid Std\n",
       "YUM        0.010015   0.027860        0.012188\n",
       "GRUB       0.040313   0.043521        0.028518\n",
       "MCD        0.009457   0.025401        0.010734"
      ],
      "text/html": "<div>\n<style scoped>\n    .dataframe tbody tr th:only-of-type {\n        vertical-align: middle;\n    }\n\n    .dataframe tbody tr th {\n        vertical-align: top;\n    }\n\n    .dataframe thead th {\n        text-align: right;\n    }\n</style>\n<table border=\"1\" class=\"dataframe\">\n  <thead>\n    <tr style=\"text-align: right;\">\n      <th></th>\n      <th>Pre-Covid Std</th>\n      <th>Covid Std</th>\n      <th>Post-Covid Std</th>\n    </tr>\n  </thead>\n  <tbody>\n    <tr>\n      <th>YUM</th>\n      <td>0.010015</td>\n      <td>0.027860</td>\n      <td>0.012188</td>\n    </tr>\n    <tr>\n      <th>GRUB</th>\n      <td>0.040313</td>\n      <td>0.043521</td>\n      <td>0.028518</td>\n    </tr>\n    <tr>\n      <th>MCD</th>\n      <td>0.009457</td>\n      <td>0.025401</td>\n      <td>0.010734</td>\n    </tr>\n  </tbody>\n</table>\n</div>"
     },
     "metadata": {},
     "execution_count": 30
    }
   ],
   "source": [
    "joined_rows = pd.concat([pre_covid_std, covid_std, post_covid_std], axis=\"columns\",join = \"inner\")\n",
    "joined_rows"
   ]
  },
  {
   "cell_type": "code",
   "execution_count": null,
   "metadata": {},
   "outputs": [],
   "source": []
  }
 ]
}