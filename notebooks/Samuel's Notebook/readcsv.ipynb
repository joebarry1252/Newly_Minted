{
 "metadata": {
  "language_info": {
   "codemirror_mode": {
    "name": "ipython",
    "version": 3
   },
   "file_extension": ".py",
   "mimetype": "text/x-python",
   "name": "python",
   "nbconvert_exporter": "python",
   "pygments_lexer": "ipython3",
   "version": "3.8.5"
  },
  "orig_nbformat": 2,
  "kernelspec": {
   "name": "python3",
   "display_name": "Python 3.8.5 64-bit ('base': conda)",
   "metadata": {
    "interpreter": {
     "hash": "11ef2bb442b8455a3e6b82f3202efe5c7a01a00a0939705f79f87b65f8f45715"
    }
   }
  }
 },
 "nbformat": 4,
 "nbformat_minor": 2,
 "cells": [
  {
   "cell_type": "code",
   "execution_count": 3,
   "metadata": {},
   "outputs": [],
   "source": [
    "import requests\n",
    "import pandas as pd\n",
    "from dotenv import load_dotenv\n",
    "import alpaca_trade_api as tradeapi\n",
    "import numpy as np\n",
    "import datetime as dt\n",
    "from pathlib import Path\n",
    "import os\n",
    "import csv\n",
    "%matplotlib inline"
   ]
  },
  {
   "cell_type": "code",
   "execution_count": 4,
   "metadata": {},
   "outputs": [
    {
     "output_type": "execute_result",
     "data": {
      "text/plain": [
       "True"
      ]
     },
     "metadata": {},
     "execution_count": 4
    }
   ],
   "source": [
    "load_dotenv()"
   ]
  },
  {
   "cell_type": "code",
   "execution_count": 36,
   "metadata": {},
   "outputs": [
    {
     "output_type": "execute_result",
     "data": {
      "text/plain": [
       "           Ticker  Revenue\n",
       "Date                      \n",
       "2018-01-01    YUM   5688.0\n",
       "2019-01-01    YUM   5597.0\n",
       "2020-01-01    YUM   5652.0\n",
       "2018-01-01   GRUB   1007.2\n",
       "2019-01-01   GRUB   1312.1\n",
       "2020-01-01   GRUB   1819.9\n",
       "2018-01-01    MCD  21257.9\n",
       "2019-01-01    MCD  21364.4\n",
       "2020-01-01    MCD  19207.8"
      ],
      "text/html": "<div>\n<style scoped>\n    .dataframe tbody tr th:only-of-type {\n        vertical-align: middle;\n    }\n\n    .dataframe tbody tr th {\n        vertical-align: top;\n    }\n\n    .dataframe thead th {\n        text-align: right;\n    }\n</style>\n<table border=\"1\" class=\"dataframe\">\n  <thead>\n    <tr style=\"text-align: right;\">\n      <th></th>\n      <th>Ticker</th>\n      <th>Revenue</th>\n    </tr>\n    <tr>\n      <th>Date</th>\n      <th></th>\n      <th></th>\n    </tr>\n  </thead>\n  <tbody>\n    <tr>\n      <th>2018-01-01</th>\n      <td>YUM</td>\n      <td>5688.0</td>\n    </tr>\n    <tr>\n      <th>2019-01-01</th>\n      <td>YUM</td>\n      <td>5597.0</td>\n    </tr>\n    <tr>\n      <th>2020-01-01</th>\n      <td>YUM</td>\n      <td>5652.0</td>\n    </tr>\n    <tr>\n      <th>2018-01-01</th>\n      <td>GRUB</td>\n      <td>1007.2</td>\n    </tr>\n    <tr>\n      <th>2019-01-01</th>\n      <td>GRUB</td>\n      <td>1312.1</td>\n    </tr>\n    <tr>\n      <th>2020-01-01</th>\n      <td>GRUB</td>\n      <td>1819.9</td>\n    </tr>\n    <tr>\n      <th>2018-01-01</th>\n      <td>MCD</td>\n      <td>21257.9</td>\n    </tr>\n    <tr>\n      <th>2019-01-01</th>\n      <td>MCD</td>\n      <td>21364.4</td>\n    </tr>\n    <tr>\n      <th>2020-01-01</th>\n      <td>MCD</td>\n      <td>19207.8</td>\n    </tr>\n  </tbody>\n</table>\n</div>"
     },
     "metadata": {},
     "execution_count": 36
    }
   ],
   "source": [
    "csv_path = Path(\"../Yolanda_Baker_Notebook/ticker_revenue.csv\")\n",
    "revenue_data = pd.read_csv(csv_path, index_col=\"Date\", parse_dates=True, infer_datetime_format=True)\n",
    "revenue_data.tail(9)"
   ]
  },
  {
   "cell_type": "code",
   "execution_count": 37,
   "metadata": {},
   "outputs": [],
   "source": [
    "alpaca_api_key = os.getenv(\"ALPACA_API_KEY\")\n",
    "alpaca_secret_key = os.getenv(\"ALPACA_SECRET_KEY\")\n",
    "alpaca = tradeapi.REST(\n",
    "    alpaca_api_key,\n",
    "    alpaca_secret_key,\n",
    "    api_version=\"v2\")"
   ]
  },
  {
   "cell_type": "code",
   "execution_count": 38,
   "metadata": {},
   "outputs": [
    {
     "output_type": "execute_result",
     "data": {
      "text/plain": [
       "                            GRUB                                     MCD  \\\n",
       "                            open   high      low  close   volume    open   \n",
       "2018-01-02 00:00:00-05:00  71.54  72.01  70.2600  71.27  1255728  173.73   \n",
       "2018-01-03 00:00:00-05:00  71.45  71.78  70.9100  71.31   714615  173.23   \n",
       "2018-01-04 00:00:00-05:00  71.93  72.60  70.9900  71.87   843995  173.24   \n",
       "2018-01-05 00:00:00-05:00  72.43  73.02  71.3796  72.96  1126306  174.00   \n",
       "2018-01-08 00:00:00-05:00  71.50  72.10  70.8200  71.33   959352  173.74   \n",
       "\n",
       "                                                                YUM         \\\n",
       "                               high     low   close   volume   open   high   \n",
       "2018-01-02 00:00:00-05:00  174.4799  172.66  173.22  2344135  82.15  82.46   \n",
       "2018-01-03 00:00:00-05:00  173.6400  172.00  172.49  2706678  81.23  81.82   \n",
       "2018-01-04 00:00:00-05:00  174.1300  172.73  173.75  1860820  81.75  82.59   \n",
       "2018-01-05 00:00:00-05:00  175.0000  173.40  174.04  2031490  82.59  83.01   \n",
       "2018-01-08 00:00:00-05:00  174.2100  172.93  173.92  1401313  82.72  83.06   \n",
       "\n",
       "                                                  \n",
       "                             low  close   volume  \n",
       "2018-01-02 00:00:00-05:00  81.48  81.61  1089380  \n",
       "2018-01-03 00:00:00-05:00  81.17  81.53  1923085  \n",
       "2018-01-04 00:00:00-05:00  81.53  82.35  1585861  \n",
       "2018-01-05 00:00:00-05:00  82.36  82.84  1542610  \n",
       "2018-01-08 00:00:00-05:00  82.12  82.96  1309538  "
      ],
      "text/html": "<div>\n<style scoped>\n    .dataframe tbody tr th:only-of-type {\n        vertical-align: middle;\n    }\n\n    .dataframe tbody tr th {\n        vertical-align: top;\n    }\n\n    .dataframe thead tr th {\n        text-align: left;\n    }\n</style>\n<table border=\"1\" class=\"dataframe\">\n  <thead>\n    <tr>\n      <th></th>\n      <th colspan=\"5\" halign=\"left\">GRUB</th>\n      <th colspan=\"5\" halign=\"left\">MCD</th>\n      <th colspan=\"5\" halign=\"left\">YUM</th>\n    </tr>\n    <tr>\n      <th></th>\n      <th>open</th>\n      <th>high</th>\n      <th>low</th>\n      <th>close</th>\n      <th>volume</th>\n      <th>open</th>\n      <th>high</th>\n      <th>low</th>\n      <th>close</th>\n      <th>volume</th>\n      <th>open</th>\n      <th>high</th>\n      <th>low</th>\n      <th>close</th>\n      <th>volume</th>\n    </tr>\n  </thead>\n  <tbody>\n    <tr>\n      <th>2018-01-02 00:00:00-05:00</th>\n      <td>71.54</td>\n      <td>72.01</td>\n      <td>70.2600</td>\n      <td>71.27</td>\n      <td>1255728</td>\n      <td>173.73</td>\n      <td>174.4799</td>\n      <td>172.66</td>\n      <td>173.22</td>\n      <td>2344135</td>\n      <td>82.15</td>\n      <td>82.46</td>\n      <td>81.48</td>\n      <td>81.61</td>\n      <td>1089380</td>\n    </tr>\n    <tr>\n      <th>2018-01-03 00:00:00-05:00</th>\n      <td>71.45</td>\n      <td>71.78</td>\n      <td>70.9100</td>\n      <td>71.31</td>\n      <td>714615</td>\n      <td>173.23</td>\n      <td>173.6400</td>\n      <td>172.00</td>\n      <td>172.49</td>\n      <td>2706678</td>\n      <td>81.23</td>\n      <td>81.82</td>\n      <td>81.17</td>\n      <td>81.53</td>\n      <td>1923085</td>\n    </tr>\n    <tr>\n      <th>2018-01-04 00:00:00-05:00</th>\n      <td>71.93</td>\n      <td>72.60</td>\n      <td>70.9900</td>\n      <td>71.87</td>\n      <td>843995</td>\n      <td>173.24</td>\n      <td>174.1300</td>\n      <td>172.73</td>\n      <td>173.75</td>\n      <td>1860820</td>\n      <td>81.75</td>\n      <td>82.59</td>\n      <td>81.53</td>\n      <td>82.35</td>\n      <td>1585861</td>\n    </tr>\n    <tr>\n      <th>2018-01-05 00:00:00-05:00</th>\n      <td>72.43</td>\n      <td>73.02</td>\n      <td>71.3796</td>\n      <td>72.96</td>\n      <td>1126306</td>\n      <td>174.00</td>\n      <td>175.0000</td>\n      <td>173.40</td>\n      <td>174.04</td>\n      <td>2031490</td>\n      <td>82.59</td>\n      <td>83.01</td>\n      <td>82.36</td>\n      <td>82.84</td>\n      <td>1542610</td>\n    </tr>\n    <tr>\n      <th>2018-01-08 00:00:00-05:00</th>\n      <td>71.50</td>\n      <td>72.10</td>\n      <td>70.8200</td>\n      <td>71.33</td>\n      <td>959352</td>\n      <td>173.74</td>\n      <td>174.2100</td>\n      <td>172.93</td>\n      <td>173.92</td>\n      <td>1401313</td>\n      <td>82.72</td>\n      <td>83.06</td>\n      <td>82.12</td>\n      <td>82.96</td>\n      <td>1309538</td>\n    </tr>\n  </tbody>\n</table>\n</div>"
     },
     "metadata": {},
     "execution_count": 38
    }
   ],
   "source": [
    "timeframe = \"1D\"\n",
    "# Set start and end datetimes between now and 3 years ago.\n",
    "start_date = pd.Timestamp(\"2018-01-01\", tz=\"America/New_York\").isoformat()\n",
    "end_date = pd.Timestamp(\"2018-12-31\", tz=\"America/New_York\").isoformat()\n",
    "\n",
    "# Set the ticker information\n",
    "tickers = [\"YUM\", \"GRUB\", \"MCD\"]\n",
    "\n",
    "# Get 3 year's worth of historical price data for Microsoft and Coca-Cola\n",
    "returns2018_data = alpaca.get_barset(\n",
    "    tickers,\n",
    "    timeframe,\n",
    "    start=start_date,\n",
    "    end=end_date,\n",
    "    limit=1000,\n",
    ").df\n",
    "\n",
    "# Display sample data\n",
    "returns2018_data.head()"
   ]
  },
  {
   "cell_type": "code",
   "execution_count": 41,
   "metadata": {},
   "outputs": [
    {
     "output_type": "execute_result",
     "data": {
      "text/plain": [
       "                 YUM      GRUB       MCD\n",
       "2018-01-03 -0.000980  0.000561 -0.004214\n",
       "2018-01-04  0.010058  0.007853  0.007305\n",
       "2018-01-05  0.005950  0.015166  0.001669\n",
       "2018-01-08  0.001449 -0.022341 -0.000689\n",
       "2018-01-09 -0.002290 -0.030282 -0.002242\n",
       "2018-01-10 -0.002658 -0.038311 -0.000058\n",
       "2018-01-11 -0.000848  0.025556 -0.000864\n",
       "2018-01-12  0.014064  0.035327  0.001038\n",
       "2018-01-16 -0.008608 -0.010760  0.000691\n",
       "2018-01-17  0.001930  0.013310  0.007428"
      ],
      "text/html": "<div>\n<style scoped>\n    .dataframe tbody tr th:only-of-type {\n        vertical-align: middle;\n    }\n\n    .dataframe tbody tr th {\n        vertical-align: top;\n    }\n\n    .dataframe thead th {\n        text-align: right;\n    }\n</style>\n<table border=\"1\" class=\"dataframe\">\n  <thead>\n    <tr style=\"text-align: right;\">\n      <th></th>\n      <th>YUM</th>\n      <th>GRUB</th>\n      <th>MCD</th>\n    </tr>\n  </thead>\n  <tbody>\n    <tr>\n      <th>2018-01-03</th>\n      <td>-0.000980</td>\n      <td>0.000561</td>\n      <td>-0.004214</td>\n    </tr>\n    <tr>\n      <th>2018-01-04</th>\n      <td>0.010058</td>\n      <td>0.007853</td>\n      <td>0.007305</td>\n    </tr>\n    <tr>\n      <th>2018-01-05</th>\n      <td>0.005950</td>\n      <td>0.015166</td>\n      <td>0.001669</td>\n    </tr>\n    <tr>\n      <th>2018-01-08</th>\n      <td>0.001449</td>\n      <td>-0.022341</td>\n      <td>-0.000689</td>\n    </tr>\n    <tr>\n      <th>2018-01-09</th>\n      <td>-0.002290</td>\n      <td>-0.030282</td>\n      <td>-0.002242</td>\n    </tr>\n    <tr>\n      <th>2018-01-10</th>\n      <td>-0.002658</td>\n      <td>-0.038311</td>\n      <td>-0.000058</td>\n    </tr>\n    <tr>\n      <th>2018-01-11</th>\n      <td>-0.000848</td>\n      <td>0.025556</td>\n      <td>-0.000864</td>\n    </tr>\n    <tr>\n      <th>2018-01-12</th>\n      <td>0.014064</td>\n      <td>0.035327</td>\n      <td>0.001038</td>\n    </tr>\n    <tr>\n      <th>2018-01-16</th>\n      <td>-0.008608</td>\n      <td>-0.010760</td>\n      <td>0.000691</td>\n    </tr>\n    <tr>\n      <th>2018-01-17</th>\n      <td>0.001930</td>\n      <td>0.013310</td>\n      <td>0.007428</td>\n    </tr>\n  </tbody>\n</table>\n</div>"
     },
     "metadata": {},
     "execution_count": 41
    }
   ],
   "source": [
    "project_df = pd.DataFrame()\n",
    "project_df[\"YUM\"] = returns2018_data[\"YUM\"][\"close\"]\n",
    "project_df[\"GRUB\"] = returns2018_data[\"GRUB\"][\"close\"]\n",
    "project_df[\"MCD\"] = returns2018_data[\"MCD\"][\"close\"]\n",
    "project_df.index = project_df.index.date\n",
    "annual2018_returns = project_df.pct_change().dropna()\n",
    "annual2018_returns.head(10)"
   ]
  },
  {
   "cell_type": "code",
   "execution_count": 42,
   "metadata": {},
   "outputs": [
    {
     "output_type": "execute_result",
     "data": {
      "text/plain": [
       "              YUM        GRUB         MCD\n",
       "count  250.000000  250.000000  250.000000\n",
       "mean     0.000537    0.000868    0.000162\n",
       "std      0.012369    0.035962    0.012963\n",
       "min     -0.075378   -0.119226   -0.047848\n",
       "25%     -0.004750   -0.014725   -0.005455\n",
       "50%      0.001243    0.000828    0.000002\n",
       "75%      0.007164    0.016437    0.006691\n",
       "max      0.045802    0.275082    0.062995"
      ],
      "text/html": "<div>\n<style scoped>\n    .dataframe tbody tr th:only-of-type {\n        vertical-align: middle;\n    }\n\n    .dataframe tbody tr th {\n        vertical-align: top;\n    }\n\n    .dataframe thead th {\n        text-align: right;\n    }\n</style>\n<table border=\"1\" class=\"dataframe\">\n  <thead>\n    <tr style=\"text-align: right;\">\n      <th></th>\n      <th>YUM</th>\n      <th>GRUB</th>\n      <th>MCD</th>\n    </tr>\n  </thead>\n  <tbody>\n    <tr>\n      <th>count</th>\n      <td>250.000000</td>\n      <td>250.000000</td>\n      <td>250.000000</td>\n    </tr>\n    <tr>\n      <th>mean</th>\n      <td>0.000537</td>\n      <td>0.000868</td>\n      <td>0.000162</td>\n    </tr>\n    <tr>\n      <th>std</th>\n      <td>0.012369</td>\n      <td>0.035962</td>\n      <td>0.012963</td>\n    </tr>\n    <tr>\n      <th>min</th>\n      <td>-0.075378</td>\n      <td>-0.119226</td>\n      <td>-0.047848</td>\n    </tr>\n    <tr>\n      <th>25%</th>\n      <td>-0.004750</td>\n      <td>-0.014725</td>\n      <td>-0.005455</td>\n    </tr>\n    <tr>\n      <th>50%</th>\n      <td>0.001243</td>\n      <td>0.000828</td>\n      <td>0.000002</td>\n    </tr>\n    <tr>\n      <th>75%</th>\n      <td>0.007164</td>\n      <td>0.016437</td>\n      <td>0.006691</td>\n    </tr>\n    <tr>\n      <th>max</th>\n      <td>0.045802</td>\n      <td>0.275082</td>\n      <td>0.062995</td>\n    </tr>\n  </tbody>\n</table>\n</div>"
     },
     "metadata": {},
     "execution_count": 42
    }
   ],
   "source": [
    "annual2018_returns.describe()"
   ]
  },
  {
   "cell_type": "code",
   "execution_count": 43,
   "metadata": {},
   "outputs": [
    {
     "output_type": "execute_result",
     "data": {
      "text/plain": [
       "YUM     0.012369\n",
       "GRUB    0.035962\n",
       "MCD     0.012963\n",
       "dtype: float64"
      ]
     },
     "metadata": {},
     "execution_count": 43
    }
   ],
   "source": [
    "annual2018_returns.std()"
   ]
  },
  {
   "cell_type": "code",
   "execution_count": 28,
   "metadata": {},
   "outputs": [],
   "source": [
    "project_df = project_df.pct_change(251).dropna()"
   ]
  },
  {
   "cell_type": "code",
   "execution_count": 44,
   "metadata": {},
   "outputs": [
    {
     "output_type": "execute_result",
     "data": {
      "text/plain": [
       "YUM     0.012369\n",
       "GRUB    0.035962\n",
       "MCD     0.012963\n",
       "dtype: float64"
      ]
     },
     "metadata": {},
     "execution_count": 44
    }
   ],
   "source": [
    "annual2018_returns.std()"
   ]
  },
  {
   "cell_type": "code",
   "execution_count": 45,
   "metadata": {},
   "outputs": [
    {
     "output_type": "execute_result",
     "data": {
      "text/plain": [
       "      2019 STD\n",
       "YUM   0.012369\n",
       "GRUB  0.035962\n",
       "MCD   0.012963"
      ],
      "text/html": "<div>\n<style scoped>\n    .dataframe tbody tr th:only-of-type {\n        vertical-align: middle;\n    }\n\n    .dataframe tbody tr th {\n        vertical-align: top;\n    }\n\n    .dataframe thead th {\n        text-align: right;\n    }\n</style>\n<table border=\"1\" class=\"dataframe\">\n  <thead>\n    <tr style=\"text-align: right;\">\n      <th></th>\n      <th>2019 STD</th>\n    </tr>\n  </thead>\n  <tbody>\n    <tr>\n      <th>YUM</th>\n      <td>0.012369</td>\n    </tr>\n    <tr>\n      <th>GRUB</th>\n      <td>0.035962</td>\n    </tr>\n    <tr>\n      <th>MCD</th>\n      <td>0.012963</td>\n    </tr>\n  </tbody>\n</table>\n</div>"
     },
     "metadata": {},
     "execution_count": 45
    }
   ],
   "source": [
    "standard_dev = pd.DataFrame(annual2018_returns.std()).rename(columns = {0: \"2019 STD\"})\n",
    "standard_dev"
   ]
  },
  {
   "cell_type": "code",
   "execution_count": null,
   "metadata": {},
   "outputs": [],
   "source": []
  }
 ]
}