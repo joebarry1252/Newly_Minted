{
 "cells": [
  {
   "cell_type": "code",
   "execution_count": 1,
   "id": "b79cbd00-0638-4310-89b0-cac5dbaa5865",
   "metadata": {},
   "outputs": [],
   "source": [
    "import yfinance as yf"
   ]
  },
  {
   "cell_type": "code",
   "execution_count": 2,
   "id": "44af086c-0065-40ab-a536-ee8af2c6d948",
   "metadata": {},
   "outputs": [],
   "source": [
    "amzn = yf.Ticker(\"AMZN\")\n",
    "cost = yf.Ticker(\"COST\")\n",
    "wmt = yf.Ticker(\"WMT\")"
   ]
  },
  {
   "cell_type": "code",
   "execution_count": 3,
   "id": "b47df0de-8912-4522-b30f-e2662389670a",
   "metadata": {},
   "outputs": [
    {
     "data": {
      "text/plain": [
       "{'zip': '98109-5210',\n",
       " 'sector': 'Consumer Cyclical',\n",
       " 'fullTimeEmployees': 1271000,\n",
       " 'longBusinessSummary': 'Amazon.com, Inc. engages in the retail sale of consumer products and subscriptions in North America and internationally. The company operates through three segments: North America, International, and Amazon Web Services (AWS). It sells merchandise and content purchased for resale from third-party sellers through physical and online stores. The company also manufactures and sells electronic devices, including Kindle, Fire tablets, Fire TVs, Rings, and Echo and other devices; provides Kindle Direct Publishing, an online service that allows independent authors and publishers to make their books available in the Kindle Store; and develops and produces media content. In addition, it offers programs that enable sellers to sell their products on its websites, as well as its stores; and programs that allow authors, musicians, filmmakers, skill and app developers, and others to publish and sell content. Further, the company provides compute, storage, database, analytics, machine learning, and other services, as well as fulfillment, advertising, publishing, and digital content subscriptions. Additionally, it offers Amazon Prime, a membership program, which provides free shipping of various items; access to streaming of movies and TV episodes; and other services. The company serves consumers, sellers, developers, enterprises, and content creators. Amazon.com, Inc. was founded in 1994 and is headquartered in Seattle, Washington.',\n",
       " 'city': 'Seattle',\n",
       " 'phone': '206-266-1000',\n",
       " 'state': 'WA',\n",
       " 'country': 'United States',\n",
       " 'companyOfficers': [],\n",
       " 'website': 'http://www.amazon.com',\n",
       " 'maxAge': 1,\n",
       " 'address1': '410 Terry Avenue North',\n",
       " 'industry': 'Internet Retail',\n",
       " 'previousClose': 3471.31,\n",
       " 'regularMarketOpen': 3525.12,\n",
       " 'twoHundredDayAverage': 3203.1777,\n",
       " 'trailingAnnualDividendYield': None,\n",
       " 'payoutRatio': 0,\n",
       " 'volume24Hr': None,\n",
       " 'regularMarketDayHigh': 3553.3853,\n",
       " 'navPrice': None,\n",
       " 'averageDailyVolume10Day': 4828185,\n",
       " 'totalAssets': None,\n",
       " 'regularMarketPreviousClose': 3471.31,\n",
       " 'fiftyDayAverage': 3249.021,\n",
       " 'trailingAnnualDividendRate': None,\n",
       " 'open': 3525.12,\n",
       " 'toCurrency': None,\n",
       " 'averageVolume10days': 4828185,\n",
       " 'expireDate': None,\n",
       " 'yield': None,\n",
       " 'algorithm': None,\n",
       " 'dividendRate': None,\n",
       " 'exDividendDate': None,\n",
       " 'beta': 1.123,\n",
       " 'circulatingSupply': None,\n",
       " 'startDate': None,\n",
       " 'regularMarketDayLow': 3462.74,\n",
       " 'priceHint': 2,\n",
       " 'currency': 'USD',\n",
       " 'trailingPE': 65.968185,\n",
       " 'regularMarketVolume': 7009346,\n",
       " 'lastMarket': None,\n",
       " 'maxSupply': None,\n",
       " 'openInterest': None,\n",
       " 'marketCap': 1747985235968,\n",
       " 'volumeAllCurrencies': None,\n",
       " 'strikePrice': None,\n",
       " 'averageVolume': 3593743,\n",
       " 'priceToSalesTrailing12Months': 4.1705084,\n",
       " 'dayLow': 3462.74,\n",
       " 'ask': 3467.48,\n",
       " 'ytdReturn': None,\n",
       " 'askSize': 1000,\n",
       " 'volume': 7009346,\n",
       " 'fiftyTwoWeekHigh': 3554,\n",
       " 'forwardPE': 52.18089,\n",
       " 'fromCurrency': None,\n",
       " 'fiveYearAvgDividendYield': None,\n",
       " 'fiftyTwoWeekLow': 2256.38,\n",
       " 'bid': 3466,\n",
       " 'tradeable': False,\n",
       " 'dividendYield': None,\n",
       " 'bidSize': 1300,\n",
       " 'dayHigh': 3553.3853,\n",
       " 'exchange': 'NMS',\n",
       " 'shortName': 'Amazon.com, Inc.',\n",
       " 'longName': 'Amazon.com, Inc.',\n",
       " 'exchangeTimezoneName': 'America/New_York',\n",
       " 'exchangeTimezoneShortName': 'EDT',\n",
       " 'isEsgPopulated': False,\n",
       " 'gmtOffSetMilliseconds': '-14400000',\n",
       " 'quoteType': 'EQUITY',\n",
       " 'symbol': 'AMZN',\n",
       " 'messageBoardId': 'finmb_18749',\n",
       " 'market': 'us_market',\n",
       " 'annualHoldingsTurnover': None,\n",
       " 'enterpriseToRevenue': 4.24,\n",
       " 'beta3Year': None,\n",
       " 'profitMargins': 0.06419,\n",
       " 'enterpriseToEbitda': 31.081,\n",
       " '52WeekChange': 0.49716532,\n",
       " 'morningStarRiskRating': None,\n",
       " 'forwardEps': 66.45,\n",
       " 'revenueQuarterlyGrowth': None,\n",
       " 'sharesOutstanding': 504116992,\n",
       " 'fundInceptionDate': None,\n",
       " 'annualReportExpenseRatio': None,\n",
       " 'bookValue': 205,\n",
       " 'sharesShort': 5755866,\n",
       " 'sharesPercentSharesOut': 0.0114,\n",
       " 'fundFamily': None,\n",
       " 'lastFiscalYearEnd': 1609372800,\n",
       " 'heldPercentInstitutions': 0.58921003,\n",
       " 'netIncomeToCommon': 26902999040,\n",
       " 'trailingEps': 52.562,\n",
       " 'lastDividendValue': None,\n",
       " 'SandP52WeekChange': 0.47082388,\n",
       " 'priceToBook': 16.914244,\n",
       " 'heldPercentInsiders': 0.14068,\n",
       " 'nextFiscalYearEnd': 1672444800,\n",
       " 'mostRecentQuarter': 1617148800,\n",
       " 'shortRatio': 1.79,\n",
       " 'sharesShortPreviousMonthDate': 1615766400,\n",
       " 'floatShares': 450149280,\n",
       " 'enterpriseValue': 1776951230464,\n",
       " 'threeYearAverageReturn': None,\n",
       " 'lastSplitDate': 936230400,\n",
       " 'lastSplitFactor': '2:1',\n",
       " 'legalType': None,\n",
       " 'lastDividendDate': None,\n",
       " 'morningStarOverallRating': None,\n",
       " 'earningsQuarterlyGrowth': 2.198,\n",
       " 'dateShortInterest': 1618444800,\n",
       " 'pegRatio': 1.86,\n",
       " 'lastCapGain': None,\n",
       " 'shortPercentOfFloat': 0.013300001,\n",
       " 'sharesShortPriorMonth': 4680520,\n",
       " 'impliedSharesOutstanding': None,\n",
       " 'category': None,\n",
       " 'fiveYearAverageReturn': None,\n",
       " 'regularMarketPrice': 3467.42,\n",
       " 'logo_url': 'https://logo.clearbit.com/amazon.com'}"
      ]
     },
     "execution_count": 3,
     "metadata": {},
     "output_type": "execute_result"
    }
   ],
   "source": [
    "amzn.info"
   ]
  },
  {
   "cell_type": "code",
   "execution_count": 4,
   "id": "60cdcae1-237a-43fb-847d-609530be8b5b",
   "metadata": {},
   "outputs": [
    {
     "data": {
      "text/html": [
       "<div>\n",
       "<style scoped>\n",
       "    .dataframe tbody tr th:only-of-type {\n",
       "        vertical-align: middle;\n",
       "    }\n",
       "\n",
       "    .dataframe tbody tr th {\n",
       "        vertical-align: top;\n",
       "    }\n",
       "\n",
       "    .dataframe thead th {\n",
       "        text-align: right;\n",
       "    }\n",
       "</style>\n",
       "<table border=\"1\" class=\"dataframe\">\n",
       "  <thead>\n",
       "    <tr style=\"text-align: right;\">\n",
       "      <th></th>\n",
       "      <th>2020-12-31</th>\n",
       "      <th>2019-12-31</th>\n",
       "      <th>2018-12-31</th>\n",
       "      <th>2017-12-31</th>\n",
       "    </tr>\n",
       "  </thead>\n",
       "  <tbody>\n",
       "    <tr>\n",
       "      <th>Research Development</th>\n",
       "      <td>42740000000.0</td>\n",
       "      <td>35931000000.0</td>\n",
       "      <td>28837000000.0</td>\n",
       "      <td>22620000000.0</td>\n",
       "    </tr>\n",
       "    <tr>\n",
       "      <th>Effect Of Accounting Charges</th>\n",
       "      <td>None</td>\n",
       "      <td>None</td>\n",
       "      <td>None</td>\n",
       "      <td>None</td>\n",
       "    </tr>\n",
       "    <tr>\n",
       "      <th>Income Before Tax</th>\n",
       "      <td>24194000000.0</td>\n",
       "      <td>13962000000.0</td>\n",
       "      <td>11270000000.0</td>\n",
       "      <td>3802000000.0</td>\n",
       "    </tr>\n",
       "    <tr>\n",
       "      <th>Minority Interest</th>\n",
       "      <td>None</td>\n",
       "      <td>None</td>\n",
       "      <td>None</td>\n",
       "      <td>None</td>\n",
       "    </tr>\n",
       "    <tr>\n",
       "      <th>Net Income</th>\n",
       "      <td>21331000000.0</td>\n",
       "      <td>11588000000.0</td>\n",
       "      <td>10073000000.0</td>\n",
       "      <td>3033000000.0</td>\n",
       "    </tr>\n",
       "    <tr>\n",
       "      <th>Selling General Administrative</th>\n",
       "      <td>87193000000.0</td>\n",
       "      <td>64313000000.0</td>\n",
       "      <td>52177000000.0</td>\n",
       "      <td>38992000000.0</td>\n",
       "    </tr>\n",
       "    <tr>\n",
       "      <th>Gross Profit</th>\n",
       "      <td>152757000000.0</td>\n",
       "      <td>114986000000.0</td>\n",
       "      <td>93731000000.0</td>\n",
       "      <td>65932000000.0</td>\n",
       "    </tr>\n",
       "    <tr>\n",
       "      <th>Ebit</th>\n",
       "      <td>22899000000.0</td>\n",
       "      <td>14404000000.0</td>\n",
       "      <td>12421000000.0</td>\n",
       "      <td>4106000000.0</td>\n",
       "    </tr>\n",
       "    <tr>\n",
       "      <th>Operating Income</th>\n",
       "      <td>22899000000.0</td>\n",
       "      <td>14404000000.0</td>\n",
       "      <td>12421000000.0</td>\n",
       "      <td>4106000000.0</td>\n",
       "    </tr>\n",
       "    <tr>\n",
       "      <th>Other Operating Expenses</th>\n",
       "      <td>-75000000.0</td>\n",
       "      <td>338000000.0</td>\n",
       "      <td>296000000.0</td>\n",
       "      <td>214000000.0</td>\n",
       "    </tr>\n",
       "    <tr>\n",
       "      <th>Interest Expense</th>\n",
       "      <td>-1647000000.0</td>\n",
       "      <td>-1600000000.0</td>\n",
       "      <td>-1417000000.0</td>\n",
       "      <td>-848000000.0</td>\n",
       "    </tr>\n",
       "    <tr>\n",
       "      <th>Extraordinary Items</th>\n",
       "      <td>None</td>\n",
       "      <td>None</td>\n",
       "      <td>None</td>\n",
       "      <td>None</td>\n",
       "    </tr>\n",
       "    <tr>\n",
       "      <th>Non Recurring</th>\n",
       "      <td>None</td>\n",
       "      <td>None</td>\n",
       "      <td>None</td>\n",
       "      <td>None</td>\n",
       "    </tr>\n",
       "    <tr>\n",
       "      <th>Other Items</th>\n",
       "      <td>None</td>\n",
       "      <td>None</td>\n",
       "      <td>None</td>\n",
       "      <td>None</td>\n",
       "    </tr>\n",
       "    <tr>\n",
       "      <th>Income Tax Expense</th>\n",
       "      <td>2863000000.0</td>\n",
       "      <td>2374000000.0</td>\n",
       "      <td>1197000000.0</td>\n",
       "      <td>769000000.0</td>\n",
       "    </tr>\n",
       "    <tr>\n",
       "      <th>Total Revenue</th>\n",
       "      <td>386064000000.0</td>\n",
       "      <td>280522000000.0</td>\n",
       "      <td>232887000000.0</td>\n",
       "      <td>177866000000.0</td>\n",
       "    </tr>\n",
       "    <tr>\n",
       "      <th>Total Operating Expenses</th>\n",
       "      <td>363165000000.0</td>\n",
       "      <td>266118000000.0</td>\n",
       "      <td>220466000000.0</td>\n",
       "      <td>173760000000.0</td>\n",
       "    </tr>\n",
       "    <tr>\n",
       "      <th>Cost Of Revenue</th>\n",
       "      <td>233307000000.0</td>\n",
       "      <td>165536000000.0</td>\n",
       "      <td>139156000000.0</td>\n",
       "      <td>111934000000.0</td>\n",
       "    </tr>\n",
       "    <tr>\n",
       "      <th>Total Other Income Expense Net</th>\n",
       "      <td>1295000000.0</td>\n",
       "      <td>-442000000.0</td>\n",
       "      <td>-1151000000.0</td>\n",
       "      <td>-304000000.0</td>\n",
       "    </tr>\n",
       "    <tr>\n",
       "      <th>Discontinued Operations</th>\n",
       "      <td>None</td>\n",
       "      <td>None</td>\n",
       "      <td>None</td>\n",
       "      <td>None</td>\n",
       "    </tr>\n",
       "    <tr>\n",
       "      <th>Net Income From Continuing Ops</th>\n",
       "      <td>21331000000.0</td>\n",
       "      <td>11588000000.0</td>\n",
       "      <td>10073000000.0</td>\n",
       "      <td>3033000000.0</td>\n",
       "    </tr>\n",
       "    <tr>\n",
       "      <th>Net Income Applicable To Common Shares</th>\n",
       "      <td>21331000000.0</td>\n",
       "      <td>11588000000.0</td>\n",
       "      <td>10073000000.0</td>\n",
       "      <td>3033000000.0</td>\n",
       "    </tr>\n",
       "  </tbody>\n",
       "</table>\n",
       "</div>"
      ],
      "text/plain": [
       "                                            2020-12-31      2019-12-31  \\\n",
       "Research Development                     42740000000.0   35931000000.0   \n",
       "Effect Of Accounting Charges                      None            None   \n",
       "Income Before Tax                        24194000000.0   13962000000.0   \n",
       "Minority Interest                                 None            None   \n",
       "Net Income                               21331000000.0   11588000000.0   \n",
       "Selling General Administrative           87193000000.0   64313000000.0   \n",
       "Gross Profit                            152757000000.0  114986000000.0   \n",
       "Ebit                                     22899000000.0   14404000000.0   \n",
       "Operating Income                         22899000000.0   14404000000.0   \n",
       "Other Operating Expenses                   -75000000.0     338000000.0   \n",
       "Interest Expense                         -1647000000.0   -1600000000.0   \n",
       "Extraordinary Items                               None            None   \n",
       "Non Recurring                                     None            None   \n",
       "Other Items                                       None            None   \n",
       "Income Tax Expense                        2863000000.0    2374000000.0   \n",
       "Total Revenue                           386064000000.0  280522000000.0   \n",
       "Total Operating Expenses                363165000000.0  266118000000.0   \n",
       "Cost Of Revenue                         233307000000.0  165536000000.0   \n",
       "Total Other Income Expense Net            1295000000.0    -442000000.0   \n",
       "Discontinued Operations                           None            None   \n",
       "Net Income From Continuing Ops           21331000000.0   11588000000.0   \n",
       "Net Income Applicable To Common Shares   21331000000.0   11588000000.0   \n",
       "\n",
       "                                            2018-12-31      2017-12-31  \n",
       "Research Development                     28837000000.0   22620000000.0  \n",
       "Effect Of Accounting Charges                      None            None  \n",
       "Income Before Tax                        11270000000.0    3802000000.0  \n",
       "Minority Interest                                 None            None  \n",
       "Net Income                               10073000000.0    3033000000.0  \n",
       "Selling General Administrative           52177000000.0   38992000000.0  \n",
       "Gross Profit                             93731000000.0   65932000000.0  \n",
       "Ebit                                     12421000000.0    4106000000.0  \n",
       "Operating Income                         12421000000.0    4106000000.0  \n",
       "Other Operating Expenses                   296000000.0     214000000.0  \n",
       "Interest Expense                         -1417000000.0    -848000000.0  \n",
       "Extraordinary Items                               None            None  \n",
       "Non Recurring                                     None            None  \n",
       "Other Items                                       None            None  \n",
       "Income Tax Expense                        1197000000.0     769000000.0  \n",
       "Total Revenue                           232887000000.0  177866000000.0  \n",
       "Total Operating Expenses                220466000000.0  173760000000.0  \n",
       "Cost Of Revenue                         139156000000.0  111934000000.0  \n",
       "Total Other Income Expense Net           -1151000000.0    -304000000.0  \n",
       "Discontinued Operations                           None            None  \n",
       "Net Income From Continuing Ops           10073000000.0    3033000000.0  \n",
       "Net Income Applicable To Common Shares   10073000000.0    3033000000.0  "
      ]
     },
     "execution_count": 4,
     "metadata": {},
     "output_type": "execute_result"
    }
   ],
   "source": [
    "amzn.financials"
   ]
  },
  {
   "cell_type": "code",
   "execution_count": 5,
   "id": "30949cf0-19bf-4d6f-a054-7d01af7bf8e5",
   "metadata": {},
   "outputs": [
    {
     "data": {
      "text/plain": [
       "Date\n",
       "1974-03-13    0.000098\n",
       "1974-09-10    0.000098\n",
       "1975-03-11    0.000059\n",
       "1975-06-23    0.000059\n",
       "1975-09-08    0.000059\n",
       "                ...   \n",
       "2020-03-19    0.540000\n",
       "2020-05-07    0.540000\n",
       "2020-08-13    0.540000\n",
       "2020-12-10    0.540000\n",
       "2021-03-18    0.550000\n",
       "Name: Dividends, Length: 187, dtype: float64"
      ]
     },
     "execution_count": 5,
     "metadata": {},
     "output_type": "execute_result"
    }
   ],
   "source": [
    "wmt.dividends"
   ]
  },
  {
   "cell_type": "code",
   "execution_count": 6,
   "id": "93ed2467-8d50-4ad3-94a2-b8f5dabc4e69",
   "metadata": {},
   "outputs": [
    {
     "data": {
      "text/plain": [
       "Date\n",
       "1998-06-02    2.0\n",
       "1999-01-05    3.0\n",
       "1999-09-02    2.0\n",
       "Name: Stock Splits, dtype: float64"
      ]
     },
     "execution_count": 6,
     "metadata": {},
     "output_type": "execute_result"
    }
   ],
   "source": [
    "amzn.splits"
   ]
  },
  {
   "cell_type": "code",
   "execution_count": 7,
   "id": "c63e14c7-ecdb-4a60-8260-54694c0e4b28",
   "metadata": {},
   "outputs": [
    {
     "data": {
      "text/html": [
       "<div>\n",
       "<style scoped>\n",
       "    .dataframe tbody tr th:only-of-type {\n",
       "        vertical-align: middle;\n",
       "    }\n",
       "\n",
       "    .dataframe tbody tr th {\n",
       "        vertical-align: top;\n",
       "    }\n",
       "\n",
       "    .dataframe thead th {\n",
       "        text-align: right;\n",
       "    }\n",
       "</style>\n",
       "<table border=\"1\" class=\"dataframe\">\n",
       "  <thead>\n",
       "    <tr style=\"text-align: right;\">\n",
       "      <th></th>\n",
       "      <th>2020-08-30</th>\n",
       "      <th>2019-09-01</th>\n",
       "      <th>2018-09-02</th>\n",
       "      <th>2017-09-03</th>\n",
       "    </tr>\n",
       "  </thead>\n",
       "  <tbody>\n",
       "    <tr>\n",
       "      <th>Capital Surplus</th>\n",
       "      <td>6.698000e+09</td>\n",
       "      <td>6.417000e+09</td>\n",
       "      <td>6.107000e+09</td>\n",
       "      <td>5.800000e+09</td>\n",
       "    </tr>\n",
       "    <tr>\n",
       "      <th>Total Liab</th>\n",
       "      <td>3.685100e+10</td>\n",
       "      <td>2.981600e+10</td>\n",
       "      <td>2.772700e+10</td>\n",
       "      <td>2.526800e+10</td>\n",
       "    </tr>\n",
       "    <tr>\n",
       "      <th>Total Stockholder Equity</th>\n",
       "      <td>1.828400e+10</td>\n",
       "      <td>1.524300e+10</td>\n",
       "      <td>1.279900e+10</td>\n",
       "      <td>1.077800e+10</td>\n",
       "    </tr>\n",
       "    <tr>\n",
       "      <th>Minority Interest</th>\n",
       "      <td>4.210000e+08</td>\n",
       "      <td>3.410000e+08</td>\n",
       "      <td>3.040000e+08</td>\n",
       "      <td>3.010000e+08</td>\n",
       "    </tr>\n",
       "    <tr>\n",
       "      <th>Other Current Liab</th>\n",
       "      <td>5.317000e+09</td>\n",
       "      <td>5.452000e+09</td>\n",
       "      <td>4.548000e+09</td>\n",
       "      <td>4.137000e+09</td>\n",
       "    </tr>\n",
       "    <tr>\n",
       "      <th>Total Assets</th>\n",
       "      <td>5.555600e+10</td>\n",
       "      <td>4.540000e+10</td>\n",
       "      <td>4.083000e+10</td>\n",
       "      <td>3.634700e+10</td>\n",
       "    </tr>\n",
       "    <tr>\n",
       "      <th>Common Stock</th>\n",
       "      <td>4.000000e+06</td>\n",
       "      <td>4.000000e+06</td>\n",
       "      <td>4.000000e+06</td>\n",
       "      <td>4.000000e+06</td>\n",
       "    </tr>\n",
       "    <tr>\n",
       "      <th>Other Current Assets</th>\n",
       "      <td>1.023000e+09</td>\n",
       "      <td>1.111000e+09</td>\n",
       "      <td>3.210000e+08</td>\n",
       "      <td>2.720000e+08</td>\n",
       "    </tr>\n",
       "    <tr>\n",
       "      <th>Retained Earnings</th>\n",
       "      <td>1.287900e+10</td>\n",
       "      <td>1.025800e+10</td>\n",
       "      <td>7.887000e+09</td>\n",
       "      <td>5.988000e+09</td>\n",
       "    </tr>\n",
       "    <tr>\n",
       "      <th>Other Liab</th>\n",
       "      <td>1.278000e+09</td>\n",
       "      <td>1.085000e+09</td>\n",
       "      <td>1.314000e+09</td>\n",
       "      <td>1.200000e+09</td>\n",
       "    </tr>\n",
       "    <tr>\n",
       "      <th>Good Will</th>\n",
       "      <td>9.880000e+08</td>\n",
       "      <td>5.300000e+07</td>\n",
       "      <td>NaN</td>\n",
       "      <td>NaN</td>\n",
       "    </tr>\n",
       "    <tr>\n",
       "      <th>Treasury Stock</th>\n",
       "      <td>-1.297000e+09</td>\n",
       "      <td>-1.436000e+09</td>\n",
       "      <td>-1.199000e+09</td>\n",
       "      <td>-1.014000e+09</td>\n",
       "    </tr>\n",
       "    <tr>\n",
       "      <th>Other Assets</th>\n",
       "      <td>1.261000e+09</td>\n",
       "      <td>9.720000e+08</td>\n",
       "      <td>8.600000e+08</td>\n",
       "      <td>8.690000e+08</td>\n",
       "    </tr>\n",
       "    <tr>\n",
       "      <th>Cash</th>\n",
       "      <td>1.227700e+10</td>\n",
       "      <td>8.384000e+09</td>\n",
       "      <td>6.055000e+09</td>\n",
       "      <td>4.546000e+09</td>\n",
       "    </tr>\n",
       "    <tr>\n",
       "      <th>Total Current Liabilities</th>\n",
       "      <td>2.484400e+10</td>\n",
       "      <td>2.323700e+10</td>\n",
       "      <td>1.992600e+10</td>\n",
       "      <td>1.749500e+10</td>\n",
       "    </tr>\n",
       "    <tr>\n",
       "      <th>Deferred Long Term Asset Charges</th>\n",
       "      <td>4.060000e+08</td>\n",
       "      <td>3.980000e+08</td>\n",
       "      <td>3.160000e+08</td>\n",
       "      <td>2.540000e+08</td>\n",
       "    </tr>\n",
       "    <tr>\n",
       "      <th>Short Long Term Debt</th>\n",
       "      <td>9.500000e+07</td>\n",
       "      <td>1.699000e+09</td>\n",
       "      <td>9.000000e+07</td>\n",
       "      <td>8.600000e+07</td>\n",
       "    </tr>\n",
       "    <tr>\n",
       "      <th>Other Stockholder Equity</th>\n",
       "      <td>-1.297000e+09</td>\n",
       "      <td>-1.436000e+09</td>\n",
       "      <td>-1.199000e+09</td>\n",
       "      <td>-1.014000e+09</td>\n",
       "    </tr>\n",
       "    <tr>\n",
       "      <th>Property Plant Equipment</th>\n",
       "      <td>2.518700e+10</td>\n",
       "      <td>2.089000e+10</td>\n",
       "      <td>1.968100e+10</td>\n",
       "      <td>1.816100e+10</td>\n",
       "    </tr>\n",
       "    <tr>\n",
       "      <th>Total Current Assets</th>\n",
       "      <td>2.812000e+10</td>\n",
       "      <td>2.348500e+10</td>\n",
       "      <td>2.028900e+10</td>\n",
       "      <td>1.731700e+10</td>\n",
       "    </tr>\n",
       "    <tr>\n",
       "      <th>Net Tangible Assets</th>\n",
       "      <td>1.729600e+10</td>\n",
       "      <td>1.519000e+10</td>\n",
       "      <td>1.279900e+10</td>\n",
       "      <td>1.077800e+10</td>\n",
       "    </tr>\n",
       "    <tr>\n",
       "      <th>Short Term Investments</th>\n",
       "      <td>1.028000e+09</td>\n",
       "      <td>1.060000e+09</td>\n",
       "      <td>1.204000e+09</td>\n",
       "      <td>1.233000e+09</td>\n",
       "    </tr>\n",
       "    <tr>\n",
       "      <th>Net Receivables</th>\n",
       "      <td>1.550000e+09</td>\n",
       "      <td>1.535000e+09</td>\n",
       "      <td>1.669000e+09</td>\n",
       "      <td>1.432000e+09</td>\n",
       "    </tr>\n",
       "    <tr>\n",
       "      <th>Long Term Debt</th>\n",
       "      <td>7.514000e+09</td>\n",
       "      <td>5.124000e+09</td>\n",
       "      <td>6.487000e+09</td>\n",
       "      <td>6.573000e+09</td>\n",
       "    </tr>\n",
       "    <tr>\n",
       "      <th>Inventory</th>\n",
       "      <td>1.224200e+10</td>\n",
       "      <td>1.139500e+10</td>\n",
       "      <td>1.104000e+10</td>\n",
       "      <td>9.834000e+09</td>\n",
       "    </tr>\n",
       "    <tr>\n",
       "      <th>Accounts Payable</th>\n",
       "      <td>1.417200e+10</td>\n",
       "      <td>1.167900e+10</td>\n",
       "      <td>1.123700e+10</td>\n",
       "      <td>9.608000e+09</td>\n",
       "    </tr>\n",
       "  </tbody>\n",
       "</table>\n",
       "</div>"
      ],
      "text/plain": [
       "                                    2020-08-30    2019-09-01    2018-09-02  \\\n",
       "Capital Surplus                   6.698000e+09  6.417000e+09  6.107000e+09   \n",
       "Total Liab                        3.685100e+10  2.981600e+10  2.772700e+10   \n",
       "Total Stockholder Equity          1.828400e+10  1.524300e+10  1.279900e+10   \n",
       "Minority Interest                 4.210000e+08  3.410000e+08  3.040000e+08   \n",
       "Other Current Liab                5.317000e+09  5.452000e+09  4.548000e+09   \n",
       "Total Assets                      5.555600e+10  4.540000e+10  4.083000e+10   \n",
       "Common Stock                      4.000000e+06  4.000000e+06  4.000000e+06   \n",
       "Other Current Assets              1.023000e+09  1.111000e+09  3.210000e+08   \n",
       "Retained Earnings                 1.287900e+10  1.025800e+10  7.887000e+09   \n",
       "Other Liab                        1.278000e+09  1.085000e+09  1.314000e+09   \n",
       "Good Will                         9.880000e+08  5.300000e+07           NaN   \n",
       "Treasury Stock                   -1.297000e+09 -1.436000e+09 -1.199000e+09   \n",
       "Other Assets                      1.261000e+09  9.720000e+08  8.600000e+08   \n",
       "Cash                              1.227700e+10  8.384000e+09  6.055000e+09   \n",
       "Total Current Liabilities         2.484400e+10  2.323700e+10  1.992600e+10   \n",
       "Deferred Long Term Asset Charges  4.060000e+08  3.980000e+08  3.160000e+08   \n",
       "Short Long Term Debt              9.500000e+07  1.699000e+09  9.000000e+07   \n",
       "Other Stockholder Equity         -1.297000e+09 -1.436000e+09 -1.199000e+09   \n",
       "Property Plant Equipment          2.518700e+10  2.089000e+10  1.968100e+10   \n",
       "Total Current Assets              2.812000e+10  2.348500e+10  2.028900e+10   \n",
       "Net Tangible Assets               1.729600e+10  1.519000e+10  1.279900e+10   \n",
       "Short Term Investments            1.028000e+09  1.060000e+09  1.204000e+09   \n",
       "Net Receivables                   1.550000e+09  1.535000e+09  1.669000e+09   \n",
       "Long Term Debt                    7.514000e+09  5.124000e+09  6.487000e+09   \n",
       "Inventory                         1.224200e+10  1.139500e+10  1.104000e+10   \n",
       "Accounts Payable                  1.417200e+10  1.167900e+10  1.123700e+10   \n",
       "\n",
       "                                    2017-09-03  \n",
       "Capital Surplus                   5.800000e+09  \n",
       "Total Liab                        2.526800e+10  \n",
       "Total Stockholder Equity          1.077800e+10  \n",
       "Minority Interest                 3.010000e+08  \n",
       "Other Current Liab                4.137000e+09  \n",
       "Total Assets                      3.634700e+10  \n",
       "Common Stock                      4.000000e+06  \n",
       "Other Current Assets              2.720000e+08  \n",
       "Retained Earnings                 5.988000e+09  \n",
       "Other Liab                        1.200000e+09  \n",
       "Good Will                                  NaN  \n",
       "Treasury Stock                   -1.014000e+09  \n",
       "Other Assets                      8.690000e+08  \n",
       "Cash                              4.546000e+09  \n",
       "Total Current Liabilities         1.749500e+10  \n",
       "Deferred Long Term Asset Charges  2.540000e+08  \n",
       "Short Long Term Debt              8.600000e+07  \n",
       "Other Stockholder Equity         -1.014000e+09  \n",
       "Property Plant Equipment          1.816100e+10  \n",
       "Total Current Assets              1.731700e+10  \n",
       "Net Tangible Assets               1.077800e+10  \n",
       "Short Term Investments            1.233000e+09  \n",
       "Net Receivables                   1.432000e+09  \n",
       "Long Term Debt                    6.573000e+09  \n",
       "Inventory                         9.834000e+09  \n",
       "Accounts Payable                  9.608000e+09  "
      ]
     },
     "execution_count": 7,
     "metadata": {},
     "output_type": "execute_result"
    }
   ],
   "source": [
    "cost.balance_sheet"
   ]
  },
  {
   "cell_type": "code",
   "execution_count": 14,
   "id": "bf24e331-1f52-4e02-9738-eb7f280d5ddc",
   "metadata": {},
   "outputs": [
    {
     "data": {
      "text/html": [
       "<div>\n",
       "<style scoped>\n",
       "    .dataframe tbody tr th:only-of-type {\n",
       "        vertical-align: middle;\n",
       "    }\n",
       "\n",
       "    .dataframe tbody tr th {\n",
       "        vertical-align: top;\n",
       "    }\n",
       "\n",
       "    .dataframe thead th {\n",
       "        text-align: right;\n",
       "    }\n",
       "</style>\n",
       "<table border=\"1\" class=\"dataframe\">\n",
       "  <thead>\n",
       "    <tr style=\"text-align: right;\">\n",
       "      <th></th>\n",
       "      <th>Revenue</th>\n",
       "      <th>Earnings</th>\n",
       "    </tr>\n",
       "    <tr>\n",
       "      <th>Year</th>\n",
       "      <th></th>\n",
       "      <th></th>\n",
       "    </tr>\n",
       "  </thead>\n",
       "  <tbody>\n",
       "    <tr>\n",
       "      <th>2017</th>\n",
       "      <td>177866000000</td>\n",
       "      <td>3033000000</td>\n",
       "    </tr>\n",
       "    <tr>\n",
       "      <th>2018</th>\n",
       "      <td>232887000000</td>\n",
       "      <td>10073000000</td>\n",
       "    </tr>\n",
       "    <tr>\n",
       "      <th>2019</th>\n",
       "      <td>280522000000</td>\n",
       "      <td>11588000000</td>\n",
       "    </tr>\n",
       "    <tr>\n",
       "      <th>2020</th>\n",
       "      <td>386064000000</td>\n",
       "      <td>21331000000</td>\n",
       "    </tr>\n",
       "  </tbody>\n",
       "</table>\n",
       "</div>"
      ],
      "text/plain": [
       "           Revenue     Earnings\n",
       "Year                           \n",
       "2017  177866000000   3033000000\n",
       "2018  232887000000  10073000000\n",
       "2019  280522000000  11588000000\n",
       "2020  386064000000  21331000000"
      ]
     },
     "execution_count": 14,
     "metadata": {},
     "output_type": "execute_result"
    }
   ],
   "source": [
    "amzn.earnings"
   ]
  },
  {
   "cell_type": "code",
   "execution_count": 22,
   "id": "8f376023-720d-4d76-bba7-e2754e3f78d3",
   "metadata": {},
   "outputs": [],
   "source": [
    "import pandas as pd"
   ]
  },
  {
   "cell_type": "code",
   "execution_count": 23,
   "id": "ba5d65db-6fd7-47c5-86fc-b37660143874",
   "metadata": {},
   "outputs": [],
   "source": [
    "import os\n",
    "import requests\n",
    "import pandas as pd\n",
    "from dotenv import load_dotenv\n",
    "import alpaca_trade_api as tradeapi\n",
    "\n",
    "%matplotlib inline"
   ]
  },
  {
   "cell_type": "code",
   "execution_count": 24,
   "id": "3b53ec3f-c927-4dc4-adb7-bf177d0e8b32",
   "metadata": {},
   "outputs": [],
   "source": [
    "retail_numbers2018 = {\n",
    "    \"Revenue (in B)\": [232.89, 141.58, 499.91],\n",
    "    \"EPS\": [20.68, 7.15, 3.29],\n",
    "    \"Std\": [0.022885, 0.014039, 0.015176]\n",
    "}\n",
    "\n",
    "retail_numbers2019 = {\n",
    "    \"Revenue (in B)\": [280.52, 152.7, 514.41],\n",
    "    \"EPS\": [23.46, 8.32, 2.28],\n",
    "    \"Std\": [0.014359, 0.010100, 0.009320]\n",
    "}\n",
    "\n",
    "retail_numbers2020 = {\n",
    "    \"Revenue (in B)\": [386.06, 166.76, 523.96],\n",
    "    \"EPS\": [42.66, 9.05, 5.22],\n",
    "    \"Std\": [0.024488, 0.018572, 0.019947]\n",
    "}\n",
    "\n",
    "tickers = [\"AMZN\", \"COST\", \"WMT\"]"
   ]
  },
  {
   "cell_type": "code",
   "execution_count": 28,
   "id": "7170c13c-2fba-489a-9d39-e0d0868d58fc",
   "metadata": {},
   "outputs": [
    {
     "data": {
      "text/html": [
       "<div>\n",
       "<style scoped>\n",
       "    .dataframe tbody tr th:only-of-type {\n",
       "        vertical-align: middle;\n",
       "    }\n",
       "\n",
       "    .dataframe tbody tr th {\n",
       "        vertical-align: top;\n",
       "    }\n",
       "\n",
       "    .dataframe thead th {\n",
       "        text-align: right;\n",
       "    }\n",
       "</style>\n",
       "<table border=\"1\" class=\"dataframe\">\n",
       "  <thead>\n",
       "    <tr style=\"text-align: right;\">\n",
       "      <th></th>\n",
       "      <th>Revenue (in B)</th>\n",
       "      <th>EPS</th>\n",
       "      <th>Std</th>\n",
       "    </tr>\n",
       "  </thead>\n",
       "  <tbody>\n",
       "    <tr>\n",
       "      <th>AMZN</th>\n",
       "      <td>232.89</td>\n",
       "      <td>20.68</td>\n",
       "      <td>0.022885</td>\n",
       "    </tr>\n",
       "    <tr>\n",
       "      <th>COST</th>\n",
       "      <td>141.58</td>\n",
       "      <td>7.15</td>\n",
       "      <td>0.014039</td>\n",
       "    </tr>\n",
       "    <tr>\n",
       "      <th>WMT</th>\n",
       "      <td>499.91</td>\n",
       "      <td>3.29</td>\n",
       "      <td>0.015176</td>\n",
       "    </tr>\n",
       "  </tbody>\n",
       "</table>\n",
       "</div>"
      ],
      "text/plain": [
       "      Revenue (in B)    EPS       Std\n",
       "AMZN          232.89  20.68  0.022885\n",
       "COST          141.58   7.15  0.014039\n",
       "WMT           499.91   3.29  0.015176"
      ]
     },
     "execution_count": 28,
     "metadata": {},
     "output_type": "execute_result"
    }
   ],
   "source": [
    "retail_2018 = pd.DataFrame(retail_numbers2018, index=tickers)\n",
    "retail_2018"
   ]
  },
  {
   "cell_type": "code",
   "execution_count": 30,
   "id": "98435c8a-ee9e-41e8-86c6-61fa8c454ed2",
   "metadata": {},
   "outputs": [
    {
     "data": {
      "text/html": [
       "<div>\n",
       "<style scoped>\n",
       "    .dataframe tbody tr th:only-of-type {\n",
       "        vertical-align: middle;\n",
       "    }\n",
       "\n",
       "    .dataframe tbody tr th {\n",
       "        vertical-align: top;\n",
       "    }\n",
       "\n",
       "    .dataframe thead th {\n",
       "        text-align: right;\n",
       "    }\n",
       "</style>\n",
       "<table border=\"1\" class=\"dataframe\">\n",
       "  <thead>\n",
       "    <tr style=\"text-align: right;\">\n",
       "      <th></th>\n",
       "      <th>Revenue (in B)</th>\n",
       "      <th>EPS</th>\n",
       "      <th>Std</th>\n",
       "    </tr>\n",
       "  </thead>\n",
       "  <tbody>\n",
       "    <tr>\n",
       "      <th>AMZN</th>\n",
       "      <td>280.52</td>\n",
       "      <td>23.46</td>\n",
       "      <td>0.014359</td>\n",
       "    </tr>\n",
       "    <tr>\n",
       "      <th>COST</th>\n",
       "      <td>152.70</td>\n",
       "      <td>8.32</td>\n",
       "      <td>0.010100</td>\n",
       "    </tr>\n",
       "    <tr>\n",
       "      <th>WMT</th>\n",
       "      <td>514.41</td>\n",
       "      <td>2.28</td>\n",
       "      <td>0.009320</td>\n",
       "    </tr>\n",
       "  </tbody>\n",
       "</table>\n",
       "</div>"
      ],
      "text/plain": [
       "      Revenue (in B)    EPS       Std\n",
       "AMZN          280.52  23.46  0.014359\n",
       "COST          152.70   8.32  0.010100\n",
       "WMT           514.41   2.28  0.009320"
      ]
     },
     "execution_count": 30,
     "metadata": {},
     "output_type": "execute_result"
    }
   ],
   "source": [
    "retail_2019 = pd.DataFrame(retail_numbers2019, index=tickers)\n",
    "retail_2019"
   ]
  },
  {
   "cell_type": "code",
   "execution_count": 31,
   "id": "917a6d09-f98d-4bd4-a11b-40e17979db40",
   "metadata": {},
   "outputs": [
    {
     "data": {
      "text/html": [
       "<div>\n",
       "<style scoped>\n",
       "    .dataframe tbody tr th:only-of-type {\n",
       "        vertical-align: middle;\n",
       "    }\n",
       "\n",
       "    .dataframe tbody tr th {\n",
       "        vertical-align: top;\n",
       "    }\n",
       "\n",
       "    .dataframe thead th {\n",
       "        text-align: right;\n",
       "    }\n",
       "</style>\n",
       "<table border=\"1\" class=\"dataframe\">\n",
       "  <thead>\n",
       "    <tr style=\"text-align: right;\">\n",
       "      <th></th>\n",
       "      <th>Revenue (in B)</th>\n",
       "      <th>EPS</th>\n",
       "      <th>Std</th>\n",
       "    </tr>\n",
       "  </thead>\n",
       "  <tbody>\n",
       "    <tr>\n",
       "      <th>AMZN</th>\n",
       "      <td>386.06</td>\n",
       "      <td>42.66</td>\n",
       "      <td>0.024488</td>\n",
       "    </tr>\n",
       "    <tr>\n",
       "      <th>COST</th>\n",
       "      <td>166.76</td>\n",
       "      <td>9.05</td>\n",
       "      <td>0.018572</td>\n",
       "    </tr>\n",
       "    <tr>\n",
       "      <th>WMT</th>\n",
       "      <td>523.96</td>\n",
       "      <td>5.22</td>\n",
       "      <td>0.019947</td>\n",
       "    </tr>\n",
       "  </tbody>\n",
       "</table>\n",
       "</div>"
      ],
      "text/plain": [
       "      Revenue (in B)    EPS       Std\n",
       "AMZN          386.06  42.66  0.024488\n",
       "COST          166.76   9.05  0.018572\n",
       "WMT           523.96   5.22  0.019947"
      ]
     },
     "execution_count": 31,
     "metadata": {},
     "output_type": "execute_result"
    }
   ],
   "source": [
    "retail_2020 = pd.DataFrame(retail_numbers2020, index=tickers)\n",
    "retail_2020"
   ]
  },
  {
   "cell_type": "code",
   "execution_count": 44,
   "id": "c67f0d9d-b67c-4252-b304-be995ef60ff9",
   "metadata": {},
   "outputs": [
    {
     "data": {
      "text/plain": [
       "1747985235968"
      ]
     },
     "execution_count": 44,
     "metadata": {},
     "output_type": "execute_result"
    }
   ],
   "source": [
    "amzn_marketcap = amzn.info[\"marketCap\"]\n",
    "amzn_marketcap"
   ]
  },
  {
   "cell_type": "code",
   "execution_count": 45,
   "id": "eeb5017e-9e0f-4d65-96aa-54e7e2bb5b8e",
   "metadata": {},
   "outputs": [
    {
     "data": {
      "text/plain": [
       "164662476800"
      ]
     },
     "execution_count": 45,
     "metadata": {},
     "output_type": "execute_result"
    }
   ],
   "source": [
    "cost_marketcap = cost.info[\"marketCap\"]\n",
    "cost_marketcap"
   ]
  },
  {
   "cell_type": "code",
   "execution_count": 46,
   "id": "aa2c4130-5462-4c48-aff8-87bce2a83805",
   "metadata": {},
   "outputs": [
    {
     "data": {
      "text/plain": [
       "393633988608"
      ]
     },
     "execution_count": 46,
     "metadata": {},
     "output_type": "execute_result"
    }
   ],
   "source": [
    "wmt_marketcap = wmt.info[\"marketCap\"]\n",
    "wmt_marketcap"
   ]
  },
  {
   "cell_type": "code",
   "execution_count": 50,
   "id": "4721dd33-ced7-4ad1-9c95-39245eb57400",
   "metadata": {},
   "outputs": [
    {
     "data": {
      "text/plain": [
       "2306281701376"
      ]
     },
     "execution_count": 50,
     "metadata": {},
     "output_type": "execute_result"
    }
   ],
   "source": [
    "total_marketcap = (amzn_marketcap + cost_marketcap + wmt_marketcap)\n",
    "total_marketcap"
   ]
  },
  {
   "cell_type": "code",
   "execution_count": 51,
   "id": "f65ffecb-5815-402b-98fa-cbd1725051d0",
   "metadata": {},
   "outputs": [
    {
     "data": {
      "text/html": [
       "<div>\n",
       "<style scoped>\n",
       "    .dataframe tbody tr th:only-of-type {\n",
       "        vertical-align: middle;\n",
       "    }\n",
       "\n",
       "    .dataframe tbody tr th {\n",
       "        vertical-align: top;\n",
       "    }\n",
       "\n",
       "    .dataframe thead th {\n",
       "        text-align: right;\n",
       "    }\n",
       "</style>\n",
       "<table border=\"1\" class=\"dataframe\">\n",
       "  <thead>\n",
       "    <tr style=\"text-align: right;\">\n",
       "      <th></th>\n",
       "      <th>AMZN</th>\n",
       "      <th>COST</th>\n",
       "      <th>WMT</th>\n",
       "    </tr>\n",
       "  </thead>\n",
       "  <tbody>\n",
       "    <tr>\n",
       "      <th>0</th>\n",
       "      <td>1747985235968</td>\n",
       "      <td>164662476800</td>\n",
       "      <td>393633988608</td>\n",
       "    </tr>\n",
       "  </tbody>\n",
       "</table>\n",
       "</div>"
      ],
      "text/plain": [
       "            AMZN          COST           WMT\n",
       "0  1747985235968  164662476800  393633988608"
      ]
     },
     "execution_count": 51,
     "metadata": {},
     "output_type": "execute_result"
    }
   ],
   "source": [
    "marketcap_data = {\n",
    "    \"AMZN\": [amzn_marketcap],\n",
    "    \"COST\": [cost_marketcap],\n",
    "    \"WMT\": [wmt_marketcap]\n",
    "}\n",
    "\n",
    "marketcap_df = pd.DataFrame(marketcap_data)\n",
    "marketcap_df"
   ]
  },
  {
   "cell_type": "code",
   "execution_count": 66,
   "id": "af12d3c2-4fe3-45f4-85b9-0b3feea31918",
   "metadata": {},
   "outputs": [
    {
     "data": {
      "text/plain": [
       "<bound method DataFrame.reset_index of             AMZN          COST           WMT\n",
       "0  1747985235968  164662476800  393633988608>"
      ]
     },
     "execution_count": 66,
     "metadata": {},
     "output_type": "execute_result"
    }
   ],
   "source": [
    "marketcap_df.reset_index"
   ]
  },
  {
   "cell_type": "code",
   "execution_count": 67,
   "id": "73087b2c-ed99-4acc-9cfc-602099885855",
   "metadata": {},
   "outputs": [
    {
     "data": {
      "text/html": [
       "<div>\n",
       "<style scoped>\n",
       "    .dataframe tbody tr th:only-of-type {\n",
       "        vertical-align: middle;\n",
       "    }\n",
       "\n",
       "    .dataframe tbody tr th {\n",
       "        vertical-align: top;\n",
       "    }\n",
       "\n",
       "    .dataframe thead th {\n",
       "        text-align: right;\n",
       "    }\n",
       "</style>\n",
       "<table border=\"1\" class=\"dataframe\">\n",
       "  <thead>\n",
       "    <tr style=\"text-align: right;\">\n",
       "      <th></th>\n",
       "      <th>AMZN</th>\n",
       "      <th>COST</th>\n",
       "      <th>WMT</th>\n",
       "    </tr>\n",
       "  </thead>\n",
       "  <tbody>\n",
       "    <tr>\n",
       "      <th>0</th>\n",
       "      <td>1747985235968</td>\n",
       "      <td>164662476800</td>\n",
       "      <td>393633988608</td>\n",
       "    </tr>\n",
       "  </tbody>\n",
       "</table>\n",
       "</div>"
      ],
      "text/plain": [
       "            AMZN          COST           WMT\n",
       "0  1747985235968  164662476800  393633988608"
      ]
     },
     "execution_count": 67,
     "metadata": {},
     "output_type": "execute_result"
    }
   ],
   "source": [
    "marketcap_df"
   ]
  },
  {
   "cell_type": "code",
   "execution_count": 68,
   "id": "0215c4c4-7526-420f-b234-ebb23b9c4bbf",
   "metadata": {},
   "outputs": [
    {
     "name": "stdout",
     "output_type": "stream",
     "text": [
      "                  0\n",
      "AMZN  1747985235968\n",
      "COST   164662476800\n",
      "WMT    393633988608\n"
     ]
    }
   ],
   "source": [
    "marketcap_retail = marketcap_df.transpose()\n",
    "print(marketcap_retail)"
   ]
  },
  {
   "cell_type": "code",
   "execution_count": 73,
   "id": "eb2602a1-a3ea-43c9-8215-8ef524790910",
   "metadata": {},
   "outputs": [
    {
     "data": {
      "text/plain": [
       "array(['AMZN', 'COST', 'WMT'], dtype=object)"
      ]
     },
     "execution_count": 73,
     "metadata": {},
     "output_type": "execute_result"
    }
   ],
   "source": [
    "marketcap_retail.index.values"
   ]
  },
  {
   "cell_type": "code",
   "execution_count": 72,
   "id": "ab70a509-99f5-4af4-a9a4-82ad3e0061e9",
   "metadata": {},
   "outputs": [
    {
     "name": "stdout",
     "output_type": "stream",
     "text": [
      "                  0\n",
      "AMZN  1747985235968\n",
      "COST   164662476800\n",
      "WMT    393633988608\n"
     ]
    }
   ],
   "source": [
    "print(marketcap_retail)"
   ]
  },
  {
   "cell_type": "code",
   "execution_count": 74,
   "id": "338f979a-a887-41a4-9911-bd6c14b52695",
   "metadata": {},
   "outputs": [
    {
     "data": {
      "text/html": [
       "<div>\n",
       "<style scoped>\n",
       "    .dataframe tbody tr th:only-of-type {\n",
       "        vertical-align: middle;\n",
       "    }\n",
       "\n",
       "    .dataframe tbody tr th {\n",
       "        vertical-align: top;\n",
       "    }\n",
       "\n",
       "    .dataframe thead th {\n",
       "        text-align: right;\n",
       "    }\n",
       "</style>\n",
       "<table border=\"1\" class=\"dataframe\">\n",
       "  <thead>\n",
       "    <tr style=\"text-align: right;\">\n",
       "      <th></th>\n",
       "      <th>Market Capitalization</th>\n",
       "    </tr>\n",
       "  </thead>\n",
       "  <tbody>\n",
       "    <tr>\n",
       "      <th>AMZN</th>\n",
       "      <td>1747985235968</td>\n",
       "    </tr>\n",
       "    <tr>\n",
       "      <th>COST</th>\n",
       "      <td>164662476800</td>\n",
       "    </tr>\n",
       "    <tr>\n",
       "      <th>WMT</th>\n",
       "      <td>393633988608</td>\n",
       "    </tr>\n",
       "  </tbody>\n",
       "</table>\n",
       "</div>"
      ],
      "text/plain": [
       "      Market Capitalization\n",
       "AMZN          1747985235968\n",
       "COST           164662476800\n",
       "WMT            393633988608"
      ]
     },
     "execution_count": 74,
     "metadata": {},
     "output_type": "execute_result"
    }
   ],
   "source": [
    "marketcap_retail.columns = ['Market Capitalization']\n",
    "marketcap_retail"
   ]
  },
  {
   "cell_type": "code",
   "execution_count": 76,
   "id": "7bf1d649-6ce1-4a5c-af19-ca89878240b8",
   "metadata": {},
   "outputs": [
    {
     "data": {
      "text/plain": [
       "<AxesSubplot:title={'center':'Market Capitalization Comparison'}>"
      ]
     },
     "execution_count": 76,
     "metadata": {},
     "output_type": "execute_result"
    },
    {
     "data": {
      "image/png": "[encoded data removed]",
      "text/plain": [
       "<Figure size 432x288 with 1 Axes>"
      ]
     },
     "metadata": {
      "needs_background": "light"
     },
     "output_type": "display_data"
    }
   ],
   "source": [
    "marketcap_retail.plot.bar(title=\"Market Capitalization Comparison\", rot=0)"
   ]
  },
  {
   "cell_type": "code",
   "execution_count": null,
   "id": "07dfc8e7-a5ec-4e7c-8c2e-67b49671295a",
   "metadata": {},
   "outputs": [],
   "source": []
  }
 ],
 "metadata": {
  "kernelspec": {
   "display_name": "Python 3",
   "language": "python",
   "name": "python3"
  },
  "language_info": {
   "codemirror_mode": {
    "name": "ipython",
    "version": 3
   },
   "file_extension": ".py",
   "mimetype": "text/x-python",
   "name": "python",
   "nbconvert_exporter": "python",
   "pygments_lexer": "ipython3",
   "version": "3.8.5"
  }
 },
 "nbformat": 4,
 "nbformat_minor": 5
}
