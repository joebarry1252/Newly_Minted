{
 "cells": [
  {
   "cell_type": "code",
   "execution_count": 1,
   "id": "152fe7dc-6756-4ffe-aa20-a92cc2afd105",
   "metadata": {},
   "outputs": [],
   "source": [
    "import numpy as np\n",
    "import pandas as pd\n",
    "import os\n",
    "import alpaca_trade_api as tradeapi\n",
    "import datetime as dt\n",
    "import pytz\n",
    "import os\n",
    "import alpaca_trade_api as tradeapi\n",
    "from MCForecastTools import MCSimulation\n",
    "from urllib.request import urlopen\n",
    "\n",
    "##I don't think all of these are necessary for the FMP API, but I was running all of them in the workbook I was in before I started this ipynb. "
   ]
  },
  {
   "cell_type": "code",
   "execution_count": 2,
   "id": "d5dfa7ca-f8e9-4020-93de-bb7982e31645",
   "metadata": {},
   "outputs": [],
   "source": [
    "import json"
   ]
  },
  {
   "cell_type": "code",
   "execution_count": 3,
   "id": "fede7361-3368-4cac-97cf-4d692d1364eb",
   "metadata": {},
   "outputs": [],
   "source": [
    "from pprint import pprint"
   ]
  },
  {
   "cell_type": "code",
   "execution_count": 4,
   "id": "f411ba7d-f33e-4a95-8bf8-c4a2b543d4b5",
   "metadata": {},
   "outputs": [],
   "source": [
    "#Definining the URLS\n",
    "\n",
    "##Use your API Key from FMP below at end of url. ex: \"https://financialmodelingprep.com/api/v3/profile/AMZN?apikey=yourkeyhere\"\n",
    "\n",
    "profile_url_amzn = (\"https://financialmodelingprep.com/api/v3/profile/AMZN?apikey=30f38fe4adae4904fc1497cf7bea1fca\")\n",
    "\n",
    "quote_url_amzn = (\"https://financialmodelingprep.com/api/v3/quote/AMZN?apikey=30f38fe4adae4904fc1497cf7bea1fca\")\n"
   ]
  },
  {
   "cell_type": "code",
   "execution_count": 5,
   "id": "47fc52da-ed1e-44a5-a514-78d31dc9bd57",
   "metadata": {},
   "outputs": [],
   "source": [
    "# Example pulling quote information\n",
    "\n",
    "def get_jsonparsed_data(quote_url_amzn):\n",
    "    response = urlopen(quote_url_amzn)\n",
    "    data = response.read().decode(\"utf-8\")\n",
    "    return json.loads(data)"
   ]
  },
  {
   "cell_type": "code",
   "execution_count": 6,
   "id": "ce4d2ef4-e477-40c4-9ca0-311b9705da58",
   "metadata": {},
   "outputs": [
    {
     "name": "stdout",
     "output_type": "stream",
     "text": [
      "[{'avgVolume': 3516283,\n",
      "  'change': -74.62,\n",
      "  'changesPercentage': -2.2,\n",
      "  'dayHigh': 3367.975,\n",
      "  'dayLow': 3272.13,\n",
      "  'earningsAnnouncement': '2021-04-29T20:00:00.000+0000',\n",
      "  'eps': 52.562,\n",
      "  'exchange': 'NASDAQ',\n",
      "  'marketCap': 1670255607808.0,\n",
      "  'name': 'Amazon.com, Inc.',\n",
      "  'open': 3356.19,\n",
      "  'pe': 63.00883,\n",
      "  'previousClose': 3386.49,\n",
      "  'price': 3311.87,\n",
      "  'priceAvg200': 3202.349,\n",
      "  'priceAvg50': 3252.9485,\n",
      "  'sharesOutstanding': 504324025,\n",
      "  'symbol': 'AMZN',\n",
      "  'timestamp': 1620179964,\n",
      "  'volume': 5318791,\n",
      "  'yearHigh': 3554.0,\n",
      "  'yearLow': 2307.13}]\n"
     ]
    }
   ],
   "source": [
    "pprint(get_jsonparsed_data(quote_url_amzn))"
   ]
  },
  {
   "cell_type": "code",
   "execution_count": 7,
   "id": "b69486b2-4d50-4b7a-bb4a-60ac014b3b2b",
   "metadata": {},
   "outputs": [],
   "source": [
    "# Example pulling company profile information.\n",
    "\n",
    "def get_jsonparsed_data(profile_url_amzn):\n",
    "    response = urlopen(profile_url_amzn)\n",
    "    data = response.read().decode(\"utf-8\")\n",
    "    return json.loads(data)"
   ]
  },
  {
   "cell_type": "code",
   "execution_count": 8,
   "id": "37268b39-a3e8-42d1-b78b-9a57f67491ce",
   "metadata": {},
   "outputs": [
    {
     "name": "stdout",
     "output_type": "stream",
     "text": [
      "[{'address': '410 Terry Ave N',\n",
      "  'beta': 1.123,\n",
      "  'ceo': 'Mr. Jeffrey Bezos',\n",
      "  'changes': -74.62,\n",
      "  'cik': '0001018724',\n",
      "  'city': 'Seattle',\n",
      "  'companyName': 'Amazon.com Inc',\n",
      "  'country': 'US',\n",
      "  'currency': 'USD',\n",
      "  'cusip': '023135106',\n",
      "  'dcf': 3256.55,\n",
      "  'dcfDiff': -1002.74,\n",
      "  'defaultImage': False,\n",
      "  'description': 'Amazon.com, Inc. engages in the retail sale of consumer '\n",
      "                 'products and subscriptions in North America and '\n",
      "                 'internationally. The company operates through three '\n",
      "                 'segments: North America, International, and Amazon Web '\n",
      "                 'Services (AWS). It sells merchandise and content purchased '\n",
      "                 'for resale from third-party sellers through physical and '\n",
      "                 'online stores. The company also manufactures and sells '\n",
      "                 'electronic devices, including Kindle, Fire tablets, Fire '\n",
      "                 'TVs, Rings, and Echo and other devices; provides Kindle '\n",
      "                 'Direct Publishing, an online service that allows independent '\n",
      "                 'authors and publishers to make their books available in the '\n",
      "                 'Kindle Store; and develops and produces media content. In '\n",
      "                 'addition, it offers programs that enable sellers to sell '\n",
      "                 'their products on its Websites, as well as its stores; and '\n",
      "                 'programs that allow authors, musicians, filmmakers, skill '\n",
      "                 'and app developers, and others to publish and sell content. '\n",
      "                 'Further, the company provides compute, storage, database, '\n",
      "                 'and other AWS services, as well as fulfillment, advertising, '\n",
      "                 'publishing, and digital content subscriptions. Additionally, '\n",
      "                 'it offers Amazon Prime, a membership program, which provides '\n",
      "                 'free shipping of various items; access to streaming of '\n",
      "                 'movies and TV episodes; and other services. The company also '\n",
      "                 'operates in the food delivery business in Bengaluru, India. '\n",
      "                 'It serves consumers, sellers, developers, enterprises, and '\n",
      "                 'content creators. The company also has utility-scale solar '\n",
      "                 'projects in China, Australia, and the United States. '\n",
      "                 'Amazon.com, Inc. was founded in 1994 and is headquartered in '\n",
      "                 'Seattle, Washington.',\n",
      "  'exchange': 'Nasdaq Global Select',\n",
      "  'exchangeShortName': 'NASDAQ',\n",
      "  'fullTimeEmployees': '1271000',\n",
      "  'image': 'https://financialmodelingprep.com/image-stock/AMZN.png',\n",
      "  'industry': 'Internet Retail',\n",
      "  'ipoDate': '1997-05-01',\n",
      "  'isActivelyTrading': True,\n",
      "  'isEtf': False,\n",
      "  'isin': 'US0231351067',\n",
      "  'lastDiv': 0.0,\n",
      "  'mktCap': 1670255607808,\n",
      "  'phone': '12062661000',\n",
      "  'price': 3311.87,\n",
      "  'range': '2307.13-3554.0',\n",
      "  'sector': 'Consumer Cyclical',\n",
      "  'state': 'WASHINGTON',\n",
      "  'symbol': 'AMZN',\n",
      "  'volAvg': 3516283,\n",
      "  'website': 'http://www.amazon.com/',\n",
      "  'zip': '98109-5210'}]\n"
     ]
    }
   ],
   "source": [
    "pprint(get_jsonparsed_data(profile_url_amzn))"
   ]
  },
  {
   "cell_type": "code",
   "execution_count": 9,
   "id": "087d8d6d-3cf9-47ec-bd94-847bcea6da72",
   "metadata": {},
   "outputs": [],
   "source": [
    "AMZN_DCF = (\"https://financialmodelingprep.com/api/v3/company/discounted-cash-flow/AMZN?apikey=30f38fe4adae4904fc1497cf7bea1fca\")"
   ]
  },
  {
   "cell_type": "code",
   "execution_count": 45,
   "id": "c2669243-8df3-4080-a3bc-759c2318ca60",
   "metadata": {},
   "outputs": [
    {
     "name": "stdout",
     "output_type": "stream",
     "text": [
      "{'Stock Price': 3311.87,\n",
      " 'date': '2021-05-05',\n",
      " 'dcf': 3397.137206477733,\n",
      " 'symbol': 'AMZN'}\n"
     ]
    }
   ],
   "source": [
    "pprint(get_jsonparsed_data(AMZN_DCF))"
   ]
  },
  {
   "cell_type": "code",
   "execution_count": 11,
   "id": "9b629bb8-6fa9-4d8f-a0ff-aa46527eef71",
   "metadata": {},
   "outputs": [],
   "source": [
    "COST_DCF = (\"https://financialmodelingprep.com/api/v3/company/discounted-cash-flow/COST?apikey=30f38fe4adae4904fc1497cf7bea1fca\")"
   ]
  },
  {
   "cell_type": "code",
   "execution_count": 43,
   "id": "b06de5bc-2432-4fa4-b0b1-9779f1607975",
   "metadata": {},
   "outputs": [
    {
     "name": "stdout",
     "output_type": "stream",
     "text": [
      "{'Stock Price': 375.29,\n",
      " 'date': '2021-05-05',\n",
      " 'dcf': 402.91961862709354,\n",
      " 'symbol': 'COST'}\n"
     ]
    }
   ],
   "source": [
    "pprint(get_jsonparsed_data(COST_DCF))"
   ]
  },
  {
   "cell_type": "code",
   "execution_count": 13,
   "id": "8d278ab7-9c30-4cfc-a026-8c52410ea610",
   "metadata": {},
   "outputs": [],
   "source": [
    "TGT_DCF = (\"https://financialmodelingprep.com/api/v3/company/discounted-cash-flow/TGT?apikey=30f38fe4adae4904fc1497cf7bea1fca\")"
   ]
  },
  {
   "cell_type": "code",
   "execution_count": 42,
   "id": "15bb6985-b6cd-41b2-958d-2deb0b724f4c",
   "metadata": {},
   "outputs": [
    {
     "name": "stdout",
     "output_type": "stream",
     "text": [
      "{'Stock Price': 211.61,\n",
      " 'date': '2021-05-05',\n",
      " 'dcf': 211.62685346534653,\n",
      " 'symbol': 'TGT'}\n"
     ]
    }
   ],
   "source": [
    "pprint(get_jsonparsed_data(TGT_DCF))"
   ]
  },
  {
   "cell_type": "code",
   "execution_count": 15,
   "id": "9fb30520-608f-49f7-aca3-d7925d8db701",
   "metadata": {},
   "outputs": [],
   "source": [
    "WMT_DCF = (\"https://financialmodelingprep.com/api/v3/company/discounted-cash-flow/WMT?apikey=30f38fe4adae4904fc1497cf7bea1fca\")"
   ]
  },
  {
   "cell_type": "code",
   "execution_count": 44,
   "id": "ad48b717-3cc5-4669-8e70-be09af809cf5",
   "metadata": {},
   "outputs": [
    {
     "name": "stdout",
     "output_type": "stream",
     "text": [
      "{'Stock Price': 140.72,\n",
      " 'date': '2021-05-05',\n",
      " 'dcf': 146.94491228070174,\n",
      " 'symbol': 'WMT'}\n"
     ]
    }
   ],
   "source": [
    "pprint(get_jsonparsed_data(WMT_DCF))"
   ]
  },
  {
   "cell_type": "code",
   "execution_count": 39,
   "id": "82edbf5b-d719-442b-a68a-9b2a8238a15f",
   "metadata": {},
   "outputs": [],
   "source": [
    "BA_DCF = (\"https://financialmodelingprep.com/api/v3/company/discounted-cash-flow/BA?apikey=30f38fe4adae4904fc1497cf7bea1fca\")"
   ]
  },
  {
   "cell_type": "code",
   "execution_count": 41,
   "id": "18484c8b-3f8e-4a1b-b85f-d0b6d7d5422b",
   "metadata": {},
   "outputs": [
    {
     "name": "stdout",
     "output_type": "stream",
     "text": [
      "{'Stock Price': 233.63,\n",
      " 'date': '2021-05-05',\n",
      " 'dcf': 247.2813207512827,\n",
      " 'symbol': 'BA'}\n"
     ]
    }
   ],
   "source": [
    "pprint(get_jsonparsed_data(BA_DCF))"
   ]
  },
  {
   "cell_type": "markdown",
   "id": "5e52587c-b1a7-48f7-8769-288773abeca8",
   "metadata": {},
   "source": [
    "### stock_list_url = (\"https://financialmodelingprep.com/api/v3/stock/list?apikey=30f38fe4adae4904fc1497cf7bea1fca\")"
   ]
  },
  {
   "cell_type": "code",
   "execution_count": 20,
   "id": "60397521-621d-4a47-b974-cd7aa2e3d313",
   "metadata": {},
   "outputs": [
    {
     "name": "stdout",
     "output_type": "stream",
     "text": [
      "[{'averageInventory': 22146000000,\n",
      "  'averagePayables': 59861000000,\n",
      "  'averageReceivables': 22679000000,\n",
      "  'bookValuePerShare': 186.808,\n",
      "  'capexPerShare': -80.28,\n",
      "  'capexToDepreciation': -0.6290732436472347,\n",
      "  'capexToOperatingCashFlow': -1.6458395615346288,\n",
      "  'capexToRevenue': -9.617937219730942,\n",
      "  'cashPerShare': 168.792,\n",
      "  'currentRatio': 1.0502274795268425,\n",
      "  'date': '2020-12-31',\n",
      "  'daysOfInventoryOnHand': 29.761688552003946,\n",
      "  'daysPayablesOutstanding': 90.72843563243599,\n",
      "  'daysSalesOutstanding': 23.202966347548593,\n",
      "  'debtToAssets': 0.709198461993493,\n",
      "  'debtToEquity': 0.3406278103721468,\n",
      "  'dividendYield': None,\n",
      "  'earningsYield': 0.013306094645374161,\n",
      "  'enterpriseValue': 1592852975500,\n",
      "  'enterpriseValueOverEBITDA': 33.08105868120457,\n",
      "  'evToFreeCashFlow': 61.44317911973461,\n",
      "  'evToOperatingCashFlow': 24.11075586552434,\n",
      "  'evToSales': 4.12587802929048,\n",
      "  'freeCashFlowPerShare': 51.848,\n",
      "  'freeCashFlowYield': 0.016171168608442164,\n",
      "  'grahamNetNet': -226.182,\n",
      "  'grahamNumber': 423.4572766643643,\n",
      "  'incomeQuality': 3.097088744081384,\n",
      "  'intangiblesToTotalAssets': 0.062261243170036895,\n",
      "  'interestCoverage': 13.903460837887067,\n",
      "  'interestDebtPerShare': 67.044,\n",
      "  'inventoryTurnover': 12.264089094347552,\n",
      "  'investedCapital': 0.3412594749689521,\n",
      "  'marketCap': 1603099975500,\n",
      "  'netCurrentAssetValue': -95058000000,\n",
      "  'netDebtToEBITDA': -0.2128141225337487,\n",
      "  'netIncomePerShare': 42.662,\n",
      "  'operatingCashFlowPerShare': 132.128,\n",
      "  'payablesTurnover': 4.022994527081983,\n",
      "  'payoutRatio': 0.0,\n",
      "  'pbRatio': 17.16307626547043,\n",
      "  'peRatio': 75.15353126904506,\n",
      "  'period': 'FY',\n",
      "  'pfcfRatio': 61.83844991127912,\n",
      "  'pocfratio': 24.265863034330348,\n",
      "  'priceToSalesRatio': 4.152420260630362,\n",
      "  'ptbRatio': 17.16307626547043,\n",
      "  'receivablesTurnover': 15.730747290359384,\n",
      "  'researchAndDdevelopementToRevenue': 0.11070703303079282,\n",
      "  'returnOnTangibleAssets': 0.07082075850689083,\n",
      "  'revenuePerShare': 772.128,\n",
      "  'roe': 0.22837351719412444,\n",
      "  'roic': 0.11754530054925312,\n",
      "  'salesGeneralAndAdministrativeToRevenue': 0.017271747689502258,\n",
      "  'shareholdersEquityPerShare': 186.808,\n",
      "  'stockBasedCompensationToRevenue': 0.023850967715197482,\n",
      "  'symbol': 'AMZN',\n",
      "  'tangibleAssetValue': 73406000000,\n",
      "  'tangibleBookValuePerShare': 146.812,\n",
      "  'workingCapital': 6348000000},\n",
      " {'averageInventory': 20497000000,\n",
      "  'averagePayables': 47183000000,\n",
      "  'averageReceivables': 20816000000,\n",
      "  'bookValuePerShare': 125.62753036437248,\n",
      "  'capexPerShare': -34.13157894736842,\n",
      "  'capexToDepreciation': -1.2922721072297016,\n",
      "  'capexToOperatingCashFlow': -2.2842061562184925,\n",
      "  'capexToRevenue': -16.63732874681217,\n",
      "  'cashPerShare': 111.37854251012146,\n",
      "  'currentRatio': 1.0970482394205803,\n",
      "  'date': '2019-12-31',\n",
      "  'daysOfInventoryOnHand': 36.35844737762917,\n",
      "  'daysPayablesOutstanding': 83.6952052797325,\n",
      "  'daysSalesOutstanding': 27.084649332316182,\n",
      "  'debtToAssets': 0.7244814604347208,\n",
      "  'debtToEquity': 0.37728005156300354,\n",
      "  'dividendYield': None,\n",
      "  'earningsYield': 0.012539551726958826,\n",
      "  'enterpriseValue': 911437969400,\n",
      "  'enterpriseValueOverEBITDA': 25.087750327552985,\n",
      "  'evToFreeCashFlow': 42.09291873643375,\n",
      "  'evToOperatingCashFlow': 23.665107997091965,\n",
      "  'evToSales': 3.2490783945644193,\n",
      "  'freeCashFlowPerShare': 43.83198380566802,\n",
      "  'freeCashFlowYield': 0.02343104190057296,\n",
      "  'grahamNetNet': -166.61234817813767,\n",
      "  'grahamNumber': 257.4983431883448,\n",
      "  'incomeQuality': 3.323610631687953,\n",
      "  'intangiblesToTotalAssets': 0.08347687881801392,\n",
      "  'interestCoverage': 9.088125,\n",
      "  'interestDebtPerShare': 50.635627530364374,\n",
      "  'inventoryTurnover': 10.038932526711227,\n",
      "  'investedCapital': 0.37728005156300354,\n",
      "  'marketCap': 924115969400,\n",
      "  'netCurrentAssetValue': -66854000000,\n",
      "  'netDebtToEBITDA': -0.34896779521056975,\n",
      "  'netIncomePerShare': 23.45748987854251,\n",
      "  'operatingCashFlowPerShare': 77.96356275303644,\n",
      "  'payablesTurnover': 4.36106224699574,\n",
      "  'payoutRatio': 0.0,\n",
      "  'pbRatio': 14.890685939413471,\n",
      "  'peRatio': 79.74766736278909,\n",
      "  'period': 'FY',\n",
      "  'pfcfRatio': 42.67842651826537,\n",
      "  'pocfratio': 23.99428699693618,\n",
      "  'priceToSalesRatio': 3.2942727108747265,\n",
      "  'ptbRatio': 14.890685939413471,\n",
      "  'receivablesTurnover': 13.476268255188316,\n",
      "  'researchAndDdevelopementToRevenue': 0.12808621070718162,\n",
      "  'returnOnTangibleAssets': 0.056131172951633605,\n",
      "  'revenuePerShare': 567.8582995951417,\n",
      "  'roe': 0.1867225265871737,\n",
      "  'roic': 0.1058019732821095,\n",
      "  'salesGeneralAndAdministrativeToRevenue': 0.018547564896870834,\n",
      "  'shareholdersEquityPerShare': 125.62753036437248,\n",
      "  'stockBasedCompensationToRevenue': 0.024468669123990275,\n",
      "  'symbol': 'AMZN',\n",
      "  'tangibleAssetValue': 43257000000,\n",
      "  'tangibleBookValuePerShare': 87.56477732793522,\n",
      "  'workingCapital': 8522000000},\n",
      " {'averageInventory': 18835500000,\n",
      "  'averagePayables': 42687500000,\n",
      "  'averageReceivables': 18746500000,\n",
      "  'bookValuePerShare': 89.42299794661191,\n",
      "  'capexPerShare': -27.570841889117045,\n",
      "  'capexToDepreciation': -1.142548596112311,\n",
      "  'capexToOperatingCashFlow': -2.2881507410441646,\n",
      "  'capexToRevenue': -17.344678632605945,\n",
      "  'cashPerShare': 84.70225872689939,\n",
      "  'currentRatio': 1.098112324721089,\n",
      "  'date': '2018-12-31',\n",
      "  'daysOfInventoryOnHand': 36.19587372894568,\n",
      "  'daysPayablesOutstanding': 80.49335096400917,\n",
      "  'daysSalesOutstanding': 26.137590333509383,\n",
      "  'debtToAssets': 0.732250012296493,\n",
      "  'debtToEquity': 0.5395072217502124,\n",
      "  'dividendYield': None,\n",
      "  'earningsYield': 0.012382306948423788,\n",
      "  'enterpriseValue': 805244458700,\n",
      "  'enterpriseValueOverEBITDA': 29.005275509689504,\n",
      "  'evToFreeCashFlow': 46.55668702012026,\n",
      "  'evToOperatingCashFlow': 26.209825170068026,\n",
      "  'evToSales': 3.4576616930099147,\n",
      "  'freeCashFlowPerShare': 35.51540041067762,\n",
      "  'freeCashFlowYield': 0.021261231110884328,\n",
      "  'grahamNetNet': -116.53850102669405,\n",
      "  'grahamNumber': 204.00030102302443,\n",
      "  'incomeQuality': 3.050034746351633,\n",
      "  'intangiblesToTotalAssets': 0.1147139835718853,\n",
      "  'interestCoverage': 8.765702187720537,\n",
      "  'interestDebtPerShare': 51.15400410677618,\n",
      "  'inventoryTurnover': 10.084022359380459,\n",
      "  'investedCapital': 0.5395072217502124,\n",
      "  'marketCap': 813499458700,\n",
      "  'netCurrentAssetValue': -43998000000,\n",
      "  'netDebtToEBITDA': -0.29734889417188964,\n",
      "  'netIncomePerShare': 20.683778234086244,\n",
      "  'operatingCashFlowPerShare': 63.08624229979466,\n",
      "  'payablesTurnover': 4.534536028487642,\n",
      "  'payoutRatio': 0.0,\n",
      "  'pbRatio': 18.68009503547728,\n",
      "  'peRatio': 80.76039498659783,\n",
      "  'period': 'FY',\n",
      "  'pfcfRatio': 47.03396500346901,\n",
      "  'pocfratio': 26.47851637860886,\n",
      "  'priceToSalesRatio': 3.4931080682906304,\n",
      "  'ptbRatio': 18.68009503547728,\n",
      "  'receivablesTurnover': 13.964561971577622,\n",
      "  'researchAndDdevelopementToRevenue': 0.12382400048091993,\n",
      "  'returnOnTangibleAssets': 0.06995624696159455,\n",
      "  'revenuePerShare': 478.2073921971253,\n",
      "  'roe': 0.231302670555007,\n",
      "  'roic': 0.13177801118219337,\n",
      "  'salesGeneralAndAdministrativeToRevenue': 0.01861847161928317,\n",
      "  'shareholdersEquityPerShare': 89.42299794661191,\n",
      "  'stockBasedCompensationToRevenue': 0.02326450166819101,\n",
      "  'symbol': 'AMZN',\n",
      "  'tangibleAssetValue': 24891000000,\n",
      "  'tangibleBookValuePerShare': 51.110882956878854,\n",
      "  'workingCapital': 6710000000},\n",
      " {'averageInventory': 18272000000,\n",
      "  'averagePayables': 40899500000,\n",
      "  'averageReceivables': 16990000000,\n",
      "  'bookValuePerShare': 57.72708333333333,\n",
      "  'capexPerShare': -24.90625,\n",
      "  'capexToDepreciation': -0.9601003764115433,\n",
      "  'capexToOperatingCashFlow': -1.5419489753241322,\n",
      "  'capexToRevenue': -14.877959012965286,\n",
      "  'cashPerShare': 64.55416666666666,\n",
      "  'currentRatio': 1.039977195376881,\n",
      "  'date': '2017-12-31',\n",
      "  'daysOfInventoryOnHand': 42.695924422122275,\n",
      "  'daysPayablesOutstanding': 92.10208261956657,\n",
      "  'daysSalesOutstanding': 27.013931836326222,\n",
      "  'debtToAssets': 0.788980275683497,\n",
      "  'debtToEquity': 0.8929589664008084,\n",
      "  'dividendYield': None,\n",
      "  'earningsYield': 0.004394674186940937,\n",
      "  'enterpriseValue': 694374552000,\n",
      "  'enterpriseValueOverEBITDA': 44.5568886036961,\n",
      "  'evToFreeCashFlow': 107.17310572619232,\n",
      "  'evToOperatingCashFlow': 37.66814321362699,\n",
      "  'evToSales': 3.9039195349307905,\n",
      "  'freeCashFlowPerShare': 13.497916666666667,\n",
      "  'freeCashFlowYield': 0.009387765927197604,\n",
      "  'grahamNetNet': -113.996875,\n",
      "  'grahamNumber': 90.5934196052961,\n",
      "  'incomeQuality': 6.077810748433894,\n",
      "  'intangiblesToTotalAssets': 0.12733988272028024,\n",
      "  'interestCoverage': 4.841981132075472,\n",
      "  'interestDebtPerShare': 53.31458333333333,\n",
      "  'inventoryTurnover': 8.548825325606032,\n",
      "  'investedCapital': 0.8929589664008084,\n",
      "  'marketCap': 690153552000,\n",
      "  'netCurrentAssetValue': -43404000000,\n",
      "  'netDebtToEBITDA': 0.2708547227926078,\n",
      "  'netIncomePerShare': 6.31875,\n",
      "  'operatingCashFlowPerShare': 38.40416666666667,\n",
      "  'payablesTurnover': 3.962993991217934,\n",
      "  'payoutRatio': 0.0,\n",
      "  'pbRatio': 24.907198094481938,\n",
      "  'peRatio': 227.54815430267064,\n",
      "  'period': 'FY',\n",
      "  'pfcfRatio': 106.52161629881155,\n",
      "  'pocfratio': 37.43916415319518,\n",
      "  'priceToSalesRatio': 3.8801881866123935,\n",
      "  'ptbRatio': 24.907198094481938,\n",
      "  'receivablesTurnover': 13.511546642357946,\n",
      "  'researchAndDdevelopementToRevenue': 0.12717438970910686,\n",
      "  'returnOnTangibleAssets': 0.026468509193727147,\n",
      "  'revenuePerShare': 370.5541666666667,\n",
      "  'roe': 0.10945902053484427,\n",
      "  'roic': 0.05591948465823199,\n",
      "  'salesGeneralAndAdministrativeToRevenue': 0.020655999460267842,\n",
      "  'shareholdersEquityPerShare': 57.72708333333333,\n",
      "  'stockBasedCompensationToRevenue': 0.023697615058527206,\n",
      "  'symbol': 'AMZN',\n",
      "  'tangibleAssetValue': 10988000000,\n",
      "  'tangibleBookValuePerShare': 22.891666666666666,\n",
      "  'workingCapital': 2314000000},\n",
      " {'averageInventory': 15979000000,\n",
      "  'averagePayables': 36246000000,\n",
      "  'averageReceivables': 14577500000,\n",
      "  'bookValuePerShare': 40.68565400843882,\n",
      "  'capexPerShare': -14.213080168776372,\n",
      "  'capexToDepreciation': -1.2046905150660532,\n",
      "  'capexToOperatingCashFlow': -2.4407006085794865,\n",
      "  'capexToRevenue': -20.185097224283805,\n",
      "  'cashPerShare': 54.812236286919834,\n",
      "  'currentRatio': 1.044846631367537,\n",
      "  'date': '2016-12-31',\n",
      "  'daysOfInventoryOnHand': 39.507999320010576,\n",
      "  'daysPayablesOutstanding': 87.2443900872653,\n",
      "  'daysSalesOutstanding': 22.382543919639378,\n",
      "  'debtToAssets': 0.7687705330807415,\n",
      "  'debtToEquity': 0.3989629245527612,\n",
      "  'dividendYield': None,\n",
      "  'earningsYield': 0.006023880277272273,\n",
      "  'enterpriseValue': 381960120000,\n",
      "  'enterpriseValueOverEBITDA': 31.04861973662819,\n",
      "  'evToFreeCashFlow': 39.35298990315269,\n",
      "  'evToOperatingCashFlow': 23.229345010034667,\n",
      "  'evToSales': 2.8087987822365372,\n",
      "  'freeCashFlowPerShare': 20.476793248945146,\n",
      "  'freeCashFlowYield': 0.024659545327374393,\n",
      "  'grahamNetNet': -55.17141350210971,\n",
      "  'grahamNumber': 67.66880638073995,\n",
      "  'incomeQuality': 6.935048502741459,\n",
      "  'intangiblesToTotalAssets': 0.05561017721397568,\n",
      "  'interestCoverage': 8.648760330578513,\n",
      "  'interestDebtPerShare': 17.253164556962027,\n",
      "  'inventoryTurnover': 9.238635372131577,\n",
      "  'investedCapital': 0.3989629245527612,\n",
      "  'marketCap': 393600120000,\n",
      "  'netCurrentAssetValue': -18336000000,\n",
      "  'netDebtToEBITDA': -0.9461876117704439,\n",
      "  'netIncomePerShare': 5.0021097046413505,\n",
      "  'operatingCashFlowPerShare': 34.68987341772152,\n",
      "  'payablesTurnover': 4.183650084950018,\n",
      "  'payoutRatio': 0.0,\n",
      "  'pbRatio': 20.409651024112005,\n",
      "  'peRatio': 166.00595529312525,\n",
      "  'period': 'FY',\n",
      "  'pfcfRatio': 40.5522480939625,\n",
      "  'pocfratio': 23.93724502827951,\n",
      "  'priceToSalesRatio': 2.8943951995411323,\n",
      "  'ptbRatio': 20.409651024112005,\n",
      "  'receivablesTurnover': 16.307351001319102,\n",
      "  'researchAndDdevelopementToRevenue': 0.11828336532168517,\n",
      "  'returnOnTangibleAssets': 0.03010258493728099,\n",
      "  'revenuePerShare': 286.89240506329116,\n",
      "  'roe': 0.12294529427015816,\n",
      "  'roic': 0.10574445511039256,\n",
      "  'salesGeneralAndAdministrativeToRevenue': 0.017884062447145684,\n",
      "  'shareholdersEquityPerShare': 40.68565400843882,\n",
      "  'stockBasedCompensationToRevenue': 0.021877091192540464,\n",
      "  'symbol': 'AMZN',\n",
      "  'tangibleAssetValue': 14647000000,\n",
      "  'tangibleBookValuePerShare': 30.90084388185654,\n",
      "  'workingCapital': 1965000000}]\n"
     ]
    }
   ],
   "source": [
    "key_metrics_url = (\"https://financialmodelingprep.com/api/v3/key-metrics/AMZN?apikey=30f38fe4adae4904fc1497cf7bea1fca\")\n",
    "pprint(get_jsonparsed_data(key_metrics_url))"
   ]
  },
  {
   "cell_type": "code",
   "execution_count": null,
   "id": "765bd16c-aca9-44b4-8efb-5e9cd0fab29d",
   "metadata": {},
   "outputs": [],
   "source": []
  }
 ],
 "metadata": {
  "kernelspec": {
   "display_name": "Python 3",
   "language": "python",
   "name": "python3"
  },
  "language_info": {
   "codemirror_mode": {
    "name": "ipython",
    "version": 3
   },
   "file_extension": ".py",
   "mimetype": "text/x-python",
   "name": "python",
   "nbconvert_exporter": "python",
   "pygments_lexer": "ipython3",
   "version": "3.8.5"
  }
 },
 "nbformat": 4,
 "nbformat_minor": 5
}
