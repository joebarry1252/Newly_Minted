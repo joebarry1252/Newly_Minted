{
 "cells": [
  {
   "cell_type": "code",
   "execution_count": 1,
   "id": "152fe7dc-6756-4ffe-aa20-a92cc2afd105",
   "metadata": {},
   "outputs": [],
   "source": [
    "import numpy as np\n",
    "import pandas as pd\n",
    "import os\n",
    "import alpaca_trade_api as tradeapi\n",
    "import datetime as dt\n",
    "import pytz\n",
    "import os\n",
    "import alpaca_trade_api as tradeapi\n",
    "from MCForecastTools import MCSimulation\n",
    "from urllib.request import urlopen\n",
    "\n",
    "##I don't think all of these are necessary for the FMP API, but I was running all of them in the workbook I was in before I started this ipynb. "
   ]
  },
  {
   "cell_type": "code",
   "execution_count": 2,
   "id": "d5dfa7ca-f8e9-4020-93de-bb7982e31645",
   "metadata": {},
   "outputs": [],
   "source": [
    "import json"
   ]
  },
  {
   "cell_type": "code",
   "execution_count": 3,
   "id": "fede7361-3368-4cac-97cf-4d692d1364eb",
   "metadata": {},
   "outputs": [],
   "source": [
    "from pprint import pprint"
   ]
  },
  {
   "cell_type": "code",
   "execution_count": 4,
   "id": "f411ba7d-f33e-4a95-8bf8-c4a2b543d4b5",
   "metadata": {},
   "outputs": [],
   "source": [
    "#Definining the URLS\n",
    "\n",
    "##Use your API Key from FMP below at end of url. ex: \"https://financialmodelingprep.com/api/v3/profile/AMZN?apikey=yourkeyhere\"\n",
    "\n",
    "profile_url_amzn = (\"https://financialmodelingprep.com/api/v3/profile/AMZN?apikey=30f38fe4adae4904fc1497cf7bea1fca\")\n",
    "\n",
    "quote_url_amzn = (\"https://financialmodelingprep.com/api/v3/quote/AMZN?apikey=30f38fe4adae4904fc1497cf7bea1fca\")\n"
   ]
  },
  {
   "cell_type": "code",
   "execution_count": 9,
   "id": "47fc52da-ed1e-44a5-a514-78d31dc9bd57",
   "metadata": {},
   "outputs": [],
   "source": [
    "# Example pulling quote information\n",
    "\n",
    "def get_jsonparsed_data(quote_url_amzn):\n",
    "    response = urlopen(quote_url_amzn)\n",
    "    data = response.read().decode(\"utf-8\")\n",
    "    return json.loads(data)"
   ]
  },
  {
   "cell_type": "code",
   "execution_count": 10,
   "id": "ce4d2ef4-e477-40c4-9ca0-311b9705da58",
   "metadata": {},
   "outputs": [
    {
     "name": "stdout",
     "output_type": "stream",
     "text": [
      "[{'avgVolume': 3602436,\n",
      "  'change': -3.89,\n",
      "  'changesPercentage': -0.11,\n",
      "  'dayHigh': 3553.3853,\n",
      "  'dayLow': 3462.74,\n",
      "  'earningsAnnouncement': '2021-04-29T20:00:00.000+0000',\n",
      "  'eps': 52.562,\n",
      "  'exchange': 'NASDAQ',\n",
      "  'marketCap': 1747985235968.0,\n",
      "  'name': 'Amazon.com, Inc.',\n",
      "  'open': 3525.12,\n",
      "  'pe': 65.968185,\n",
      "  'previousClose': 3471.31,\n",
      "  'price': 3467.42,\n",
      "  'priceAvg200': 3204.9202,\n",
      "  'priceAvg50': 3244.463,\n",
      "  'sharesOutstanding': 504116962,\n",
      "  'symbol': 'AMZN',\n",
      "  'timestamp': 1619918255,\n",
      "  'volume': 7009346,\n",
      "  'yearHigh': 3554.0,\n",
      "  'yearLow': 2256.38}]\n"
     ]
    }
   ],
   "source": [
    "pprint(get_jsonparsed_data(quote_url_amzn))"
   ]
  },
  {
   "cell_type": "code",
   "execution_count": 7,
   "id": "b69486b2-4d50-4b7a-bb4a-60ac014b3b2b",
   "metadata": {},
   "outputs": [],
   "source": [
    "E\n",
    "\n",
    "def get_jsonparsed_data(profile_url_amzn):\n",
    "    response = urlopen(profile_url_amzn)\n",
    "    data = response.read().decode(\"utf-8\")\n",
    "    return json.loads(data)"
   ]
  },
  {
   "cell_type": "code",
   "execution_count": 8,
   "id": "37268b39-a3e8-42d1-b78b-9a57f67491ce",
   "metadata": {},
   "outputs": [
    {
     "name": "stdout",
     "output_type": "stream",
     "text": [
      "[{'address': '410 Terry Ave N',\n",
      "  'beta': 1.123,\n",
      "  'ceo': 'Mr. Jeffrey Bezos',\n",
      "  'changes': -3.89,\n",
      "  'cik': '0001018724',\n",
      "  'city': 'Seattle',\n",
      "  'companyName': 'Amazon.com Inc',\n",
      "  'country': 'US',\n",
      "  'currency': 'USD',\n",
      "  'cusip': '023135106',\n",
      "  'dcf': 3256.55,\n",
      "  'dcfDiff': -1002.74,\n",
      "  'defaultImage': False,\n",
      "  'description': 'Amazon.com, Inc. engages in the retail sale of consumer '\n",
      "                 'products and subscriptions in North America and '\n",
      "                 'internationally. The company operates through three '\n",
      "                 'segments: North America, International, and Amazon Web '\n",
      "                 'Services (AWS). It sells merchandise and content purchased '\n",
      "                 'for resale from third-party sellers through physical and '\n",
      "                 'online stores. The company also manufactures and sells '\n",
      "                 'electronic devices, including Kindle, Fire tablets, Fire '\n",
      "                 'TVs, Rings, and Echo and other devices; provides Kindle '\n",
      "                 'Direct Publishing, an online service that allows independent '\n",
      "                 'authors and publishers to make their books available in the '\n",
      "                 'Kindle Store; and develops and produces media content. In '\n",
      "                 'addition, it offers programs that enable sellers to sell '\n",
      "                 'their products on its Websites, as well as its stores; and '\n",
      "                 'programs that allow authors, musicians, filmmakers, skill '\n",
      "                 'and app developers, and others to publish and sell content. '\n",
      "                 'Further, the company provides compute, storage, database, '\n",
      "                 'and other AWS services, as well as fulfillment, advertising, '\n",
      "                 'publishing, and digital content subscriptions. Additionally, '\n",
      "                 'it offers Amazon Prime, a membership program, which provides '\n",
      "                 'free shipping of various items; access to streaming of '\n",
      "                 'movies and TV episodes; and other services. The company also '\n",
      "                 'operates in the food delivery business in Bengaluru, India. '\n",
      "                 'It serves consumers, sellers, developers, enterprises, and '\n",
      "                 'content creators. The company also has utility-scale solar '\n",
      "                 'projects in China, Australia, and the United States. '\n",
      "                 'Amazon.com, Inc. was founded in 1994 and is headquartered in '\n",
      "                 'Seattle, Washington.',\n",
      "  'exchange': 'Nasdaq Global Select',\n",
      "  'exchangeShortName': 'NASDAQ',\n",
      "  'fullTimeEmployees': '1298000',\n",
      "  'image': 'https://financialmodelingprep.com/image-stock/AMZN.png',\n",
      "  'industry': 'Internet Retail',\n",
      "  'ipoDate': '1997-05-01',\n",
      "  'isActivelyTrading': True,\n",
      "  'isEtf': False,\n",
      "  'isin': 'US0231351067',\n",
      "  'lastDiv': 0.0,\n",
      "  'mktCap': 1747985235968,\n",
      "  'phone': '12062661000',\n",
      "  'price': 3467.42,\n",
      "  'range': '2256.38-3554.0',\n",
      "  'sector': 'Consumer Cyclical',\n",
      "  'state': 'WASHINGTON',\n",
      "  'symbol': 'AMZN',\n",
      "  'volAvg': 3602436,\n",
      "  'website': 'http://www.amazon.com/',\n",
      "  'zip': '98109-5210'}]\n"
     ]
    }
   ],
   "source": [
    "pprint(get_jsonparsed_data(profile_url_amzn))"
   ]
  },
  {
   "cell_type": "code",
   "execution_count": null,
   "id": "087d8d6d-3cf9-47ec-bd94-847bcea6da72",
   "metadata": {},
   "outputs": [],
   "source": []
  }
 ],
 "metadata": {
  "kernelspec": {
   "display_name": "Python 3",
   "language": "python",
   "name": "python3"
  },
  "language_info": {
   "codemirror_mode": {
    "name": "ipython",
    "version": 3
   },
   "file_extension": ".py",
   "mimetype": "text/x-python",
   "name": "python",
   "nbconvert_exporter": "python",
   "pygments_lexer": "ipython3",
   "version": "3.8.5"
  }
 },
 "nbformat": 4,
 "nbformat_minor": 5
}
